{
  "cells": [
    {
      "cell_type": "markdown",
      "metadata": {
        "id": "view-in-github",
        "colab_type": "text"
      },
      "source": [
        "<a href=\"https://colab.research.google.com/github/chandan110791/Automatic_Ticket_Classification/blob/main/Automatic_Ticket_Classification.ipynb\" target=\"_parent\"><img src=\"https://colab.research.google.com/assets/colab-badge.svg\" alt=\"Open In Colab\"/></a>"
      ]
    },
    {
      "cell_type": "markdown",
      "metadata": {
        "id": "rhR-ZUkwJrFn"
      },
      "source": [
        "# Problem Statement \n",
        "\n",
        "You need to build a model that is able to classify customer complaints based on the products/services. By doing so, you can segregate these tickets into their relevant categories and, therefore, help in the quick resolution of the issue.\n",
        "\n",
        "You will be doing topic modelling on the <b>.json</b> data provided by the company. Since this data is not labelled, you need to apply NMF to analyse patterns and classify tickets into the following five clusters based on their products/services:\n",
        "\n",
        "* Credit card / Prepaid card\n",
        "\n",
        "* Bank account services\n",
        "\n",
        "* Theft/Dispute reporting\n",
        "\n",
        "* Mortgages/loans\n",
        "\n",
        "* Others \n",
        "\n",
        "# Objective\n",
        "With the help of topic modelling, you will be able to map each ticket onto its respective department/category. You can then use this data to train any supervised model such as logistic regression, decision tree or random forest. Using this trained model, you can classify any new customer complaint support ticket into its relevant department."
      ]
    },
    {
      "cell_type": "markdown",
      "metadata": {
        "id": "mcgXVNyaLUFS"
      },
      "source": [
        "# Solution structure\n",
        "\n",
        "1. Data loading\n",
        "\n",
        "2. Text preprocessing\n",
        "\n",
        "3. Exploratory data analysis (EDA)\n",
        "\n",
        "4. Feature extraction\n",
        "\n",
        "5. Topic modelling \n",
        "\n",
        "6. Model building using supervised learning\n",
        "\n",
        "  - Model training and evaluation\n",
        "\n",
        "8. Model inference\n",
        "\n",
        "9. Conclusions"
      ]
    },
    {
      "cell_type": "markdown",
      "metadata": {
        "id": "JuLFIymAL58u"
      },
      "source": [
        "## Importing the necessary libraries"
      ]
    },
    {
      "cell_type": "code",
      "execution_count": null,
      "metadata": {
        "id": "YwlOemo5OVzl",
        "colab": {
          "base_uri": "https://localhost:8080/",
          "height": 1000
        },
        "outputId": "521e1a87-cad0-4a33-e310-4c23841c2d8f"
      },
      "outputs": [
        {
          "output_type": "stream",
          "name": "stdout",
          "text": [
            "Looking in indexes: https://pypi.org/simple, https://us-python.pkg.dev/colab-wheels/public/simple/\n",
            "Collecting swifter\n",
            "  Downloading swifter-1.3.4.tar.gz (830 kB)\n",
            "\u001b[K     |████████████████████████████████| 830 kB 4.8 MB/s \n",
            "\u001b[?25hRequirement already satisfied: pandas>=1.0.0 in /usr/local/lib/python3.7/dist-packages (from swifter) (1.3.5)\n",
            "Collecting psutil>=5.6.6\n",
            "  Downloading psutil-5.9.4-cp36-abi3-manylinux_2_12_x86_64.manylinux2010_x86_64.manylinux_2_17_x86_64.manylinux2014_x86_64.whl (280 kB)\n",
            "\u001b[K     |████████████████████████████████| 280 kB 73.2 MB/s \n",
            "\u001b[?25hRequirement already satisfied: dask[dataframe]>=2.10.0 in /usr/local/lib/python3.7/dist-packages (from swifter) (2022.2.0)\n",
            "Requirement already satisfied: tqdm>=4.33.0 in /usr/local/lib/python3.7/dist-packages (from swifter) (4.64.1)\n",
            "Requirement already satisfied: ipywidgets>=7.0.0 in /usr/local/lib/python3.7/dist-packages (from swifter) (7.7.1)\n",
            "Requirement already satisfied: cloudpickle>=0.2.2 in /usr/local/lib/python3.7/dist-packages (from swifter) (1.5.0)\n",
            "Requirement already satisfied: parso>0.4.0 in /usr/local/lib/python3.7/dist-packages (from swifter) (0.8.3)\n",
            "Requirement already satisfied: bleach>=3.1.1 in /usr/local/lib/python3.7/dist-packages (from swifter) (5.0.1)\n",
            "Requirement already satisfied: six>=1.9.0 in /usr/local/lib/python3.7/dist-packages (from bleach>=3.1.1->swifter) (1.15.0)\n",
            "Requirement already satisfied: webencodings in /usr/local/lib/python3.7/dist-packages (from bleach>=3.1.1->swifter) (0.5.1)\n",
            "Requirement already satisfied: fsspec>=0.6.0 in /usr/local/lib/python3.7/dist-packages (from dask[dataframe]>=2.10.0->swifter) (2022.10.0)\n",
            "Requirement already satisfied: packaging>=20.0 in /usr/local/lib/python3.7/dist-packages (from dask[dataframe]>=2.10.0->swifter) (21.3)\n",
            "Requirement already satisfied: pyyaml>=5.3.1 in /usr/local/lib/python3.7/dist-packages (from dask[dataframe]>=2.10.0->swifter) (6.0)\n",
            "Requirement already satisfied: toolz>=0.8.2 in /usr/local/lib/python3.7/dist-packages (from dask[dataframe]>=2.10.0->swifter) (0.12.0)\n",
            "Requirement already satisfied: partd>=0.3.10 in /usr/local/lib/python3.7/dist-packages (from dask[dataframe]>=2.10.0->swifter) (1.3.0)\n",
            "Requirement already satisfied: numpy>=1.18 in /usr/local/lib/python3.7/dist-packages (from dask[dataframe]>=2.10.0->swifter) (1.21.6)\n",
            "Requirement already satisfied: widgetsnbextension~=3.6.0 in /usr/local/lib/python3.7/dist-packages (from ipywidgets>=7.0.0->swifter) (3.6.1)\n",
            "Requirement already satisfied: ipython-genutils~=0.2.0 in /usr/local/lib/python3.7/dist-packages (from ipywidgets>=7.0.0->swifter) (0.2.0)\n",
            "Requirement already satisfied: jupyterlab-widgets>=1.0.0 in /usr/local/lib/python3.7/dist-packages (from ipywidgets>=7.0.0->swifter) (3.0.3)\n",
            "Requirement already satisfied: ipython>=4.0.0 in /usr/local/lib/python3.7/dist-packages (from ipywidgets>=7.0.0->swifter) (7.9.0)\n",
            "Requirement already satisfied: traitlets>=4.3.1 in /usr/local/lib/python3.7/dist-packages (from ipywidgets>=7.0.0->swifter) (5.1.1)\n",
            "Requirement already satisfied: ipykernel>=4.5.1 in /usr/local/lib/python3.7/dist-packages (from ipywidgets>=7.0.0->swifter) (5.3.4)\n",
            "Requirement already satisfied: jupyter-client in /usr/local/lib/python3.7/dist-packages (from ipykernel>=4.5.1->ipywidgets>=7.0.0->swifter) (6.1.12)\n",
            "Requirement already satisfied: tornado>=4.2 in /usr/local/lib/python3.7/dist-packages (from ipykernel>=4.5.1->ipywidgets>=7.0.0->swifter) (6.0.4)\n",
            "Requirement already satisfied: pygments in /usr/local/lib/python3.7/dist-packages (from ipython>=4.0.0->ipywidgets>=7.0.0->swifter) (2.6.1)\n",
            "Collecting jedi>=0.10\n",
            "  Downloading jedi-0.18.1-py2.py3-none-any.whl (1.6 MB)\n",
            "\u001b[K     |████████████████████████████████| 1.6 MB 84.7 MB/s \n",
            "\u001b[?25hRequirement already satisfied: pickleshare in /usr/local/lib/python3.7/dist-packages (from ipython>=4.0.0->ipywidgets>=7.0.0->swifter) (0.7.5)\n",
            "Requirement already satisfied: pexpect in /usr/local/lib/python3.7/dist-packages (from ipython>=4.0.0->ipywidgets>=7.0.0->swifter) (4.8.0)\n",
            "Requirement already satisfied: backcall in /usr/local/lib/python3.7/dist-packages (from ipython>=4.0.0->ipywidgets>=7.0.0->swifter) (0.2.0)\n",
            "Requirement already satisfied: prompt-toolkit<2.1.0,>=2.0.0 in /usr/local/lib/python3.7/dist-packages (from ipython>=4.0.0->ipywidgets>=7.0.0->swifter) (2.0.10)\n",
            "Requirement already satisfied: setuptools>=18.5 in /usr/local/lib/python3.7/dist-packages (from ipython>=4.0.0->ipywidgets>=7.0.0->swifter) (57.4.0)\n",
            "Requirement already satisfied: decorator in /usr/local/lib/python3.7/dist-packages (from ipython>=4.0.0->ipywidgets>=7.0.0->swifter) (4.4.2)\n",
            "Requirement already satisfied: pyparsing!=3.0.5,>=2.0.2 in /usr/local/lib/python3.7/dist-packages (from packaging>=20.0->dask[dataframe]>=2.10.0->swifter) (3.0.9)\n",
            "Requirement already satisfied: pytz>=2017.3 in /usr/local/lib/python3.7/dist-packages (from pandas>=1.0.0->swifter) (2022.6)\n",
            "Requirement already satisfied: python-dateutil>=2.7.3 in /usr/local/lib/python3.7/dist-packages (from pandas>=1.0.0->swifter) (2.8.2)\n",
            "Requirement already satisfied: locket in /usr/local/lib/python3.7/dist-packages (from partd>=0.3.10->dask[dataframe]>=2.10.0->swifter) (1.0.0)\n",
            "Requirement already satisfied: wcwidth in /usr/local/lib/python3.7/dist-packages (from prompt-toolkit<2.1.0,>=2.0.0->ipython>=4.0.0->ipywidgets>=7.0.0->swifter) (0.2.5)\n",
            "Requirement already satisfied: notebook>=4.4.1 in /usr/local/lib/python3.7/dist-packages (from widgetsnbextension~=3.6.0->ipywidgets>=7.0.0->swifter) (5.7.16)\n",
            "Requirement already satisfied: jupyter-core>=4.4.0 in /usr/local/lib/python3.7/dist-packages (from notebook>=4.4.1->widgetsnbextension~=3.6.0->ipywidgets>=7.0.0->swifter) (4.11.2)\n",
            "Requirement already satisfied: nbconvert<6.0 in /usr/local/lib/python3.7/dist-packages (from notebook>=4.4.1->widgetsnbextension~=3.6.0->ipywidgets>=7.0.0->swifter) (5.6.1)\n",
            "Requirement already satisfied: prometheus-client in /usr/local/lib/python3.7/dist-packages (from notebook>=4.4.1->widgetsnbextension~=3.6.0->ipywidgets>=7.0.0->swifter) (0.15.0)\n",
            "Requirement already satisfied: jinja2<=3.0.0 in /usr/local/lib/python3.7/dist-packages (from notebook>=4.4.1->widgetsnbextension~=3.6.0->ipywidgets>=7.0.0->swifter) (2.11.3)\n",
            "Requirement already satisfied: terminado>=0.8.1 in /usr/local/lib/python3.7/dist-packages (from notebook>=4.4.1->widgetsnbextension~=3.6.0->ipywidgets>=7.0.0->swifter) (0.13.3)\n",
            "Requirement already satisfied: nbformat in /usr/local/lib/python3.7/dist-packages (from notebook>=4.4.1->widgetsnbextension~=3.6.0->ipywidgets>=7.0.0->swifter) (5.7.0)\n",
            "Requirement already satisfied: pyzmq>=17 in /usr/local/lib/python3.7/dist-packages (from notebook>=4.4.1->widgetsnbextension~=3.6.0->ipywidgets>=7.0.0->swifter) (23.2.1)\n",
            "Requirement already satisfied: Send2Trash in /usr/local/lib/python3.7/dist-packages (from notebook>=4.4.1->widgetsnbextension~=3.6.0->ipywidgets>=7.0.0->swifter) (1.8.0)\n",
            "Requirement already satisfied: MarkupSafe>=0.23 in /usr/local/lib/python3.7/dist-packages (from jinja2<=3.0.0->notebook>=4.4.1->widgetsnbextension~=3.6.0->ipywidgets>=7.0.0->swifter) (2.0.1)\n",
            "Requirement already satisfied: pandocfilters>=1.4.1 in /usr/local/lib/python3.7/dist-packages (from nbconvert<6.0->notebook>=4.4.1->widgetsnbextension~=3.6.0->ipywidgets>=7.0.0->swifter) (1.5.0)\n",
            "Requirement already satisfied: testpath in /usr/local/lib/python3.7/dist-packages (from nbconvert<6.0->notebook>=4.4.1->widgetsnbextension~=3.6.0->ipywidgets>=7.0.0->swifter) (0.6.0)\n",
            "Requirement already satisfied: entrypoints>=0.2.2 in /usr/local/lib/python3.7/dist-packages (from nbconvert<6.0->notebook>=4.4.1->widgetsnbextension~=3.6.0->ipywidgets>=7.0.0->swifter) (0.4)\n",
            "Requirement already satisfied: defusedxml in /usr/local/lib/python3.7/dist-packages (from nbconvert<6.0->notebook>=4.4.1->widgetsnbextension~=3.6.0->ipywidgets>=7.0.0->swifter) (0.7.1)\n",
            "Requirement already satisfied: mistune<2,>=0.8.1 in /usr/local/lib/python3.7/dist-packages (from nbconvert<6.0->notebook>=4.4.1->widgetsnbextension~=3.6.0->ipywidgets>=7.0.0->swifter) (0.8.4)\n",
            "Requirement already satisfied: jsonschema>=2.6 in /usr/local/lib/python3.7/dist-packages (from nbformat->notebook>=4.4.1->widgetsnbextension~=3.6.0->ipywidgets>=7.0.0->swifter) (4.3.3)\n",
            "Requirement already satisfied: importlib-metadata>=3.6 in /usr/local/lib/python3.7/dist-packages (from nbformat->notebook>=4.4.1->widgetsnbextension~=3.6.0->ipywidgets>=7.0.0->swifter) (4.13.0)\n",
            "Requirement already satisfied: fastjsonschema in /usr/local/lib/python3.7/dist-packages (from nbformat->notebook>=4.4.1->widgetsnbextension~=3.6.0->ipywidgets>=7.0.0->swifter) (2.16.2)\n",
            "Requirement already satisfied: zipp>=0.5 in /usr/local/lib/python3.7/dist-packages (from importlib-metadata>=3.6->nbformat->notebook>=4.4.1->widgetsnbextension~=3.6.0->ipywidgets>=7.0.0->swifter) (3.10.0)\n",
            "Requirement already satisfied: typing-extensions>=3.6.4 in /usr/local/lib/python3.7/dist-packages (from importlib-metadata>=3.6->nbformat->notebook>=4.4.1->widgetsnbextension~=3.6.0->ipywidgets>=7.0.0->swifter) (4.1.1)\n",
            "Requirement already satisfied: importlib-resources>=1.4.0 in /usr/local/lib/python3.7/dist-packages (from jsonschema>=2.6->nbformat->notebook>=4.4.1->widgetsnbextension~=3.6.0->ipywidgets>=7.0.0->swifter) (5.10.0)\n",
            "Requirement already satisfied: pyrsistent!=0.17.0,!=0.17.1,!=0.17.2,>=0.14.0 in /usr/local/lib/python3.7/dist-packages (from jsonschema>=2.6->nbformat->notebook>=4.4.1->widgetsnbextension~=3.6.0->ipywidgets>=7.0.0->swifter) (0.19.2)\n",
            "Requirement already satisfied: attrs>=17.4.0 in /usr/local/lib/python3.7/dist-packages (from jsonschema>=2.6->nbformat->notebook>=4.4.1->widgetsnbextension~=3.6.0->ipywidgets>=7.0.0->swifter) (22.1.0)\n",
            "Requirement already satisfied: ptyprocess in /usr/local/lib/python3.7/dist-packages (from terminado>=0.8.1->notebook>=4.4.1->widgetsnbextension~=3.6.0->ipywidgets>=7.0.0->swifter) (0.7.0)\n",
            "Building wheels for collected packages: swifter\n",
            "  Building wheel for swifter (setup.py) ... \u001b[?25l\u001b[?25hdone\n",
            "  Created wheel for swifter: filename=swifter-1.3.4-py3-none-any.whl size=16323 sha256=adde69a64e6a105301e5a405886364aa25401e6a08268282ffc9048721024d6d\n",
            "  Stored in directory: /root/.cache/pip/wheels/29/a7/0e/3a8f17ac69d759e1e93647114bc9bdc95957e5b0cbfd405205\n",
            "Successfully built swifter\n",
            "Installing collected packages: jedi, psutil, swifter\n",
            "  Attempting uninstall: psutil\n",
            "    Found existing installation: psutil 5.4.8\n",
            "    Uninstalling psutil-5.4.8:\n",
            "      Successfully uninstalled psutil-5.4.8\n",
            "Successfully installed jedi-0.18.1 psutil-5.9.4 swifter-1.3.4\n"
          ]
        },
        {
          "output_type": "display_data",
          "data": {
            "application/vnd.colab-display-data+json": {
              "pip_warning": {
                "packages": [
                  "psutil"
                ]
              }
            }
          },
          "metadata": {}
        }
      ],
      "source": [
        "# A package which efficiently applies any function to a pandas dataframe or series in the fastest available manner\n",
        "!pip install swifter"
      ]
    },
    {
      "cell_type": "code",
      "execution_count": null,
      "metadata": {
        "id": "O-Q9pqrcJrFr",
        "colab": {
          "base_uri": "https://localhost:8080/"
        },
        "outputId": "1d6e0927-c5e9-4db8-e6e1-642d6af25648"
      },
      "outputs": [
        {
          "output_type": "stream",
          "name": "stderr",
          "text": [
            "[nltk_data] Downloading package punkt to /root/nltk_data...\n",
            "[nltk_data]   Unzipping tokenizers/punkt.zip.\n",
            "[nltk_data] Downloading package wordnet to /root/nltk_data...\n",
            "[nltk_data] Downloading package omw-1.4 to /root/nltk_data...\n",
            "[nltk_data] Downloading package stopwords to /root/nltk_data...\n",
            "[nltk_data]   Unzipping corpora/stopwords.zip.\n"
          ]
        },
        {
          "output_type": "execute_result",
          "data": {
            "text/plain": [
              "True"
            ]
          },
          "metadata": {},
          "execution_count": 2
        }
      ],
      "source": [
        "import warnings\n",
        "warnings.filterwarnings(\"ignore\")\n",
        "\n",
        "import json \n",
        "import numpy as np\n",
        "import pandas as pd\n",
        "import re, nltk, spacy, string\n",
        "import en_core_web_sm\n",
        "nlp = en_core_web_sm.load()\n",
        "import seaborn as sns\n",
        "import matplotlib.pyplot as plt\n",
        "%matplotlib inline\n",
        "from wordcloud import WordCloud, STOPWORDS\n",
        "import swifter\n",
        "\n",
        "from plotly.offline import plot\n",
        "import plotly.graph_objects as go\n",
        "import plotly.express as px\n",
        "\n",
        "from sklearn.feature_extraction.text import CountVectorizer, TfidfVectorizer, TfidfTransformer\n",
        "from sklearn.decomposition import NMF\n",
        "from pprint import pprint\n",
        "\n",
        "from nltk.stem import WordNetLemmatizer\n",
        "from nltk.tokenize import word_tokenize\n",
        "from nltk.corpus import stopwords\n",
        "nltk.download('punkt')\n",
        "nltk.download('wordnet')\n",
        "nltk.download('omw-1.4')\n",
        "nltk.download('stopwords')"
      ]
    },
    {
      "cell_type": "markdown",
      "metadata": {
        "id": "KtRLCsNVJrFt"
      },
      "source": [
        "## Loading the data\n",
        "\n",
        "The data is in JSON format and we need to convert it to a dataframe."
      ]
    },
    {
      "cell_type": "markdown",
      "metadata": {
        "id": "LzTlp7K6Cz03"
      },
      "source": [
        "### NOTE: include below cell only when submitting so they can run notebook locally."
      ]
    },
    {
      "cell_type": "code",
      "execution_count": null,
      "metadata": {
        "id": "0MevWjSjAgvA"
      },
      "outputs": [],
      "source": [
        "# Opening JSON file \n",
        "#f = open('complaints-2021-05-14_08_16.json','r')  # Write the path to your data file and load it \n",
        "  \n",
        "# returns JSON object as  \n",
        "# a dictionary \n",
        "#data = json.load(f)\n",
        "#df = pd.json_normalize(data)"
      ]
    },
    {
      "cell_type": "code",
      "execution_count": null,
      "metadata": {
        "colab": {
          "base_uri": "https://localhost:8080/"
        },
        "id": "oanH3_mXlVYs",
        "outputId": "ecea79c3-3ed7-4be9-aac7-f7ea78bae8b9"
      },
      "outputs": [
        {
          "output_type": "stream",
          "name": "stdout",
          "text": [
            "Mounted at /content/gdrive\n"
          ]
        }
      ],
      "source": [
        "from google.colab import drive\n",
        "drive.mount('/content/gdrive')"
      ]
    },
    {
      "cell_type": "code",
      "execution_count": null,
      "metadata": {
        "id": "QKxa8WhMlmad"
      },
      "outputs": [],
      "source": [
        "!cp /content/gdrive/MyDrive/ML/DataSets/complaints-2021-05-14_08_16.json ."
      ]
    },
    {
      "cell_type": "code",
      "execution_count": null,
      "metadata": {
        "id": "puVzIf_iJrFt"
      },
      "outputs": [],
      "source": [
        "# Opening JSON file from below location\n",
        "# url : https://drive.google.com/file/d/1Y4Yzh1uTLIBLnJq1_QvoosFx9giiR1_K/view\n",
        "# Write the path to your data file and load it\n",
        "path = '/content/complaints-2021-05-14_08_16.json'\n",
        "# Using open() function open a file with read mode, and returns it as a file object. \n",
        "f= open(path,\"r\")\n",
        "\n",
        "# returns JSON object as a dictionary \n",
        "data = json.load(f)\n",
        "df = pd.json_normalize(data)"
      ]
    },
    {
      "cell_type": "markdown",
      "metadata": {
        "id": "_xYpH-sAJrFu"
      },
      "source": [
        "## Data preparation"
      ]
    },
    {
      "cell_type": "code",
      "execution_count": null,
      "metadata": {
        "colab": {
          "base_uri": "https://localhost:8080/",
          "height": 275
        },
        "id": "Lf8ufHH5JrFu",
        "outputId": "ce73bbb4-32e9-40cb-c52d-e677ce936ad9"
      },
      "outputs": [
        {
          "output_type": "execute_result",
          "data": {
            "text/plain": [
              "                _index      _type      _id  _score   _source.tags  \\\n",
              "0  complaint-public-v2  complaint  3211475     0.0           None   \n",
              "1  complaint-public-v2  complaint  3229299     0.0  Servicemember   \n",
              "\n",
              "  _source.zip_code _source.complaint_id                      _source.issue  \\\n",
              "0            90301              3211475  Attempts to collect debt not owed   \n",
              "1            319XX              3229299    Written notification about debt   \n",
              "\n",
              "       _source.date_received _source.state  ... _source.company_response  \\\n",
              "0  2019-04-13T12:00:00-05:00            CA  ...  Closed with explanation   \n",
              "1  2019-05-01T12:00:00-05:00            GA  ...  Closed with explanation   \n",
              "\n",
              "        _source.company _source.submitted_via _source.date_sent_to_company  \\\n",
              "0  JPMORGAN CHASE & CO.                   Web    2019-04-13T12:00:00-05:00   \n",
              "1  JPMORGAN CHASE & CO.                   Web    2019-05-01T12:00:00-05:00   \n",
              "\n",
              "  _source.company_public_response _source.sub_product _source.timely  \\\n",
              "0                            None    Credit card debt            Yes   \n",
              "1                            None    Credit card debt            Yes   \n",
              "\n",
              "                     _source.complaint_what_happened  \\\n",
              "0                                                      \n",
              "1  Good morning my name is XXXX XXXX and I apprec...   \n",
              "\n",
              "                                  _source.sub_issue  \\\n",
              "0                                 Debt is not yours   \n",
              "1  Didn't receive enough information to verify debt   \n",
              "\n",
              "  _source.consumer_consent_provided  \n",
              "0              Consent not provided  \n",
              "1                  Consent provided  \n",
              "\n",
              "[2 rows x 22 columns]"
            ],
            "text/html": [
              "\n",
              "  <div id=\"df-4337a70a-e037-4b1e-afb4-0e8cfd1074db\">\n",
              "    <div class=\"colab-df-container\">\n",
              "      <div>\n",
              "<style scoped>\n",
              "    .dataframe tbody tr th:only-of-type {\n",
              "        vertical-align: middle;\n",
              "    }\n",
              "\n",
              "    .dataframe tbody tr th {\n",
              "        vertical-align: top;\n",
              "    }\n",
              "\n",
              "    .dataframe thead th {\n",
              "        text-align: right;\n",
              "    }\n",
              "</style>\n",
              "<table border=\"1\" class=\"dataframe\">\n",
              "  <thead>\n",
              "    <tr style=\"text-align: right;\">\n",
              "      <th></th>\n",
              "      <th>_index</th>\n",
              "      <th>_type</th>\n",
              "      <th>_id</th>\n",
              "      <th>_score</th>\n",
              "      <th>_source.tags</th>\n",
              "      <th>_source.zip_code</th>\n",
              "      <th>_source.complaint_id</th>\n",
              "      <th>_source.issue</th>\n",
              "      <th>_source.date_received</th>\n",
              "      <th>_source.state</th>\n",
              "      <th>...</th>\n",
              "      <th>_source.company_response</th>\n",
              "      <th>_source.company</th>\n",
              "      <th>_source.submitted_via</th>\n",
              "      <th>_source.date_sent_to_company</th>\n",
              "      <th>_source.company_public_response</th>\n",
              "      <th>_source.sub_product</th>\n",
              "      <th>_source.timely</th>\n",
              "      <th>_source.complaint_what_happened</th>\n",
              "      <th>_source.sub_issue</th>\n",
              "      <th>_source.consumer_consent_provided</th>\n",
              "    </tr>\n",
              "  </thead>\n",
              "  <tbody>\n",
              "    <tr>\n",
              "      <th>0</th>\n",
              "      <td>complaint-public-v2</td>\n",
              "      <td>complaint</td>\n",
              "      <td>3211475</td>\n",
              "      <td>0.0</td>\n",
              "      <td>None</td>\n",
              "      <td>90301</td>\n",
              "      <td>3211475</td>\n",
              "      <td>Attempts to collect debt not owed</td>\n",
              "      <td>2019-04-13T12:00:00-05:00</td>\n",
              "      <td>CA</td>\n",
              "      <td>...</td>\n",
              "      <td>Closed with explanation</td>\n",
              "      <td>JPMORGAN CHASE &amp; CO.</td>\n",
              "      <td>Web</td>\n",
              "      <td>2019-04-13T12:00:00-05:00</td>\n",
              "      <td>None</td>\n",
              "      <td>Credit card debt</td>\n",
              "      <td>Yes</td>\n",
              "      <td></td>\n",
              "      <td>Debt is not yours</td>\n",
              "      <td>Consent not provided</td>\n",
              "    </tr>\n",
              "    <tr>\n",
              "      <th>1</th>\n",
              "      <td>complaint-public-v2</td>\n",
              "      <td>complaint</td>\n",
              "      <td>3229299</td>\n",
              "      <td>0.0</td>\n",
              "      <td>Servicemember</td>\n",
              "      <td>319XX</td>\n",
              "      <td>3229299</td>\n",
              "      <td>Written notification about debt</td>\n",
              "      <td>2019-05-01T12:00:00-05:00</td>\n",
              "      <td>GA</td>\n",
              "      <td>...</td>\n",
              "      <td>Closed with explanation</td>\n",
              "      <td>JPMORGAN CHASE &amp; CO.</td>\n",
              "      <td>Web</td>\n",
              "      <td>2019-05-01T12:00:00-05:00</td>\n",
              "      <td>None</td>\n",
              "      <td>Credit card debt</td>\n",
              "      <td>Yes</td>\n",
              "      <td>Good morning my name is XXXX XXXX and I apprec...</td>\n",
              "      <td>Didn't receive enough information to verify debt</td>\n",
              "      <td>Consent provided</td>\n",
              "    </tr>\n",
              "  </tbody>\n",
              "</table>\n",
              "<p>2 rows × 22 columns</p>\n",
              "</div>\n",
              "      <button class=\"colab-df-convert\" onclick=\"convertToInteractive('df-4337a70a-e037-4b1e-afb4-0e8cfd1074db')\"\n",
              "              title=\"Convert this dataframe to an interactive table.\"\n",
              "              style=\"display:none;\">\n",
              "        \n",
              "  <svg xmlns=\"http://www.w3.org/2000/svg\" height=\"24px\"viewBox=\"0 0 24 24\"\n",
              "       width=\"24px\">\n",
              "    <path d=\"M0 0h24v24H0V0z\" fill=\"none\"/>\n",
              "    <path d=\"M18.56 5.44l.94 2.06.94-2.06 2.06-.94-2.06-.94-.94-2.06-.94 2.06-2.06.94zm-11 1L8.5 8.5l.94-2.06 2.06-.94-2.06-.94L8.5 2.5l-.94 2.06-2.06.94zm10 10l.94 2.06.94-2.06 2.06-.94-2.06-.94-.94-2.06-.94 2.06-2.06.94z\"/><path d=\"M17.41 7.96l-1.37-1.37c-.4-.4-.92-.59-1.43-.59-.52 0-1.04.2-1.43.59L10.3 9.45l-7.72 7.72c-.78.78-.78 2.05 0 2.83L4 21.41c.39.39.9.59 1.41.59.51 0 1.02-.2 1.41-.59l7.78-7.78 2.81-2.81c.8-.78.8-2.07 0-2.86zM5.41 20L4 18.59l7.72-7.72 1.47 1.35L5.41 20z\"/>\n",
              "  </svg>\n",
              "      </button>\n",
              "      \n",
              "  <style>\n",
              "    .colab-df-container {\n",
              "      display:flex;\n",
              "      flex-wrap:wrap;\n",
              "      gap: 12px;\n",
              "    }\n",
              "\n",
              "    .colab-df-convert {\n",
              "      background-color: #E8F0FE;\n",
              "      border: none;\n",
              "      border-radius: 50%;\n",
              "      cursor: pointer;\n",
              "      display: none;\n",
              "      fill: #1967D2;\n",
              "      height: 32px;\n",
              "      padding: 0 0 0 0;\n",
              "      width: 32px;\n",
              "    }\n",
              "\n",
              "    .colab-df-convert:hover {\n",
              "      background-color: #E2EBFA;\n",
              "      box-shadow: 0px 1px 2px rgba(60, 64, 67, 0.3), 0px 1px 3px 1px rgba(60, 64, 67, 0.15);\n",
              "      fill: #174EA6;\n",
              "    }\n",
              "\n",
              "    [theme=dark] .colab-df-convert {\n",
              "      background-color: #3B4455;\n",
              "      fill: #D2E3FC;\n",
              "    }\n",
              "\n",
              "    [theme=dark] .colab-df-convert:hover {\n",
              "      background-color: #434B5C;\n",
              "      box-shadow: 0px 1px 3px 1px rgba(0, 0, 0, 0.15);\n",
              "      filter: drop-shadow(0px 1px 2px rgba(0, 0, 0, 0.3));\n",
              "      fill: #FFFFFF;\n",
              "    }\n",
              "  </style>\n",
              "\n",
              "      <script>\n",
              "        const buttonEl =\n",
              "          document.querySelector('#df-4337a70a-e037-4b1e-afb4-0e8cfd1074db button.colab-df-convert');\n",
              "        buttonEl.style.display =\n",
              "          google.colab.kernel.accessAllowed ? 'block' : 'none';\n",
              "\n",
              "        async function convertToInteractive(key) {\n",
              "          const element = document.querySelector('#df-4337a70a-e037-4b1e-afb4-0e8cfd1074db');\n",
              "          const dataTable =\n",
              "            await google.colab.kernel.invokeFunction('convertToInteractive',\n",
              "                                                     [key], {});\n",
              "          if (!dataTable) return;\n",
              "\n",
              "          const docLinkHtml = 'Like what you see? Visit the ' +\n",
              "            '<a target=\"_blank\" href=https://colab.research.google.com/notebooks/data_table.ipynb>data table notebook</a>'\n",
              "            + ' to learn more about interactive tables.';\n",
              "          element.innerHTML = '';\n",
              "          dataTable['output_type'] = 'display_data';\n",
              "          await google.colab.output.renderOutput(dataTable, element);\n",
              "          const docLink = document.createElement('div');\n",
              "          docLink.innerHTML = docLinkHtml;\n",
              "          element.appendChild(docLink);\n",
              "        }\n",
              "      </script>\n",
              "    </div>\n",
              "  </div>\n",
              "  "
            ]
          },
          "metadata": {},
          "execution_count": 7
        }
      ],
      "source": [
        "# Inspect the dataframe to understand the given data.\n",
        "df.head(2)"
      ]
    },
    {
      "cell_type": "code",
      "execution_count": null,
      "metadata": {
        "colab": {
          "base_uri": "https://localhost:8080/"
        },
        "id": "qTVxtW3zmRi0",
        "outputId": "3339aee4-bfeb-49b1-f252-6d61a6cec3a6"
      },
      "outputs": [
        {
          "output_type": "execute_result",
          "data": {
            "text/plain": [
              "(78313, 22)"
            ]
          },
          "metadata": {},
          "execution_count": 8
        }
      ],
      "source": [
        "df.shape"
      ]
    },
    {
      "cell_type": "markdown",
      "metadata": {
        "id": "EXUX18xixsfG"
      },
      "source": [
        "We have **78,313 rows** and **22 columns**."
      ]
    },
    {
      "cell_type": "markdown",
      "metadata": {
        "id": "vRF7Jd8WmfrE"
      },
      "source": [
        "We see **complaints details** are under column ***complaint_what_happened***.\n",
        "\n",
        "JSON normalise method alters the columns' names, so we need to rename them."
      ]
    },
    {
      "cell_type": "code",
      "execution_count": null,
      "metadata": {
        "colab": {
          "base_uri": "https://localhost:8080/"
        },
        "id": "Dwcty-wmJrFw",
        "outputId": "bf89bea9-10bd-42b0-d83a-632af6a9579d"
      },
      "outputs": [
        {
          "output_type": "execute_result",
          "data": {
            "text/plain": [
              "['_index',\n",
              " '_type',\n",
              " '_id',\n",
              " '_score',\n",
              " '_source.tags',\n",
              " '_source.zip_code',\n",
              " '_source.complaint_id',\n",
              " '_source.issue',\n",
              " '_source.date_received',\n",
              " '_source.state',\n",
              " '_source.consumer_disputed',\n",
              " '_source.product',\n",
              " '_source.company_response',\n",
              " '_source.company',\n",
              " '_source.submitted_via',\n",
              " '_source.date_sent_to_company',\n",
              " '_source.company_public_response',\n",
              " '_source.sub_product',\n",
              " '_source.timely',\n",
              " '_source.complaint_what_happened',\n",
              " '_source.sub_issue',\n",
              " '_source.consumer_consent_provided']"
            ]
          },
          "metadata": {},
          "execution_count": 9
        }
      ],
      "source": [
        "# Print the column names\n",
        "list(df.columns)"
      ]
    },
    {
      "cell_type": "code",
      "execution_count": null,
      "metadata": {
        "id": "FYCtKXD1JrFw"
      },
      "outputs": [],
      "source": [
        "# Assign new column names\n",
        "# 1. Delete initial underscore\n",
        "df.columns = [re.sub('^_', '', col) for col in df.columns]"
      ]
    },
    {
      "cell_type": "code",
      "execution_count": null,
      "metadata": {
        "id": "e0dWsGH3ntN3"
      },
      "outputs": [],
      "source": [
        "# 2. Delete \"source\" word at beginning of some columns\n",
        "df.columns = [re.sub('^source.', '', col) for col in df.columns]"
      ]
    },
    {
      "cell_type": "markdown",
      "metadata": {
        "id": "vbeqAnhVygi7"
      },
      "source": [
        "We'll take a look at the columns' information."
      ]
    },
    {
      "cell_type": "code",
      "execution_count": null,
      "metadata": {
        "colab": {
          "base_uri": "https://localhost:8080/"
        },
        "id": "KdZzLTJhqQLb",
        "outputId": "f2b4d0c5-2dd4-425c-a998-ee4105d09328"
      },
      "outputs": [
        {
          "output_type": "stream",
          "name": "stdout",
          "text": [
            "<class 'pandas.core.frame.DataFrame'>\n",
            "RangeIndex: 78313 entries, 0 to 78312\n",
            "Data columns (total 22 columns):\n",
            " #   Column                     Non-Null Count  Dtype  \n",
            "---  ------                     --------------  -----  \n",
            " 0   index                      78313 non-null  object \n",
            " 1   type                       78313 non-null  object \n",
            " 2   id                         78313 non-null  object \n",
            " 3   score                      78313 non-null  float64\n",
            " 4   tags                       10900 non-null  object \n",
            " 5   zip_code                   71556 non-null  object \n",
            " 6   complaint_id               78313 non-null  object \n",
            " 7   issue                      78313 non-null  object \n",
            " 8   date_received              78313 non-null  object \n",
            " 9   state                      76322 non-null  object \n",
            " 10  consumer_disputed          78313 non-null  object \n",
            " 11  product                    78313 non-null  object \n",
            " 12  company_response           78313 non-null  object \n",
            " 13  company                    78313 non-null  object \n",
            " 14  submitted_via              78313 non-null  object \n",
            " 15  date_sent_to_company       78313 non-null  object \n",
            " 16  company_public_response    4 non-null      object \n",
            " 17  sub_product                67742 non-null  object \n",
            " 18  timely                     78313 non-null  object \n",
            " 19  complaint_what_happened    78313 non-null  object \n",
            " 20  sub_issue                  32016 non-null  object \n",
            " 21  consumer_consent_provided  77305 non-null  object \n",
            "dtypes: float64(1), object(21)\n",
            "memory usage: 13.1+ MB\n"
          ]
        }
      ],
      "source": [
        "# View the info of all columns\n",
        "df.info()"
      ]
    },
    {
      "cell_type": "code",
      "execution_count": null,
      "metadata": {
        "colab": {
          "base_uri": "https://localhost:8080/"
        },
        "id": "9JtCDdbmq96x",
        "outputId": "104dc543-de9c-4759-d364-57b3ca46f76d"
      },
      "outputs": [
        {
          "output_type": "execute_result",
          "data": {
            "text/plain": [
              "index                            0\n",
              "type                             0\n",
              "id                               0\n",
              "score                            0\n",
              "tags                         67413\n",
              "zip_code                      6757\n",
              "complaint_id                     0\n",
              "issue                            0\n",
              "date_received                    0\n",
              "state                         1991\n",
              "consumer_disputed                0\n",
              "product                          0\n",
              "company_response                 0\n",
              "company                          0\n",
              "submitted_via                    0\n",
              "date_sent_to_company             0\n",
              "company_public_response      78309\n",
              "sub_product                  10571\n",
              "timely                           0\n",
              "complaint_what_happened          0\n",
              "sub_issue                    46297\n",
              "consumer_consent_provided     1008\n",
              "dtype: int64"
            ]
          },
          "metadata": {},
          "execution_count": 13
        }
      ],
      "source": [
        "# Inspect the number of missing values\n",
        "df.isna().sum(0)"
      ]
    },
    {
      "cell_type": "markdown",
      "metadata": {
        "id": "QV0Hhj_pqdOq"
      },
      "source": [
        "There are missing values in different columns. However, not all the columns will be required in model building, so we leave them untreated. \n",
        "\n",
        "We will **only use the column with complaint**, for which we'll check for string empy values."
      ]
    },
    {
      "cell_type": "code",
      "execution_count": null,
      "metadata": {
        "id": "grQUPFL5JrFx"
      },
      "outputs": [],
      "source": [
        "# Assign nan in place of blanks in the complaints column\n",
        "df['complaint_what_happened'].replace(\"\", np.nan, inplace=True)"
      ]
    },
    {
      "cell_type": "code",
      "execution_count": null,
      "metadata": {
        "id": "Jfxd8VSmJrFy"
      },
      "outputs": [],
      "source": [
        "# Remove all rows where complaints column is nan\n",
        "df.dropna(subset=['complaint_what_happened'], inplace=True)"
      ]
    },
    {
      "cell_type": "code",
      "execution_count": null,
      "metadata": {
        "colab": {
          "base_uri": "https://localhost:8080/"
        },
        "id": "ZrRxqMhNrm1P",
        "outputId": "733ff8b4-66f2-44f4-f04f-2e833cb21b97"
      },
      "outputs": [
        {
          "output_type": "execute_result",
          "data": {
            "text/plain": [
              "0"
            ]
          },
          "metadata": {},
          "execution_count": 16
        }
      ],
      "source": [
        "# Confirm we do not have empty values\n",
        "len(df[df['complaint_what_happened'] == \"\"])"
      ]
    },
    {
      "cell_type": "code",
      "execution_count": null,
      "metadata": {
        "colab": {
          "base_uri": "https://localhost:8080/",
          "height": 112
        },
        "id": "W_6wkelVFlZ4",
        "outputId": "52f4b9b7-43a7-471a-dae5-c41d4b1d5f5a"
      },
      "outputs": [
        {
          "output_type": "execute_result",
          "data": {
            "text/plain": [
              "                             complaint_what_happened\n",
              "0  Good morning my name is XXXX XXXX and I apprec...\n",
              "1  I upgraded my XXXX XXXX card in XX/XX/2018 and..."
            ],
            "text/html": [
              "\n",
              "  <div id=\"df-5c62c545-ea00-4fea-8168-6a43140463e4\">\n",
              "    <div class=\"colab-df-container\">\n",
              "      <div>\n",
              "<style scoped>\n",
              "    .dataframe tbody tr th:only-of-type {\n",
              "        vertical-align: middle;\n",
              "    }\n",
              "\n",
              "    .dataframe tbody tr th {\n",
              "        vertical-align: top;\n",
              "    }\n",
              "\n",
              "    .dataframe thead th {\n",
              "        text-align: right;\n",
              "    }\n",
              "</style>\n",
              "<table border=\"1\" class=\"dataframe\">\n",
              "  <thead>\n",
              "    <tr style=\"text-align: right;\">\n",
              "      <th></th>\n",
              "      <th>complaint_what_happened</th>\n",
              "    </tr>\n",
              "  </thead>\n",
              "  <tbody>\n",
              "    <tr>\n",
              "      <th>0</th>\n",
              "      <td>Good morning my name is XXXX XXXX and I apprec...</td>\n",
              "    </tr>\n",
              "    <tr>\n",
              "      <th>1</th>\n",
              "      <td>I upgraded my XXXX XXXX card in XX/XX/2018 and...</td>\n",
              "    </tr>\n",
              "  </tbody>\n",
              "</table>\n",
              "</div>\n",
              "      <button class=\"colab-df-convert\" onclick=\"convertToInteractive('df-5c62c545-ea00-4fea-8168-6a43140463e4')\"\n",
              "              title=\"Convert this dataframe to an interactive table.\"\n",
              "              style=\"display:none;\">\n",
              "        \n",
              "  <svg xmlns=\"http://www.w3.org/2000/svg\" height=\"24px\"viewBox=\"0 0 24 24\"\n",
              "       width=\"24px\">\n",
              "    <path d=\"M0 0h24v24H0V0z\" fill=\"none\"/>\n",
              "    <path d=\"M18.56 5.44l.94 2.06.94-2.06 2.06-.94-2.06-.94-.94-2.06-.94 2.06-2.06.94zm-11 1L8.5 8.5l.94-2.06 2.06-.94-2.06-.94L8.5 2.5l-.94 2.06-2.06.94zm10 10l.94 2.06.94-2.06 2.06-.94-2.06-.94-.94-2.06-.94 2.06-2.06.94z\"/><path d=\"M17.41 7.96l-1.37-1.37c-.4-.4-.92-.59-1.43-.59-.52 0-1.04.2-1.43.59L10.3 9.45l-7.72 7.72c-.78.78-.78 2.05 0 2.83L4 21.41c.39.39.9.59 1.41.59.51 0 1.02-.2 1.41-.59l7.78-7.78 2.81-2.81c.8-.78.8-2.07 0-2.86zM5.41 20L4 18.59l7.72-7.72 1.47 1.35L5.41 20z\"/>\n",
              "  </svg>\n",
              "      </button>\n",
              "      \n",
              "  <style>\n",
              "    .colab-df-container {\n",
              "      display:flex;\n",
              "      flex-wrap:wrap;\n",
              "      gap: 12px;\n",
              "    }\n",
              "\n",
              "    .colab-df-convert {\n",
              "      background-color: #E8F0FE;\n",
              "      border: none;\n",
              "      border-radius: 50%;\n",
              "      cursor: pointer;\n",
              "      display: none;\n",
              "      fill: #1967D2;\n",
              "      height: 32px;\n",
              "      padding: 0 0 0 0;\n",
              "      width: 32px;\n",
              "    }\n",
              "\n",
              "    .colab-df-convert:hover {\n",
              "      background-color: #E2EBFA;\n",
              "      box-shadow: 0px 1px 2px rgba(60, 64, 67, 0.3), 0px 1px 3px 1px rgba(60, 64, 67, 0.15);\n",
              "      fill: #174EA6;\n",
              "    }\n",
              "\n",
              "    [theme=dark] .colab-df-convert {\n",
              "      background-color: #3B4455;\n",
              "      fill: #D2E3FC;\n",
              "    }\n",
              "\n",
              "    [theme=dark] .colab-df-convert:hover {\n",
              "      background-color: #434B5C;\n",
              "      box-shadow: 0px 1px 3px 1px rgba(0, 0, 0, 0.15);\n",
              "      filter: drop-shadow(0px 1px 2px rgba(0, 0, 0, 0.3));\n",
              "      fill: #FFFFFF;\n",
              "    }\n",
              "  </style>\n",
              "\n",
              "      <script>\n",
              "        const buttonEl =\n",
              "          document.querySelector('#df-5c62c545-ea00-4fea-8168-6a43140463e4 button.colab-df-convert');\n",
              "        buttonEl.style.display =\n",
              "          google.colab.kernel.accessAllowed ? 'block' : 'none';\n",
              "\n",
              "        async function convertToInteractive(key) {\n",
              "          const element = document.querySelector('#df-5c62c545-ea00-4fea-8168-6a43140463e4');\n",
              "          const dataTable =\n",
              "            await google.colab.kernel.invokeFunction('convertToInteractive',\n",
              "                                                     [key], {});\n",
              "          if (!dataTable) return;\n",
              "\n",
              "          const docLinkHtml = 'Like what you see? Visit the ' +\n",
              "            '<a target=\"_blank\" href=https://colab.research.google.com/notebooks/data_table.ipynb>data table notebook</a>'\n",
              "            + ' to learn more about interactive tables.';\n",
              "          element.innerHTML = '';\n",
              "          dataTable['output_type'] = 'display_data';\n",
              "          await google.colab.output.renderOutput(dataTable, element);\n",
              "          const docLink = document.createElement('div');\n",
              "          docLink.innerHTML = docLinkHtml;\n",
              "          element.appendChild(docLink);\n",
              "        }\n",
              "      </script>\n",
              "    </div>\n",
              "  </div>\n",
              "  "
            ]
          },
          "metadata": {},
          "execution_count": 17
        }
      ],
      "source": [
        "# Keep complaints column only\n",
        "df = df[['complaint_what_happened']].reset_index(drop=True)\n",
        "df.head(2)"
      ]
    },
    {
      "cell_type": "markdown",
      "metadata": {
        "id": "8h1Jrs65y33L"
      },
      "source": [
        "After the cleaning, let's take a look into rows count."
      ]
    },
    {
      "cell_type": "code",
      "execution_count": null,
      "metadata": {
        "colab": {
          "base_uri": "https://localhost:8080/"
        },
        "id": "KMAv4MLtzQZ9",
        "outputId": "dae5156e-4b53-4055-be2b-c8117d49fe4a"
      },
      "outputs": [
        {
          "output_type": "execute_result",
          "data": {
            "text/plain": [
              "(21072, 1)"
            ]
          },
          "metadata": {},
          "execution_count": 18
        }
      ],
      "source": [
        "df.shape"
      ]
    },
    {
      "cell_type": "markdown",
      "metadata": {
        "id": "g29XMvXKzjMY"
      },
      "source": [
        "We have **21,072 rows**.\n",
        "\n",
        "From original 78,313 rows **we dropped ~73% of them** as we are only focusing on complaint analysis."
      ]
    },
    {
      "cell_type": "markdown",
      "metadata": {
        "id": "L944HZpsJrFy"
      },
      "source": [
        "## Text preprocessing\n"
      ]
    },
    {
      "cell_type": "markdown",
      "metadata": {
        "id": "AfsMc7CvHy92"
      },
      "source": [
        " Let's **take a look at one complaint** to see what text formats we expect."
      ]
    },
    {
      "cell_type": "code",
      "execution_count": null,
      "metadata": {
        "colab": {
          "base_uri": "https://localhost:8080/",
          "height": 244
        },
        "id": "CkS95ljQNAFN",
        "outputId": "2e07af99-9c22-4cb7-b4df-5fee146c9c27"
      },
      "outputs": [
        {
          "output_type": "execute_result",
          "data": {
            "text/plain": [
              "\"Chase Card Address : XXXX XXXX XXXX City/ State/ Zip : XXXX, DE XXXX Date : XX/XX/XXXX Re : Acct # XXXX To Whom It May Concern : I have previously sent you a request to validate my debt under the Fair Debt Collection Practices Act and all I received was an itemized list of the alleged charges you claim I owe you. This does not meet the Federal Trade Commissions guidelines of what constitutes proper debt validation In addition, in the case of XXXX Vs. XXXX ( IN THE COURT OF APPEALS OF INDIANA, No. XXXX ), the court ruled that : 15 U.S.C. 1692g ( b ) ( emphasis added ). On XX/XX/XXXX, nineteen days after the date of XXXX debt collection letter, XXXX counsel XXXX sent XXXX a letter declaring that XXXX disputes your debt collection-related allegations, denies the same, and demands strict proof and verification thereof. Record at 21. As such, XXXX should have ceased his debt collection efforts immediately upon receiving that letter. Instead, XXXX proceeded to obtain a default judgment against XXXX on the debt collection claim before he had mailed XXXX the necessary verification and, thus, violated 15 U.S.C. 1692g ( b ). \\n\\nXXXX maintains, however, that there was no violation of the FDCPA because he sent adequate verification of the debt [ to XXXX ] in the XX/XX/XXXX notice of claim. Brief of Appellee at 13.  Specifically, XXXX claims that a copy of the consumer credit contract between XXXX and American General attached to the notice of claim provided sufficient verification of the debt within the meaning of 15 U.S.C. 1692g ( b ). We can not agree. \\n\\nThe contract in no way provides sufficient verification of the debt. A review of the document reveals that it identifies only the terms of XXXX loan, including a 17.99 % annual interest rate and the original loan amount of {$2500.00}. The loan agreement contains no accounting of any payments made by XXXX, the dates on which those payments were made, the interest which had accrued, or any late fees which had been assessed once XXXX stopped making the required payments. Indeed, the existing unpaid contract balance at the time XXXX sent the debt collection notice was at least {$350.00} more than the original loan amount. Therefore, XXXX violated 15 U.S.C. 1692g ( b ) when he failed to cease collection of the debt by obtaining a default judgment against XXXX after XXXX had notified XXXX in writing that he was disputing the debt but before XXXX had mailed verification of the debt to XXXX. We reverse the trial courts entry of summary judgment in favor of XXXX on this issue. \\n\\nI notice that you are still reporting this collection on my credit report, which is considered to be a collection activity. You are now in violation of the FCPDA, and are now subject to fines of {$1000.00}, plus actual damages and attorneys fees, which I may collect from you by filing a claim in small claims court. These collections on my credit report are causing me severe problems in trying to purchase a home and the damage could lead into the $ XXXX. \\n\\nYou should also be aware that reporting such invalidated information to major credit bureaus might constitute defamation of character, as the negative marks on my credit report harm my credit and prevent me from enjoying all the benefits of good credit. In addition, the Fair Credit Reporting Act ( FCRA ) does not allow the inaccurate reporting of information on my credit report and under this act. Therefore, if you do not immediately remove this account from my credit report, you are subject to another {$1000.00} fine, plus punitive damages. I'm sure your legal staff will agree that non-compliance with this request could put your company in serious legal trouble with the FTC and other state or federal agencies. \\n\\nI intend to follow through with the suit if I do not hear back from you within 15 days. \\n\\n\\nI look forward to hearing from you, Thank you.\""
            ],
            "application/vnd.google.colaboratory.intrinsic+json": {
              "type": "string"
            }
          },
          "metadata": {},
          "execution_count": 19
        }
      ],
      "source": [
        "df['complaint_what_happened'].iloc[395]"
      ]
    },
    {
      "cell_type": "markdown",
      "metadata": {
        "id": "oJhxbwuqVzk7"
      },
      "source": [
        "### Clean texts"
      ]
    },
    {
      "cell_type": "markdown",
      "metadata": {
        "id": "vffJ6cKxMNiz"
      },
      "source": [
        "We see there are different **parts of the text to be cleaned**:\n",
        "- Text within braces or square brackets\n",
        "- Line breaks (\\n)\n",
        "- Punctuation\n",
        "- Numerical values\n",
        "- Words containing numbers\n",
        "- Extra white spaces\n",
        "\n",
        "And we'll be formatting **text to lowercase**."
      ]
    },
    {
      "cell_type": "code",
      "execution_count": null,
      "metadata": {
        "id": "qm7SjjSkJrFz"
      },
      "outputs": [],
      "source": [
        "# Write your function here to clean the text and remove all the unnecessary elements.\n",
        "def clean_data(text):\n",
        "    \"\"\"\n",
        "    This function takes a corpus of words (text) and returns the text in \n",
        "    lowercase without above specified scenarios\n",
        "    :param text: input text\n",
        "    :return: clean text\n",
        "    \"\"\"\n",
        "    text = text.lower()                               # Text to lowercase\n",
        "    text = re.sub(r'\\(\\w*\\)', '', text)               # Remove text within braces\n",
        "    text = re.sub(r'\\s\\{\\$\\S*', '',text)              # Remove text within curly braces\n",
        "    text = re.sub(r'\\s\\[\\$\\S*', '',text)              # Remove text within square brackets\n",
        "    text = re.sub(r'\\n', '', text)                    # Remove line breaks\n",
        "    text = re.sub(r'(\\W\\s)|(\\W$)|(\\W\\d*)', ' ',text)  # Remove punctuation\n",
        "    text = re.sub(r'\\d+\\s', '', text)                 # Remove numerical values\n",
        "    text = re.sub(r'\\w*\\d\\w*', '', text)              # Remove words that contain numbers\n",
        "    text = re.sub(r' +', ' ',text)                    # Remove extra white spaces\n",
        "    return text"
      ]
    },
    {
      "cell_type": "markdown",
      "metadata": {
        "id": "FzA49eNzQY-h"
      },
      "source": [
        "Let's confirm we have cleaned the text, comparing with the one we checked above."
      ]
    },
    {
      "cell_type": "code",
      "execution_count": null,
      "metadata": {
        "colab": {
          "base_uri": "https://localhost:8080/",
          "height": 244
        },
        "id": "XqfLfP6sQhmc",
        "outputId": "4aea84ec-7206-44ab-f255-caa5be5a596e"
      },
      "outputs": [
        {
          "output_type": "execute_result",
          "data": {
            "text/plain": [
              "'chase card address xxxx xxxx xxxx city state zip xxxx de xxxx date xx xx xxxx re acct xxxx to whom it may concern i have previously sent you a request to validate my debt under the fair debt collection practices act and all i received was an itemized list of the alleged charges you claim i owe you this does not meet the federal trade commissions guidelines of what constitutes proper debt validation in addition in the case of xxxx vs xxxx in the court of appeals of indiana no xxxx the court ruled that u s c b emphasis added on xx xx xxxx nineteen days after the date of xxxx debt collection letter xxxx counsel xxxx sent xxxx a letter declaring that xxxx disputes your debt collection related allegations denies the same and demands strict proof and verification thereof record at as such xxxx should have ceased his debt collection efforts immediately upon receiving that letter instead xxxx proceeded to obtain a default judgment against xxxx on the debt collection claim before he had mailed xxxx the necessary verification and thus violated u s c b xxxx maintains however that there was no violation of the fdcpa because he sent adequate verification of the debt to xxxx in the xx xx xxxx notice of claim brief of appellee at specifically xxxx claims that a copy of the consumer credit contract between xxxx and american general attached to the notice of claim provided sufficient verification of the debt within the meaning of u s c b we can not agree the contract in no way provides sufficient verification of the debt a review of the document reveals that it identifies only the terms of xxxx loan including a annual interest rate and the original loan amount of the loan agreement contains no accounting of any payments made by xxxx the dates on which those payments were made the interest which had accrued or any late fees which had been assessed once xxxx stopped making the required payments indeed the existing unpaid contract balance at the time xxxx sent the debt collection notice was at least more than the original loan amount therefore xxxx violated u s c b when he failed to cease collection of the debt by obtaining a default judgment against xxxx after xxxx had notified xxxx in writing that he was disputing the debt but before xxxx had mailed verification of the debt to xxxx we reverse the trial courts entry of summary judgment in favor of xxxx on this issue i notice that you are still reporting this collection on my credit report which is considered to be a collection activity you are now in violation of the fcpda and are now subject to fines of plus actual damages and attorneys fees which i may collect from you by filing a claim in small claims court these collections on my credit report are causing me severe problems in trying to purchase a home and the damage could lead into the xxxx you should also be aware that reporting such invalidated information to major credit bureaus might constitute defamation of character as the negative marks on my credit report harm my credit and prevent me from enjoying all the benefits of good credit in addition the fair credit reporting act fcra does not allow the inaccurate reporting of information on my credit report and under this act therefore if you do not immediately remove this account from my credit report you are subject to another fine plus punitive damages i m sure your legal staff will agree that non compliance with this request could put your company in serious legal trouble with the ftc and other state or federal agencies i intend to follow through with the suit if i do not hear back from you within days i look forward to hearing from you thank you '"
            ],
            "application/vnd.google.colaboratory.intrinsic+json": {
              "type": "string"
            }
          },
          "metadata": {},
          "execution_count": 21
        }
      ],
      "source": [
        "clean_data(df['complaint_what_happened'].iloc[395])"
      ]
    },
    {
      "cell_type": "markdown",
      "metadata": {
        "id": "ICZWvyhhUujn"
      },
      "source": [
        "Let's then save the cleaned dataframe."
      ]
    },
    {
      "cell_type": "code",
      "execution_count": null,
      "metadata": {
        "id": "HwySDT6OUuKk"
      },
      "outputs": [],
      "source": [
        "df['complaint_what_happened'] = df['complaint_what_happened'].apply(clean_data)"
      ]
    },
    {
      "cell_type": "markdown",
      "metadata": {
        "id": "OpDiMpejV4LS"
      },
      "source": [
        "### Lemmatization"
      ]
    },
    {
      "cell_type": "markdown",
      "metadata": {
        "id": "tqQZCl5xRwMd"
      },
      "source": [
        "Now we'll **lemmatize the texts** and create a dataframe with cleaned complaints and their lemmatization."
      ]
    },
    {
      "cell_type": "code",
      "execution_count": null,
      "metadata": {
        "id": "zgOu8t8HJrFz"
      },
      "outputs": [],
      "source": [
        "# Write your function to Lemmatize the texts\n",
        "def lemmatization(text):\n",
        "    \"\"\"\n",
        "    This function takes a corpus of words (text) and returns the lemmatized text\n",
        "    :param text: input text\n",
        "    :return: lemmatized text\n",
        "    \"\"\"\n",
        "    tokens = word_tokenize(text)\n",
        "    wordnet_lemmatizer = WordNetLemmatizer()\n",
        "    lemmatized = [wordnet_lemmatizer.lemmatize(token) for token in tokens]\n",
        "    lemmatized = ' '.join(lemmatized)\n",
        "    return lemmatized"
      ]
    },
    {
      "cell_type": "code",
      "execution_count": null,
      "metadata": {
        "id": "uXnN7aa_JrF0"
      },
      "outputs": [],
      "source": [
        "# Create a dataframe('df_clean') that will have only the complaints and the lemmatized complaints \n",
        "df_clean = pd.DataFrame({'complaint':df['complaint_what_happened'], 'lemmatized':df['complaint_what_happened'].apply(lemmatization)})"
      ]
    },
    {
      "cell_type": "code",
      "execution_count": null,
      "metadata": {
        "colab": {
          "base_uri": "https://localhost:8080/",
          "height": 191
        },
        "id": "nOiDVvEIJrF0",
        "outputId": "8a034eb1-4dac-4f69-b3fd-afe74956660d"
      },
      "outputs": [
        {
          "output_type": "execute_result",
          "data": {
            "text/plain": [
              "                                           complaint  \\\n",
              "0  good morning my name is xxxx xxxx and i apprec...   \n",
              "1  i upgraded my xxxx xxxx card in xx xx and was ...   \n",
              "\n",
              "                                          lemmatized  \n",
              "0  good morning my name is xxxx xxxx and i apprec...  \n",
              "1  i upgraded my xxxx xxxx card in xx xx and wa t...  "
            ],
            "text/html": [
              "\n",
              "  <div id=\"df-609d426b-ed2a-4b16-a015-cd3ce8ceffd2\">\n",
              "    <div class=\"colab-df-container\">\n",
              "      <div>\n",
              "<style scoped>\n",
              "    .dataframe tbody tr th:only-of-type {\n",
              "        vertical-align: middle;\n",
              "    }\n",
              "\n",
              "    .dataframe tbody tr th {\n",
              "        vertical-align: top;\n",
              "    }\n",
              "\n",
              "    .dataframe thead th {\n",
              "        text-align: right;\n",
              "    }\n",
              "</style>\n",
              "<table border=\"1\" class=\"dataframe\">\n",
              "  <thead>\n",
              "    <tr style=\"text-align: right;\">\n",
              "      <th></th>\n",
              "      <th>complaint</th>\n",
              "      <th>lemmatized</th>\n",
              "    </tr>\n",
              "  </thead>\n",
              "  <tbody>\n",
              "    <tr>\n",
              "      <th>0</th>\n",
              "      <td>good morning my name is xxxx xxxx and i apprec...</td>\n",
              "      <td>good morning my name is xxxx xxxx and i apprec...</td>\n",
              "    </tr>\n",
              "    <tr>\n",
              "      <th>1</th>\n",
              "      <td>i upgraded my xxxx xxxx card in xx xx and was ...</td>\n",
              "      <td>i upgraded my xxxx xxxx card in xx xx and wa t...</td>\n",
              "    </tr>\n",
              "  </tbody>\n",
              "</table>\n",
              "</div>\n",
              "      <button class=\"colab-df-convert\" onclick=\"convertToInteractive('df-609d426b-ed2a-4b16-a015-cd3ce8ceffd2')\"\n",
              "              title=\"Convert this dataframe to an interactive table.\"\n",
              "              style=\"display:none;\">\n",
              "        \n",
              "  <svg xmlns=\"http://www.w3.org/2000/svg\" height=\"24px\"viewBox=\"0 0 24 24\"\n",
              "       width=\"24px\">\n",
              "    <path d=\"M0 0h24v24H0V0z\" fill=\"none\"/>\n",
              "    <path d=\"M18.56 5.44l.94 2.06.94-2.06 2.06-.94-2.06-.94-.94-2.06-.94 2.06-2.06.94zm-11 1L8.5 8.5l.94-2.06 2.06-.94-2.06-.94L8.5 2.5l-.94 2.06-2.06.94zm10 10l.94 2.06.94-2.06 2.06-.94-2.06-.94-.94-2.06-.94 2.06-2.06.94z\"/><path d=\"M17.41 7.96l-1.37-1.37c-.4-.4-.92-.59-1.43-.59-.52 0-1.04.2-1.43.59L10.3 9.45l-7.72 7.72c-.78.78-.78 2.05 0 2.83L4 21.41c.39.39.9.59 1.41.59.51 0 1.02-.2 1.41-.59l7.78-7.78 2.81-2.81c.8-.78.8-2.07 0-2.86zM5.41 20L4 18.59l7.72-7.72 1.47 1.35L5.41 20z\"/>\n",
              "  </svg>\n",
              "      </button>\n",
              "      \n",
              "  <style>\n",
              "    .colab-df-container {\n",
              "      display:flex;\n",
              "      flex-wrap:wrap;\n",
              "      gap: 12px;\n",
              "    }\n",
              "\n",
              "    .colab-df-convert {\n",
              "      background-color: #E8F0FE;\n",
              "      border: none;\n",
              "      border-radius: 50%;\n",
              "      cursor: pointer;\n",
              "      display: none;\n",
              "      fill: #1967D2;\n",
              "      height: 32px;\n",
              "      padding: 0 0 0 0;\n",
              "      width: 32px;\n",
              "    }\n",
              "\n",
              "    .colab-df-convert:hover {\n",
              "      background-color: #E2EBFA;\n",
              "      box-shadow: 0px 1px 2px rgba(60, 64, 67, 0.3), 0px 1px 3px 1px rgba(60, 64, 67, 0.15);\n",
              "      fill: #174EA6;\n",
              "    }\n",
              "\n",
              "    [theme=dark] .colab-df-convert {\n",
              "      background-color: #3B4455;\n",
              "      fill: #D2E3FC;\n",
              "    }\n",
              "\n",
              "    [theme=dark] .colab-df-convert:hover {\n",
              "      background-color: #434B5C;\n",
              "      box-shadow: 0px 1px 3px 1px rgba(0, 0, 0, 0.15);\n",
              "      filter: drop-shadow(0px 1px 2px rgba(0, 0, 0, 0.3));\n",
              "      fill: #FFFFFF;\n",
              "    }\n",
              "  </style>\n",
              "\n",
              "      <script>\n",
              "        const buttonEl =\n",
              "          document.querySelector('#df-609d426b-ed2a-4b16-a015-cd3ce8ceffd2 button.colab-df-convert');\n",
              "        buttonEl.style.display =\n",
              "          google.colab.kernel.accessAllowed ? 'block' : 'none';\n",
              "\n",
              "        async function convertToInteractive(key) {\n",
              "          const element = document.querySelector('#df-609d426b-ed2a-4b16-a015-cd3ce8ceffd2');\n",
              "          const dataTable =\n",
              "            await google.colab.kernel.invokeFunction('convertToInteractive',\n",
              "                                                     [key], {});\n",
              "          if (!dataTable) return;\n",
              "\n",
              "          const docLinkHtml = 'Like what you see? Visit the ' +\n",
              "            '<a target=\"_blank\" href=https://colab.research.google.com/notebooks/data_table.ipynb>data table notebook</a>'\n",
              "            + ' to learn more about interactive tables.';\n",
              "          element.innerHTML = '';\n",
              "          dataTable['output_type'] = 'display_data';\n",
              "          await google.colab.output.renderOutput(dataTable, element);\n",
              "          const docLink = document.createElement('div');\n",
              "          docLink.innerHTML = docLinkHtml;\n",
              "          element.appendChild(docLink);\n",
              "        }\n",
              "      </script>\n",
              "    </div>\n",
              "  </div>\n",
              "  "
            ]
          },
          "metadata": {},
          "execution_count": 25
        }
      ],
      "source": [
        "df_clean.head(2)"
      ]
    },
    {
      "cell_type": "markdown",
      "metadata": {
        "id": "skOVPYCzXH7G"
      },
      "source": [
        "### Keep nouns only\n",
        "\n",
        "We'll extract the POS tags of the lemmatized text and remove all the words which have tags other than NN [tag == \"NN\"]."
      ]
    },
    {
      "cell_type": "code",
      "execution_count": null,
      "metadata": {
        "colab": {
          "base_uri": "https://localhost:8080/",
          "height": 77,
          "referenced_widgets": [
            "6b41a474e46840acbdc179bb58c65da9",
            "68270ca1930a4b0da8692d5ff93cf185",
            "c7499c8b21c04d409fd88bf18d07a617",
            "77123736a59f4762808acd7ef0833784",
            "af2fbdbbe3ae49d38a0a6a00b1f420b6",
            "3b88fdf74d0541a4a0cecf78a054f6f1",
            "15b3c240fa124ca8b89450e34c2376d6",
            "9cc70565e23a455ebd28845896811e0a",
            "4643380b853b48aca80db51060ba80ff",
            "682b422e34d84d21a604f590bf753870",
            "0dc69d284aa34a5b911210a946c9a335"
          ]
        },
        "id": "Kk7fc4DuJrF1",
        "outputId": "2c4050dc-60f3-499c-d5ed-85cd43e16f69"
      },
      "outputs": [
        {
          "output_type": "display_data",
          "data": {
            "text/plain": [
              "Pandas Apply:   0%|          | 0/21072 [00:00<?, ?it/s]"
            ],
            "application/vnd.jupyter.widget-view+json": {
              "version_major": 2,
              "version_minor": 0,
              "model_id": "6b41a474e46840acbdc179bb58c65da9"
            }
          },
          "metadata": {}
        }
      ],
      "source": [
        "# Function to extract the POS tags and keep the nouns only\n",
        "def pos_tag(text):\n",
        "    \"\"\"\n",
        "    This function takes a corpus of words (text) and returns only the words in \n",
        "    text that correspond to a noun\n",
        "    :param text: input text\n",
        "    :return: nouns from text\n",
        "    \"\"\"\n",
        "    nouns = []\n",
        "    doc = nlp(text)\n",
        "    for token in doc:\n",
        "        if(token.tag_ == 'NN'):\n",
        "            nouns.append(token.lemma_)\n",
        "    nouns = ' '.join(nouns)\n",
        "    return nouns\n",
        "\n",
        "df_clean[\"complaint_POS_removed\"] =  df_clean.swifter.apply(lambda x: pos_tag(x['lemmatized']), axis=1)"
      ]
    },
    {
      "cell_type": "code",
      "execution_count": null,
      "metadata": {
        "colab": {
          "base_uri": "https://localhost:8080/",
          "height": 745
        },
        "id": "AjxfchvFJrF2",
        "outputId": "6c0dc7ca-c81a-4897-d516-c5fddd03fe55"
      },
      "outputs": [
        {
          "output_type": "execute_result",
          "data": {
            "text/plain": [
              "                                               complaint  \\\n",
              "0      good morning my name is xxxx xxxx and i apprec...   \n",
              "1      i upgraded my xxxx xxxx card in xx xx and was ...   \n",
              "2      chase card was reported on xx xx however fraud...   \n",
              "3      on xx xx while trying to book a xxxx xxxx tick...   \n",
              "4      my grand son give me check for i deposit it in...   \n",
              "...                                                  ...   \n",
              "21067  after being a chase card customer for well ove...   \n",
              "21068  on wednesday xx xx xxxx i called chas my xxxx ...   \n",
              "21069  i am not familiar with xxxx pay and did not un...   \n",
              "21070  i have had flawless credit for yrs i ve had ch...   \n",
              "21071  roughly years ago i closed out my accounts wit...   \n",
              "\n",
              "                                              lemmatized  \\\n",
              "0      good morning my name is xxxx xxxx and i apprec...   \n",
              "1      i upgraded my xxxx xxxx card in xx xx and wa t...   \n",
              "2      chase card wa reported on xx xx however fraudu...   \n",
              "3      on xx xx while trying to book a xxxx xxxx tick...   \n",
              "4      my grand son give me check for i deposit it in...   \n",
              "...                                                  ...   \n",
              "21067  after being a chase card customer for well ove...   \n",
              "21068  on wednesday xx xx xxxx i called chas my xxxx ...   \n",
              "21069  i am not familiar with xxxx pay and did not un...   \n",
              "21070  i have had flawless credit for yr i ve had cha...   \n",
              "21071  roughly year ago i closed out my account with ...   \n",
              "\n",
              "                                   complaint_POS_removed  \n",
              "0      morning name stop debt verification statement ...  \n",
              "1      agent anniversary date agent information order...  \n",
              "2      chase card application identity consent servic...  \n",
              "3      ticket offer ticket reward card information of...  \n",
              "4      son check chase account fund chase bank accoun...  \n",
              "...                                                  ...  \n",
              "21067  chase card customer decade solicitation credit...  \n",
              "21068  credit card provider claim purchase protection...  \n",
              "21069  pay risk consumer chase bank app chase year ba...  \n",
              "21070  credit yr chase credit card chase freedom prob...  \n",
              "21071  year account order line credit account payment...  \n",
              "\n",
              "[21072 rows x 3 columns]"
            ],
            "text/html": [
              "\n",
              "  <div id=\"df-b68412d6-285e-41e6-b461-590b5858b593\">\n",
              "    <div class=\"colab-df-container\">\n",
              "      <div>\n",
              "<style scoped>\n",
              "    .dataframe tbody tr th:only-of-type {\n",
              "        vertical-align: middle;\n",
              "    }\n",
              "\n",
              "    .dataframe tbody tr th {\n",
              "        vertical-align: top;\n",
              "    }\n",
              "\n",
              "    .dataframe thead th {\n",
              "        text-align: right;\n",
              "    }\n",
              "</style>\n",
              "<table border=\"1\" class=\"dataframe\">\n",
              "  <thead>\n",
              "    <tr style=\"text-align: right;\">\n",
              "      <th></th>\n",
              "      <th>complaint</th>\n",
              "      <th>lemmatized</th>\n",
              "      <th>complaint_POS_removed</th>\n",
              "    </tr>\n",
              "  </thead>\n",
              "  <tbody>\n",
              "    <tr>\n",
              "      <th>0</th>\n",
              "      <td>good morning my name is xxxx xxxx and i apprec...</td>\n",
              "      <td>good morning my name is xxxx xxxx and i apprec...</td>\n",
              "      <td>morning name stop debt verification statement ...</td>\n",
              "    </tr>\n",
              "    <tr>\n",
              "      <th>1</th>\n",
              "      <td>i upgraded my xxxx xxxx card in xx xx and was ...</td>\n",
              "      <td>i upgraded my xxxx xxxx card in xx xx and wa t...</td>\n",
              "      <td>agent anniversary date agent information order...</td>\n",
              "    </tr>\n",
              "    <tr>\n",
              "      <th>2</th>\n",
              "      <td>chase card was reported on xx xx however fraud...</td>\n",
              "      <td>chase card wa reported on xx xx however fraudu...</td>\n",
              "      <td>chase card application identity consent servic...</td>\n",
              "    </tr>\n",
              "    <tr>\n",
              "      <th>3</th>\n",
              "      <td>on xx xx while trying to book a xxxx xxxx tick...</td>\n",
              "      <td>on xx xx while trying to book a xxxx xxxx tick...</td>\n",
              "      <td>ticket offer ticket reward card information of...</td>\n",
              "    </tr>\n",
              "    <tr>\n",
              "      <th>4</th>\n",
              "      <td>my grand son give me check for i deposit it in...</td>\n",
              "      <td>my grand son give me check for i deposit it in...</td>\n",
              "      <td>son check chase account fund chase bank accoun...</td>\n",
              "    </tr>\n",
              "    <tr>\n",
              "      <th>...</th>\n",
              "      <td>...</td>\n",
              "      <td>...</td>\n",
              "      <td>...</td>\n",
              "    </tr>\n",
              "    <tr>\n",
              "      <th>21067</th>\n",
              "      <td>after being a chase card customer for well ove...</td>\n",
              "      <td>after being a chase card customer for well ove...</td>\n",
              "      <td>chase card customer decade solicitation credit...</td>\n",
              "    </tr>\n",
              "    <tr>\n",
              "      <th>21068</th>\n",
              "      <td>on wednesday xx xx xxxx i called chas my xxxx ...</td>\n",
              "      <td>on wednesday xx xx xxxx i called chas my xxxx ...</td>\n",
              "      <td>credit card provider claim purchase protection...</td>\n",
              "    </tr>\n",
              "    <tr>\n",
              "      <th>21069</th>\n",
              "      <td>i am not familiar with xxxx pay and did not un...</td>\n",
              "      <td>i am not familiar with xxxx pay and did not un...</td>\n",
              "      <td>pay risk consumer chase bank app chase year ba...</td>\n",
              "    </tr>\n",
              "    <tr>\n",
              "      <th>21070</th>\n",
              "      <td>i have had flawless credit for yrs i ve had ch...</td>\n",
              "      <td>i have had flawless credit for yr i ve had cha...</td>\n",
              "      <td>credit yr chase credit card chase freedom prob...</td>\n",
              "    </tr>\n",
              "    <tr>\n",
              "      <th>21071</th>\n",
              "      <td>roughly years ago i closed out my accounts wit...</td>\n",
              "      <td>roughly year ago i closed out my account with ...</td>\n",
              "      <td>year account order line credit account payment...</td>\n",
              "    </tr>\n",
              "  </tbody>\n",
              "</table>\n",
              "<p>21072 rows × 3 columns</p>\n",
              "</div>\n",
              "      <button class=\"colab-df-convert\" onclick=\"convertToInteractive('df-b68412d6-285e-41e6-b461-590b5858b593')\"\n",
              "              title=\"Convert this dataframe to an interactive table.\"\n",
              "              style=\"display:none;\">\n",
              "        \n",
              "  <svg xmlns=\"http://www.w3.org/2000/svg\" height=\"24px\"viewBox=\"0 0 24 24\"\n",
              "       width=\"24px\">\n",
              "    <path d=\"M0 0h24v24H0V0z\" fill=\"none\"/>\n",
              "    <path d=\"M18.56 5.44l.94 2.06.94-2.06 2.06-.94-2.06-.94-.94-2.06-.94 2.06-2.06.94zm-11 1L8.5 8.5l.94-2.06 2.06-.94-2.06-.94L8.5 2.5l-.94 2.06-2.06.94zm10 10l.94 2.06.94-2.06 2.06-.94-2.06-.94-.94-2.06-.94 2.06-2.06.94z\"/><path d=\"M17.41 7.96l-1.37-1.37c-.4-.4-.92-.59-1.43-.59-.52 0-1.04.2-1.43.59L10.3 9.45l-7.72 7.72c-.78.78-.78 2.05 0 2.83L4 21.41c.39.39.9.59 1.41.59.51 0 1.02-.2 1.41-.59l7.78-7.78 2.81-2.81c.8-.78.8-2.07 0-2.86zM5.41 20L4 18.59l7.72-7.72 1.47 1.35L5.41 20z\"/>\n",
              "  </svg>\n",
              "      </button>\n",
              "      \n",
              "  <style>\n",
              "    .colab-df-container {\n",
              "      display:flex;\n",
              "      flex-wrap:wrap;\n",
              "      gap: 12px;\n",
              "    }\n",
              "\n",
              "    .colab-df-convert {\n",
              "      background-color: #E8F0FE;\n",
              "      border: none;\n",
              "      border-radius: 50%;\n",
              "      cursor: pointer;\n",
              "      display: none;\n",
              "      fill: #1967D2;\n",
              "      height: 32px;\n",
              "      padding: 0 0 0 0;\n",
              "      width: 32px;\n",
              "    }\n",
              "\n",
              "    .colab-df-convert:hover {\n",
              "      background-color: #E2EBFA;\n",
              "      box-shadow: 0px 1px 2px rgba(60, 64, 67, 0.3), 0px 1px 3px 1px rgba(60, 64, 67, 0.15);\n",
              "      fill: #174EA6;\n",
              "    }\n",
              "\n",
              "    [theme=dark] .colab-df-convert {\n",
              "      background-color: #3B4455;\n",
              "      fill: #D2E3FC;\n",
              "    }\n",
              "\n",
              "    [theme=dark] .colab-df-convert:hover {\n",
              "      background-color: #434B5C;\n",
              "      box-shadow: 0px 1px 3px 1px rgba(0, 0, 0, 0.15);\n",
              "      filter: drop-shadow(0px 1px 2px rgba(0, 0, 0, 0.3));\n",
              "      fill: #FFFFFF;\n",
              "    }\n",
              "  </style>\n",
              "\n",
              "      <script>\n",
              "        const buttonEl =\n",
              "          document.querySelector('#df-b68412d6-285e-41e6-b461-590b5858b593 button.colab-df-convert');\n",
              "        buttonEl.style.display =\n",
              "          google.colab.kernel.accessAllowed ? 'block' : 'none';\n",
              "\n",
              "        async function convertToInteractive(key) {\n",
              "          const element = document.querySelector('#df-b68412d6-285e-41e6-b461-590b5858b593');\n",
              "          const dataTable =\n",
              "            await google.colab.kernel.invokeFunction('convertToInteractive',\n",
              "                                                     [key], {});\n",
              "          if (!dataTable) return;\n",
              "\n",
              "          const docLinkHtml = 'Like what you see? Visit the ' +\n",
              "            '<a target=\"_blank\" href=https://colab.research.google.com/notebooks/data_table.ipynb>data table notebook</a>'\n",
              "            + ' to learn more about interactive tables.';\n",
              "          element.innerHTML = '';\n",
              "          dataTable['output_type'] = 'display_data';\n",
              "          await google.colab.output.renderOutput(dataTable, element);\n",
              "          const docLink = document.createElement('div');\n",
              "          docLink.innerHTML = docLinkHtml;\n",
              "          element.appendChild(docLink);\n",
              "        }\n",
              "      </script>\n",
              "    </div>\n",
              "  </div>\n",
              "  "
            ]
          },
          "metadata": {},
          "execution_count": 27
        }
      ],
      "source": [
        "# The clean dataframe should now contain the raw complaint, lemmatized complaint and the complaint after removing POS tags.\n",
        "df_clean"
      ]
    },
    {
      "cell_type": "markdown",
      "metadata": {
        "id": "_7Un1AElJrF2"
      },
      "source": [
        "## Exploratory data analysis (EDA)\n",
        "To get familiar with the data.\n",
        "\n",
        "*   We visualise the data according to the 'Complaint' character length\n",
        "*   Using a word cloud find the top 40 words by frequency among all the articles after processing the text\n",
        "*   Find the top unigrams,bigrams and trigrams by frequency among all the complaints after text processing .\n",
        "\n"
      ]
    },
    {
      "cell_type": "markdown",
      "metadata": {
        "id": "6GtDO2qbhViG"
      },
      "source": [
        "### Visualise the data according to the 'Complaint' character length\n",
        "\n",
        "We'll plot a histogram of complaint length before and after processing."
      ]
    },
    {
      "cell_type": "code",
      "execution_count": null,
      "metadata": {
        "colab": {
          "base_uri": "https://localhost:8080/",
          "height": 297
        },
        "id": "1pyx6Gc2K9mX",
        "outputId": "b3b89db3-f0c6-4833-c69f-60a33a1ef71c"
      },
      "outputs": [
        {
          "output_type": "display_data",
          "data": {
            "text/plain": [
              "<Figure size 576x288 with 1 Axes>"
            ],
            "image/png": "[encoded data removed]"
          },
          "metadata": {
            "needs_background": "light"
          }
        }
      ],
      "source": [
        "# Create list of lengths of pre-processed complaints\n",
        "doc_lens = [len(d) for d in df_clean['complaint']]\n",
        "doc_lens[:5]\n",
        "\n",
        "# Plot the data according to character length of complaints\n",
        "plt.figure(figsize=(8,4))\n",
        "plt.hist(doc_lens, edgecolor='black', bins = 50)\n",
        "plt.title('Distribution of Complaint character length', fontsize=15)\n",
        "plt.ylabel('Number of Complaint', fontsize=10)\n",
        "plt.xlabel('Complaint character length', fontsize=10)\n",
        "sns.despine()\n",
        "plt.show()"
      ]
    },
    {
      "cell_type": "code",
      "execution_count": null,
      "metadata": {
        "colab": {
          "base_uri": "https://localhost:8080/"
        },
        "id": "NgT3GyLdBq3m",
        "outputId": "4022e17c-5288-429c-c343-86bd43955dcb"
      },
      "outputs": [
        {
          "output_type": "stream",
          "name": "stdout",
          "text": [
            "Maximum original text length:  30545\n"
          ]
        }
      ],
      "source": [
        "print('Maximum original text length: ', max(doc_lens))"
      ]
    },
    {
      "cell_type": "code",
      "execution_count": null,
      "metadata": {
        "colab": {
          "base_uri": "https://localhost:8080/",
          "height": 297
        },
        "id": "OI8p7nrcA6DA",
        "outputId": "c5bb9212-c499-4775-d3f2-93bb880ce1fc"
      },
      "outputs": [
        {
          "output_type": "display_data",
          "data": {
            "text/plain": [
              "<Figure size 576x288 with 1 Axes>"
            ],
            "image/png": "[encoded data removed]"
          },
          "metadata": {
            "needs_background": "light"
          }
        }
      ],
      "source": [
        "# Create list of lengths of pre-processed complaints\n",
        "doc_lens = [len(d) for d in df_clean['complaint_POS_removed']]\n",
        "doc_lens[:5]\n",
        "\n",
        "# Plot the data according to character length of complaints\n",
        "plt.figure(figsize=(8,4))\n",
        "plt.hist(doc_lens, edgecolor='black', bins = 50)\n",
        "plt.title('Distribution of Complaint character length', fontsize=15)\n",
        "plt.ylabel('Number of Complaint', fontsize=10)\n",
        "plt.xlabel('Complaint character length', fontsize=10)\n",
        "sns.despine()\n",
        "plt.show()"
      ]
    },
    {
      "cell_type": "code",
      "execution_count": null,
      "metadata": {
        "colab": {
          "base_uri": "https://localhost:8080/"
        },
        "id": "p29RRUXKBzTK",
        "outputId": "035fc806-0f05-4785-c937-79acae9a729c"
      },
      "outputs": [
        {
          "output_type": "stream",
          "name": "stdout",
          "text": [
            "Maximum processed text length:  11737\n"
          ]
        }
      ],
      "source": [
        "print('Maximum processed text length: ', max(doc_lens))"
      ]
    },
    {
      "cell_type": "markdown",
      "metadata": {
        "id": "6nmu19VQ_jp3"
      },
      "source": [
        "We can see that most of the original complaints' texts have a word length less than 5,000 and maximum is 30,545 (a big number!). After processing the text most lengths are less than 2,000 and maximum is 11,737 (still a big number!).\n",
        "\n",
        "**In original texts we have ~60% of words that are not nouns**, which means that they are not representative of the document intention.\n",
        "\n",
        "This is why it is so important to clean the text."
      ]
    },
    {
      "cell_type": "markdown",
      "metadata": {
        "id": "d_c5Bh61I9T8"
      },
      "source": [
        "For following analysis **we'll use column after POS tagging**, as it does not have the masked personal information (words with X characters only)."
      ]
    },
    {
      "cell_type": "markdown",
      "metadata": {
        "id": "T9jD_6SeJrF3"
      },
      "source": [
        "### Top 40 words by frequency \n",
        "Among all the articles after processing the text."
      ]
    },
    {
      "cell_type": "code",
      "execution_count": null,
      "metadata": {
        "colab": {
          "base_uri": "https://localhost:8080/",
          "height": 254
        },
        "id": "3YlC15V_Letc",
        "outputId": "84d1ce3f-20c3-48e1-8d1c-ae774fd3621d"
      },
      "outputs": [
        {
          "output_type": "display_data",
          "data": {
            "text/plain": [
              "<Figure size 576x360 with 1 Axes>"
            ],
            "image/png": "[encoded data removed]"
          },
          "metadata": {
            "needs_background": "light"
          }
        }
      ],
      "source": [
        "# Using a word cloud, we plot the top 40 words by frequency among all the articles after processing the text\n",
        "stopwords = set(STOPWORDS)\n",
        "wordcloud = WordCloud(\n",
        "                          background_color='lemonchiffon',\n",
        "                          stopwords=stopwords,\n",
        "                          max_words=40,\n",
        "                          max_font_size=40, \n",
        "                          random_state=42\n",
        "                         ).generate(str(df_clean['complaint_POS_removed']))\n",
        "\n",
        "fig = plt.figure(figsize=(8,5))\n",
        "plt.imshow(wordcloud)\n",
        "plt.axis('off')\n",
        "plt.show()"
      ]
    },
    {
      "cell_type": "markdown",
      "metadata": {
        "id": "N3u9fcmhCmnf"
      },
      "source": [
        "We are able to see that **words such as *card*, *chase*, *name*, *complaint*, *account*, and *credit* are the top used words**. This is expected as we are analyzing customer complaints.\n",
        "\n",
        "In which scenarios are these words used? In general **we'd like to know the most common compositions of words** that the complaints have so we can further analyze them and assign a category."
      ]
    },
    {
      "cell_type": "markdown",
      "metadata": {
        "id": "5DfCSbbmJrF4"
      },
      "source": [
        "### Top unigrams, bigrams and trigrams\n",
        "Find the top unigrams,bigrams and trigrams by frequency among all the complaints after processing the text."
      ]
    },
    {
      "cell_type": "code",
      "execution_count": null,
      "metadata": {
        "id": "n4YtIJN3Lmv4"
      },
      "outputs": [],
      "source": [
        "#Removing -PRON- from the text corpus\n",
        "df_clean['Complaint_clean'] = df_clean['complaint_POS_removed'].str.replace('-PRON-', '')"
      ]
    },
    {
      "cell_type": "code",
      "execution_count": null,
      "metadata": {
        "id": "5mbk5DS5JrF4"
      },
      "outputs": [],
      "source": [
        "# Function to get top n words from corpus\n",
        "def get_top_ngrams(corpus, n=None, ngram_range=1):\n",
        "    \"\"\"\n",
        "    This function takes a corpus of words (text) and returns the top n grams \n",
        "    among the words in the corpus according to their frequency of occurence.\n",
        "    :param corpus: input text\n",
        "    :param n: number of top words(unigrams) to find\n",
        "    :param ngram_range: range of words to consider (unigram=1, bigram=2, trigram=3)\n",
        "    :return: list of tuples with two elements each: the word and its frequency\n",
        "    \"\"\"\n",
        "    vec = CountVectorizer(stop_words='english',ngram_range=(ngram_range,ngram_range)).fit(corpus)\n",
        "    bag_of_words = vec.transform(corpus)\n",
        "    sum_words = bag_of_words.sum(axis=0) \n",
        "    words_freq = [(word, sum_words[0, idx]) for word, idx in vec.vocabulary_.items()]\n",
        "    words_freq =sorted(words_freq, key = lambda x: x[1], reverse=True)\n",
        "    return words_freq[:n]\n"
      ]
    },
    {
      "cell_type": "markdown",
      "metadata": {
        "id": "cNGeoOfNEn_Q"
      },
      "source": [
        "#### Top unigrams by frequency\n",
        "Among all the complaints.\n",
        "\n",
        "These should be aligned to most common words we were able to see in word cloud, as we are only taking 1 by frequency word into account."
      ]
    },
    {
      "cell_type": "code",
      "execution_count": null,
      "metadata": {
        "colab": {
          "base_uri": "https://localhost:8080/",
          "height": 378
        },
        "id": "o9dX5_n_Lxb3",
        "outputId": "ce57492d-a911-46be-f6bf-b98c46215f24"
      },
      "outputs": [
        {
          "output_type": "display_data",
          "data": {
            "text/plain": [
              "<Figure size 720x360 with 1 Axes>"
            ],
            "image/png": "[encoded data removed]"
          },
          "metadata": {
            "needs_background": "light"
          }
        }
      ],
      "source": [
        "# Top 30 unigrams by frequency among all the complaints\n",
        "common_words = get_top_ngrams(df_clean['complaint_POS_removed'].values.astype('U'), 30, 1)\n",
        "df2 = pd.DataFrame(common_words, columns = ['unigram' , 'count'])\n",
        "\n",
        "# Plot the top 30 unigrams\n",
        "plt.figure(figsize=(10,5))\n",
        "sns.barplot(x='unigram', y='count', data=df2, palette=\"coolwarm\")\n",
        "plt.xticks(rotation=90)\n",
        "plt.title(\"Top 30 unigrams in the Complaint text after removing stop words and lemmatization\", fontsize=15)\n",
        "plt.show()"
      ]
    },
    {
      "cell_type": "code",
      "execution_count": null,
      "metadata": {
        "colab": {
          "base_uri": "https://localhost:8080/",
          "height": 363
        },
        "id": "YX7fedm1JrF8",
        "outputId": "e5acb523-2d86-4ff3-ed1b-0a68cce30772"
      },
      "outputs": [
        {
          "output_type": "execute_result",
          "data": {
            "text/plain": [
              "   unigram  count\n",
              "0    chase  62197\n",
              "1  account  46420\n",
              "2   credit  32348\n",
              "3     card  29969\n",
              "4  payment  21217\n",
              "5     bank  17905\n",
              "6     time  16281\n",
              "7      day  13149\n",
              "8   charge  12114\n",
              "9    money  11998"
            ],
            "text/html": [
              "\n",
              "  <div id=\"df-6af8b534-868c-4ddb-ae46-ff13b32df8f5\">\n",
              "    <div class=\"colab-df-container\">\n",
              "      <div>\n",
              "<style scoped>\n",
              "    .dataframe tbody tr th:only-of-type {\n",
              "        vertical-align: middle;\n",
              "    }\n",
              "\n",
              "    .dataframe tbody tr th {\n",
              "        vertical-align: top;\n",
              "    }\n",
              "\n",
              "    .dataframe thead th {\n",
              "        text-align: right;\n",
              "    }\n",
              "</style>\n",
              "<table border=\"1\" class=\"dataframe\">\n",
              "  <thead>\n",
              "    <tr style=\"text-align: right;\">\n",
              "      <th></th>\n",
              "      <th>unigram</th>\n",
              "      <th>count</th>\n",
              "    </tr>\n",
              "  </thead>\n",
              "  <tbody>\n",
              "    <tr>\n",
              "      <th>0</th>\n",
              "      <td>chase</td>\n",
              "      <td>62197</td>\n",
              "    </tr>\n",
              "    <tr>\n",
              "      <th>1</th>\n",
              "      <td>account</td>\n",
              "      <td>46420</td>\n",
              "    </tr>\n",
              "    <tr>\n",
              "      <th>2</th>\n",
              "      <td>credit</td>\n",
              "      <td>32348</td>\n",
              "    </tr>\n",
              "    <tr>\n",
              "      <th>3</th>\n",
              "      <td>card</td>\n",
              "      <td>29969</td>\n",
              "    </tr>\n",
              "    <tr>\n",
              "      <th>4</th>\n",
              "      <td>payment</td>\n",
              "      <td>21217</td>\n",
              "    </tr>\n",
              "    <tr>\n",
              "      <th>5</th>\n",
              "      <td>bank</td>\n",
              "      <td>17905</td>\n",
              "    </tr>\n",
              "    <tr>\n",
              "      <th>6</th>\n",
              "      <td>time</td>\n",
              "      <td>16281</td>\n",
              "    </tr>\n",
              "    <tr>\n",
              "      <th>7</th>\n",
              "      <td>day</td>\n",
              "      <td>13149</td>\n",
              "    </tr>\n",
              "    <tr>\n",
              "      <th>8</th>\n",
              "      <td>charge</td>\n",
              "      <td>12114</td>\n",
              "    </tr>\n",
              "    <tr>\n",
              "      <th>9</th>\n",
              "      <td>money</td>\n",
              "      <td>11998</td>\n",
              "    </tr>\n",
              "  </tbody>\n",
              "</table>\n",
              "</div>\n",
              "      <button class=\"colab-df-convert\" onclick=\"convertToInteractive('df-6af8b534-868c-4ddb-ae46-ff13b32df8f5')\"\n",
              "              title=\"Convert this dataframe to an interactive table.\"\n",
              "              style=\"display:none;\">\n",
              "        \n",
              "  <svg xmlns=\"http://www.w3.org/2000/svg\" height=\"24px\"viewBox=\"0 0 24 24\"\n",
              "       width=\"24px\">\n",
              "    <path d=\"M0 0h24v24H0V0z\" fill=\"none\"/>\n",
              "    <path d=\"M18.56 5.44l.94 2.06.94-2.06 2.06-.94-2.06-.94-.94-2.06-.94 2.06-2.06.94zm-11 1L8.5 8.5l.94-2.06 2.06-.94-2.06-.94L8.5 2.5l-.94 2.06-2.06.94zm10 10l.94 2.06.94-2.06 2.06-.94-2.06-.94-.94-2.06-.94 2.06-2.06.94z\"/><path d=\"M17.41 7.96l-1.37-1.37c-.4-.4-.92-.59-1.43-.59-.52 0-1.04.2-1.43.59L10.3 9.45l-7.72 7.72c-.78.78-.78 2.05 0 2.83L4 21.41c.39.39.9.59 1.41.59.51 0 1.02-.2 1.41-.59l7.78-7.78 2.81-2.81c.8-.78.8-2.07 0-2.86zM5.41 20L4 18.59l7.72-7.72 1.47 1.35L5.41 20z\"/>\n",
              "  </svg>\n",
              "      </button>\n",
              "      \n",
              "  <style>\n",
              "    .colab-df-container {\n",
              "      display:flex;\n",
              "      flex-wrap:wrap;\n",
              "      gap: 12px;\n",
              "    }\n",
              "\n",
              "    .colab-df-convert {\n",
              "      background-color: #E8F0FE;\n",
              "      border: none;\n",
              "      border-radius: 50%;\n",
              "      cursor: pointer;\n",
              "      display: none;\n",
              "      fill: #1967D2;\n",
              "      height: 32px;\n",
              "      padding: 0 0 0 0;\n",
              "      width: 32px;\n",
              "    }\n",
              "\n",
              "    .colab-df-convert:hover {\n",
              "      background-color: #E2EBFA;\n",
              "      box-shadow: 0px 1px 2px rgba(60, 64, 67, 0.3), 0px 1px 3px 1px rgba(60, 64, 67, 0.15);\n",
              "      fill: #174EA6;\n",
              "    }\n",
              "\n",
              "    [theme=dark] .colab-df-convert {\n",
              "      background-color: #3B4455;\n",
              "      fill: #D2E3FC;\n",
              "    }\n",
              "\n",
              "    [theme=dark] .colab-df-convert:hover {\n",
              "      background-color: #434B5C;\n",
              "      box-shadow: 0px 1px 3px 1px rgba(0, 0, 0, 0.15);\n",
              "      filter: drop-shadow(0px 1px 2px rgba(0, 0, 0, 0.3));\n",
              "      fill: #FFFFFF;\n",
              "    }\n",
              "  </style>\n",
              "\n",
              "      <script>\n",
              "        const buttonEl =\n",
              "          document.querySelector('#df-6af8b534-868c-4ddb-ae46-ff13b32df8f5 button.colab-df-convert');\n",
              "        buttonEl.style.display =\n",
              "          google.colab.kernel.accessAllowed ? 'block' : 'none';\n",
              "\n",
              "        async function convertToInteractive(key) {\n",
              "          const element = document.querySelector('#df-6af8b534-868c-4ddb-ae46-ff13b32df8f5');\n",
              "          const dataTable =\n",
              "            await google.colab.kernel.invokeFunction('convertToInteractive',\n",
              "                                                     [key], {});\n",
              "          if (!dataTable) return;\n",
              "\n",
              "          const docLinkHtml = 'Like what you see? Visit the ' +\n",
              "            '<a target=\"_blank\" href=https://colab.research.google.com/notebooks/data_table.ipynb>data table notebook</a>'\n",
              "            + ' to learn more about interactive tables.';\n",
              "          element.innerHTML = '';\n",
              "          dataTable['output_type'] = 'display_data';\n",
              "          await google.colab.output.renderOutput(dataTable, element);\n",
              "          const docLink = document.createElement('div');\n",
              "          docLink.innerHTML = docLinkHtml;\n",
              "          element.appendChild(docLink);\n",
              "        }\n",
              "      </script>\n",
              "    </div>\n",
              "  </div>\n",
              "  "
            ]
          },
          "metadata": {},
          "execution_count": 36
        }
      ],
      "source": [
        "# Print the top 10 words in the unigram frequence\n",
        "df2.head(10)"
      ]
    },
    {
      "cell_type": "markdown",
      "metadata": {
        "id": "-fWbbmptFJy4"
      },
      "source": [
        "As expected, we are aligned with findings in Word Cloud. All words related to bank accounts."
      ]
    },
    {
      "cell_type": "markdown",
      "metadata": {
        "id": "VwZP7746F_53"
      },
      "source": [
        "#### Top bigrams by frequency\n",
        "Now we'll augment the number of words to consider (phrases) and see the most common bigrams in the complaints."
      ]
    },
    {
      "cell_type": "code",
      "execution_count": null,
      "metadata": {
        "colab": {
          "base_uri": "https://localhost:8080/",
          "height": 413
        },
        "id": "9IRKALOCL-cy",
        "outputId": "f9123c34-63e7-4782-b92e-56922089a39a"
      },
      "outputs": [
        {
          "output_type": "display_data",
          "data": {
            "text/plain": [
              "<Figure size 720x360 with 1 Axes>"
            ],
            "image/png": "[encoded data removed]"
          },
          "metadata": {
            "needs_background": "light"
          }
        }
      ],
      "source": [
        "common_words = get_top_ngrams(df_clean['complaint_POS_removed'].values.astype('U'), 30, 2)\n",
        "df3 = pd.DataFrame(common_words, columns = ['bigram' , 'count'])\n",
        "\n",
        "# Plot the top 30 bigrams\n",
        "plt.figure(figsize=(10,5))\n",
        "sns.barplot(x='bigram', y='count', data=df3, palette=\"coolwarm\")\n",
        "plt.xticks(rotation=90)\n",
        "plt.title(\"Top 30 bigrams in the Complaint text after removing stop words and lemmatization\", fontsize=15)\n",
        "plt.show()"
      ]
    },
    {
      "cell_type": "code",
      "execution_count": null,
      "metadata": {
        "colab": {
          "base_uri": "https://localhost:8080/",
          "height": 363
        },
        "id": "NPnMNIpyJrF9",
        "outputId": "1a78ce89-daf7-48e6-99fd-8746c98264f9"
      },
      "outputs": [
        {
          "output_type": "execute_result",
          "data": {
            "text/plain": [
              "             bigram  count\n",
              "0       credit card  12662\n",
              "1     account chase   3822\n",
              "2     credit report   3812\n",
              "3      chase credit   3566\n",
              "4  checking account   3441\n",
              "5     chase account   3058\n",
              "6        chase bank   2989\n",
              "7  customer service   2970\n",
              "8   account account   2779\n",
              "9      bank account   2255"
            ],
            "text/html": [
              "\n",
              "  <div id=\"df-466cf600-705b-4434-8c33-2bf9f492ff7d\">\n",
              "    <div class=\"colab-df-container\">\n",
              "      <div>\n",
              "<style scoped>\n",
              "    .dataframe tbody tr th:only-of-type {\n",
              "        vertical-align: middle;\n",
              "    }\n",
              "\n",
              "    .dataframe tbody tr th {\n",
              "        vertical-align: top;\n",
              "    }\n",
              "\n",
              "    .dataframe thead th {\n",
              "        text-align: right;\n",
              "    }\n",
              "</style>\n",
              "<table border=\"1\" class=\"dataframe\">\n",
              "  <thead>\n",
              "    <tr style=\"text-align: right;\">\n",
              "      <th></th>\n",
              "      <th>bigram</th>\n",
              "      <th>count</th>\n",
              "    </tr>\n",
              "  </thead>\n",
              "  <tbody>\n",
              "    <tr>\n",
              "      <th>0</th>\n",
              "      <td>credit card</td>\n",
              "      <td>12662</td>\n",
              "    </tr>\n",
              "    <tr>\n",
              "      <th>1</th>\n",
              "      <td>account chase</td>\n",
              "      <td>3822</td>\n",
              "    </tr>\n",
              "    <tr>\n",
              "      <th>2</th>\n",
              "      <td>credit report</td>\n",
              "      <td>3812</td>\n",
              "    </tr>\n",
              "    <tr>\n",
              "      <th>3</th>\n",
              "      <td>chase credit</td>\n",
              "      <td>3566</td>\n",
              "    </tr>\n",
              "    <tr>\n",
              "      <th>4</th>\n",
              "      <td>checking account</td>\n",
              "      <td>3441</td>\n",
              "    </tr>\n",
              "    <tr>\n",
              "      <th>5</th>\n",
              "      <td>chase account</td>\n",
              "      <td>3058</td>\n",
              "    </tr>\n",
              "    <tr>\n",
              "      <th>6</th>\n",
              "      <td>chase bank</td>\n",
              "      <td>2989</td>\n",
              "    </tr>\n",
              "    <tr>\n",
              "      <th>7</th>\n",
              "      <td>customer service</td>\n",
              "      <td>2970</td>\n",
              "    </tr>\n",
              "    <tr>\n",
              "      <th>8</th>\n",
              "      <td>account account</td>\n",
              "      <td>2779</td>\n",
              "    </tr>\n",
              "    <tr>\n",
              "      <th>9</th>\n",
              "      <td>bank account</td>\n",
              "      <td>2255</td>\n",
              "    </tr>\n",
              "  </tbody>\n",
              "</table>\n",
              "</div>\n",
              "      <button class=\"colab-df-convert\" onclick=\"convertToInteractive('df-466cf600-705b-4434-8c33-2bf9f492ff7d')\"\n",
              "              title=\"Convert this dataframe to an interactive table.\"\n",
              "              style=\"display:none;\">\n",
              "        \n",
              "  <svg xmlns=\"http://www.w3.org/2000/svg\" height=\"24px\"viewBox=\"0 0 24 24\"\n",
              "       width=\"24px\">\n",
              "    <path d=\"M0 0h24v24H0V0z\" fill=\"none\"/>\n",
              "    <path d=\"M18.56 5.44l.94 2.06.94-2.06 2.06-.94-2.06-.94-.94-2.06-.94 2.06-2.06.94zm-11 1L8.5 8.5l.94-2.06 2.06-.94-2.06-.94L8.5 2.5l-.94 2.06-2.06.94zm10 10l.94 2.06.94-2.06 2.06-.94-2.06-.94-.94-2.06-.94 2.06-2.06.94z\"/><path d=\"M17.41 7.96l-1.37-1.37c-.4-.4-.92-.59-1.43-.59-.52 0-1.04.2-1.43.59L10.3 9.45l-7.72 7.72c-.78.78-.78 2.05 0 2.83L4 21.41c.39.39.9.59 1.41.59.51 0 1.02-.2 1.41-.59l7.78-7.78 2.81-2.81c.8-.78.8-2.07 0-2.86zM5.41 20L4 18.59l7.72-7.72 1.47 1.35L5.41 20z\"/>\n",
              "  </svg>\n",
              "      </button>\n",
              "      \n",
              "  <style>\n",
              "    .colab-df-container {\n",
              "      display:flex;\n",
              "      flex-wrap:wrap;\n",
              "      gap: 12px;\n",
              "    }\n",
              "\n",
              "    .colab-df-convert {\n",
              "      background-color: #E8F0FE;\n",
              "      border: none;\n",
              "      border-radius: 50%;\n",
              "      cursor: pointer;\n",
              "      display: none;\n",
              "      fill: #1967D2;\n",
              "      height: 32px;\n",
              "      padding: 0 0 0 0;\n",
              "      width: 32px;\n",
              "    }\n",
              "\n",
              "    .colab-df-convert:hover {\n",
              "      background-color: #E2EBFA;\n",
              "      box-shadow: 0px 1px 2px rgba(60, 64, 67, 0.3), 0px 1px 3px 1px rgba(60, 64, 67, 0.15);\n",
              "      fill: #174EA6;\n",
              "    }\n",
              "\n",
              "    [theme=dark] .colab-df-convert {\n",
              "      background-color: #3B4455;\n",
              "      fill: #D2E3FC;\n",
              "    }\n",
              "\n",
              "    [theme=dark] .colab-df-convert:hover {\n",
              "      background-color: #434B5C;\n",
              "      box-shadow: 0px 1px 3px 1px rgba(0, 0, 0, 0.15);\n",
              "      filter: drop-shadow(0px 1px 2px rgba(0, 0, 0, 0.3));\n",
              "      fill: #FFFFFF;\n",
              "    }\n",
              "  </style>\n",
              "\n",
              "      <script>\n",
              "        const buttonEl =\n",
              "          document.querySelector('#df-466cf600-705b-4434-8c33-2bf9f492ff7d button.colab-df-convert');\n",
              "        buttonEl.style.display =\n",
              "          google.colab.kernel.accessAllowed ? 'block' : 'none';\n",
              "\n",
              "        async function convertToInteractive(key) {\n",
              "          const element = document.querySelector('#df-466cf600-705b-4434-8c33-2bf9f492ff7d');\n",
              "          const dataTable =\n",
              "            await google.colab.kernel.invokeFunction('convertToInteractive',\n",
              "                                                     [key], {});\n",
              "          if (!dataTable) return;\n",
              "\n",
              "          const docLinkHtml = 'Like what you see? Visit the ' +\n",
              "            '<a target=\"_blank\" href=https://colab.research.google.com/notebooks/data_table.ipynb>data table notebook</a>'\n",
              "            + ' to learn more about interactive tables.';\n",
              "          element.innerHTML = '';\n",
              "          dataTable['output_type'] = 'display_data';\n",
              "          await google.colab.output.renderOutput(dataTable, element);\n",
              "          const docLink = document.createElement('div');\n",
              "          docLink.innerHTML = docLinkHtml;\n",
              "          element.appendChild(docLink);\n",
              "        }\n",
              "      </script>\n",
              "    </div>\n",
              "  </div>\n",
              "  "
            ]
          },
          "metadata": {},
          "execution_count": 38
        }
      ],
      "source": [
        "#Print the top 10 words in the bigram frequency\n",
        "df3.head(10)"
      ]
    },
    {
      "cell_type": "markdown",
      "metadata": {
        "id": "kE_T6I18Gikb"
      },
      "source": [
        "Most common bigrams are related to credits and accounts, which is again expected."
      ]
    },
    {
      "cell_type": "markdown",
      "metadata": {
        "id": "MyaPFRRCHN0L"
      },
      "source": [
        "#### Top trigrams by frequency\n",
        "\n",
        "Let's augment the number of words to consider again."
      ]
    },
    {
      "cell_type": "code",
      "execution_count": null,
      "metadata": {
        "colab": {
          "base_uri": "https://localhost:8080/",
          "height": 483
        },
        "id": "VfkQWncXMJa-",
        "outputId": "1ebcd0e9-e28b-417f-a06e-d81ee58d39d5"
      },
      "outputs": [
        {
          "output_type": "display_data",
          "data": {
            "text/plain": [
              "<Figure size 720x360 with 1 Axes>"
            ],
            "image/png": "[encoded data removed]"
          },
          "metadata": {
            "needs_background": "light"
          }
        }
      ],
      "source": [
        "common_words = get_top_ngrams(df_clean['complaint_POS_removed'].values.astype('U'), 30, 3)\n",
        "df4 = pd.DataFrame(common_words, columns = ['trigram' , 'count'])\n",
        "\n",
        "# Plot the top 30 unigrams\n",
        "plt.figure(figsize=(10,5))\n",
        "sns.barplot(x='trigram', y='count', data=df4, palette=\"coolwarm\")\n",
        "plt.xticks(rotation=90)\n",
        "plt.title(\"Top 30 trigrams in the Complaint text after removing stop words and lemmatization\", fontsize=15)\n",
        "plt.show()"
      ]
    },
    {
      "cell_type": "code",
      "execution_count": null,
      "metadata": {
        "colab": {
          "base_uri": "https://localhost:8080/",
          "height": 363
        },
        "id": "REcVxNfvJrF-",
        "outputId": "1139547e-c739-4cc8-9db6-71d079a9395a"
      },
      "outputs": [
        {
          "output_type": "execute_result",
          "data": {
            "text/plain": [
              "                  trigram  count\n",
              "0       chase credit card   2431\n",
              "1     credit card account   1083\n",
              "2     credit card company    998\n",
              "3       credit card chase    908\n",
              "4  chase customer service    603\n",
              "5      credit card credit    588\n",
              "6   inquiry credit report    547\n",
              "7  chase checking account    515\n",
              "8        card credit card    467\n",
              "9     account credit card    445"
            ],
            "text/html": [
              "\n",
              "  <div id=\"df-7b5ab774-59e3-4881-afe4-5cf4e0b57528\">\n",
              "    <div class=\"colab-df-container\">\n",
              "      <div>\n",
              "<style scoped>\n",
              "    .dataframe tbody tr th:only-of-type {\n",
              "        vertical-align: middle;\n",
              "    }\n",
              "\n",
              "    .dataframe tbody tr th {\n",
              "        vertical-align: top;\n",
              "    }\n",
              "\n",
              "    .dataframe thead th {\n",
              "        text-align: right;\n",
              "    }\n",
              "</style>\n",
              "<table border=\"1\" class=\"dataframe\">\n",
              "  <thead>\n",
              "    <tr style=\"text-align: right;\">\n",
              "      <th></th>\n",
              "      <th>trigram</th>\n",
              "      <th>count</th>\n",
              "    </tr>\n",
              "  </thead>\n",
              "  <tbody>\n",
              "    <tr>\n",
              "      <th>0</th>\n",
              "      <td>chase credit card</td>\n",
              "      <td>2431</td>\n",
              "    </tr>\n",
              "    <tr>\n",
              "      <th>1</th>\n",
              "      <td>credit card account</td>\n",
              "      <td>1083</td>\n",
              "    </tr>\n",
              "    <tr>\n",
              "      <th>2</th>\n",
              "      <td>credit card company</td>\n",
              "      <td>998</td>\n",
              "    </tr>\n",
              "    <tr>\n",
              "      <th>3</th>\n",
              "      <td>credit card chase</td>\n",
              "      <td>908</td>\n",
              "    </tr>\n",
              "    <tr>\n",
              "      <th>4</th>\n",
              "      <td>chase customer service</td>\n",
              "      <td>603</td>\n",
              "    </tr>\n",
              "    <tr>\n",
              "      <th>5</th>\n",
              "      <td>credit card credit</td>\n",
              "      <td>588</td>\n",
              "    </tr>\n",
              "    <tr>\n",
              "      <th>6</th>\n",
              "      <td>inquiry credit report</td>\n",
              "      <td>547</td>\n",
              "    </tr>\n",
              "    <tr>\n",
              "      <th>7</th>\n",
              "      <td>chase checking account</td>\n",
              "      <td>515</td>\n",
              "    </tr>\n",
              "    <tr>\n",
              "      <th>8</th>\n",
              "      <td>card credit card</td>\n",
              "      <td>467</td>\n",
              "    </tr>\n",
              "    <tr>\n",
              "      <th>9</th>\n",
              "      <td>account credit card</td>\n",
              "      <td>445</td>\n",
              "    </tr>\n",
              "  </tbody>\n",
              "</table>\n",
              "</div>\n",
              "      <button class=\"colab-df-convert\" onclick=\"convertToInteractive('df-7b5ab774-59e3-4881-afe4-5cf4e0b57528')\"\n",
              "              title=\"Convert this dataframe to an interactive table.\"\n",
              "              style=\"display:none;\">\n",
              "        \n",
              "  <svg xmlns=\"http://www.w3.org/2000/svg\" height=\"24px\"viewBox=\"0 0 24 24\"\n",
              "       width=\"24px\">\n",
              "    <path d=\"M0 0h24v24H0V0z\" fill=\"none\"/>\n",
              "    <path d=\"M18.56 5.44l.94 2.06.94-2.06 2.06-.94-2.06-.94-.94-2.06-.94 2.06-2.06.94zm-11 1L8.5 8.5l.94-2.06 2.06-.94-2.06-.94L8.5 2.5l-.94 2.06-2.06.94zm10 10l.94 2.06.94-2.06 2.06-.94-2.06-.94-.94-2.06-.94 2.06-2.06.94z\"/><path d=\"M17.41 7.96l-1.37-1.37c-.4-.4-.92-.59-1.43-.59-.52 0-1.04.2-1.43.59L10.3 9.45l-7.72 7.72c-.78.78-.78 2.05 0 2.83L4 21.41c.39.39.9.59 1.41.59.51 0 1.02-.2 1.41-.59l7.78-7.78 2.81-2.81c.8-.78.8-2.07 0-2.86zM5.41 20L4 18.59l7.72-7.72 1.47 1.35L5.41 20z\"/>\n",
              "  </svg>\n",
              "      </button>\n",
              "      \n",
              "  <style>\n",
              "    .colab-df-container {\n",
              "      display:flex;\n",
              "      flex-wrap:wrap;\n",
              "      gap: 12px;\n",
              "    }\n",
              "\n",
              "    .colab-df-convert {\n",
              "      background-color: #E8F0FE;\n",
              "      border: none;\n",
              "      border-radius: 50%;\n",
              "      cursor: pointer;\n",
              "      display: none;\n",
              "      fill: #1967D2;\n",
              "      height: 32px;\n",
              "      padding: 0 0 0 0;\n",
              "      width: 32px;\n",
              "    }\n",
              "\n",
              "    .colab-df-convert:hover {\n",
              "      background-color: #E2EBFA;\n",
              "      box-shadow: 0px 1px 2px rgba(60, 64, 67, 0.3), 0px 1px 3px 1px rgba(60, 64, 67, 0.15);\n",
              "      fill: #174EA6;\n",
              "    }\n",
              "\n",
              "    [theme=dark] .colab-df-convert {\n",
              "      background-color: #3B4455;\n",
              "      fill: #D2E3FC;\n",
              "    }\n",
              "\n",
              "    [theme=dark] .colab-df-convert:hover {\n",
              "      background-color: #434B5C;\n",
              "      box-shadow: 0px 1px 3px 1px rgba(0, 0, 0, 0.15);\n",
              "      filter: drop-shadow(0px 1px 2px rgba(0, 0, 0, 0.3));\n",
              "      fill: #FFFFFF;\n",
              "    }\n",
              "  </style>\n",
              "\n",
              "      <script>\n",
              "        const buttonEl =\n",
              "          document.querySelector('#df-7b5ab774-59e3-4881-afe4-5cf4e0b57528 button.colab-df-convert');\n",
              "        buttonEl.style.display =\n",
              "          google.colab.kernel.accessAllowed ? 'block' : 'none';\n",
              "\n",
              "        async function convertToInteractive(key) {\n",
              "          const element = document.querySelector('#df-7b5ab774-59e3-4881-afe4-5cf4e0b57528');\n",
              "          const dataTable =\n",
              "            await google.colab.kernel.invokeFunction('convertToInteractive',\n",
              "                                                     [key], {});\n",
              "          if (!dataTable) return;\n",
              "\n",
              "          const docLinkHtml = 'Like what you see? Visit the ' +\n",
              "            '<a target=\"_blank\" href=https://colab.research.google.com/notebooks/data_table.ipynb>data table notebook</a>'\n",
              "            + ' to learn more about interactive tables.';\n",
              "          element.innerHTML = '';\n",
              "          dataTable['output_type'] = 'display_data';\n",
              "          await google.colab.output.renderOutput(dataTable, element);\n",
              "          const docLink = document.createElement('div');\n",
              "          docLink.innerHTML = docLinkHtml;\n",
              "          element.appendChild(docLink);\n",
              "        }\n",
              "      </script>\n",
              "    </div>\n",
              "  </div>\n",
              "  "
            ]
          },
          "metadata": {},
          "execution_count": 40
        }
      ],
      "source": [
        "#Print the top 10 words in the trigram frequency\n",
        "df4.head(10)"
      ]
    },
    {
      "cell_type": "markdown",
      "metadata": {
        "id": "QGGsldT_HvRf"
      },
      "source": [
        "Now we see that **most of the complaints are about credits!**"
      ]
    },
    {
      "cell_type": "markdown",
      "metadata": {
        "id": "yUXzFji0JrF_"
      },
      "source": [
        "### Personal details handling\n",
        "The personal details of customer has been masked in the dataset with xxxx. Let's remove the masked text as this will be of no use for our analysis.\n",
        "\n",
        "Also, from our cleaning step we have \"XX\" words that were part of dates, we'll remove those also.\n",
        "\n",
        "Note that **this information did not appear in POS tagging**, it was not recognized as a noun."
      ]
    },
    {
      "cell_type": "code",
      "execution_count": null,
      "metadata": {
        "id": "wKda-a_IJrF_"
      },
      "outputs": [],
      "source": [
        "# Remove X character words\n",
        "df_clean['complaint'] = df_clean['complaint'].str.lower().str.replace('xx+','',regex=True)\n",
        "df_clean['lemmatized'] = df_clean['lemmatized'].str.lower().str.replace('xx+','',regex=True)"
      ]
    },
    {
      "cell_type": "markdown",
      "metadata": {
        "id": "5L0siCoXLe-C"
      },
      "source": [
        "Let's check we have removed all masked texts correctly."
      ]
    },
    {
      "cell_type": "code",
      "execution_count": null,
      "metadata": {
        "colab": {
          "base_uri": "https://localhost:8080/",
          "height": 954
        },
        "id": "9UIFk8fQJrF_",
        "outputId": "8efcb5e1-c520-4822-bb67-2075f99888c5"
      },
      "outputs": [
        {
          "output_type": "execute_result",
          "data": {
            "text/plain": [
              "                                               complaint  \\\n",
              "0      good morning my name is   and i appreciate it ...   \n",
              "1      i upgraded my   card in   and was told by the ...   \n",
              "2      chase card was reported on   however fraudulen...   \n",
              "3      on   while trying to book a   ticket i came ac...   \n",
              "4      my grand son give me check for i deposit it in...   \n",
              "...                                                  ...   \n",
              "21067  after being a chase card customer for well ove...   \n",
              "21068  on wednesday    i called chas my   visa credit...   \n",
              "21069  i am not familiar with  pay and did not unders...   \n",
              "21070  i have had flawless credit for yrs i ve had ch...   \n",
              "21071  roughly years ago i closed out my accounts wit...   \n",
              "\n",
              "                                              lemmatized  \\\n",
              "0      good morning my name is   and i appreciate it ...   \n",
              "1      i upgraded my   card in   and wa told by the a...   \n",
              "2      chase card wa reported on   however fraudulent...   \n",
              "3      on   while trying to book a   ticket i came ac...   \n",
              "4      my grand son give me check for i deposit it in...   \n",
              "...                                                  ...   \n",
              "21067  after being a chase card customer for well ove...   \n",
              "21068  on wednesday    i called chas my   visa credit...   \n",
              "21069  i am not familiar with  pay and did not unders...   \n",
              "21070  i have had flawless credit for yr i ve had cha...   \n",
              "21071  roughly year ago i closed out my account with ...   \n",
              "\n",
              "                                   complaint_POS_removed  \\\n",
              "0      morning name stop debt verification statement ...   \n",
              "1      agent anniversary date agent information order...   \n",
              "2      chase card application identity consent servic...   \n",
              "3      ticket offer ticket reward card information of...   \n",
              "4      son check chase account fund chase bank accoun...   \n",
              "...                                                  ...   \n",
              "21067  chase card customer decade solicitation credit...   \n",
              "21068  credit card provider claim purchase protection...   \n",
              "21069  pay risk consumer chase bank app chase year ba...   \n",
              "21070  credit yr chase credit card chase freedom prob...   \n",
              "21071  year account order line credit account payment...   \n",
              "\n",
              "                                         Complaint_clean  \n",
              "0      morning name stop debt verification statement ...  \n",
              "1      agent anniversary date agent information order...  \n",
              "2      chase card application identity consent servic...  \n",
              "3      ticket offer ticket reward card information of...  \n",
              "4      son check chase account fund chase bank accoun...  \n",
              "...                                                  ...  \n",
              "21067  chase card customer decade solicitation credit...  \n",
              "21068  credit card provider claim purchase protection...  \n",
              "21069  pay risk consumer chase bank app chase year ba...  \n",
              "21070  credit yr chase credit card chase freedom prob...  \n",
              "21071  year account order line credit account payment...  \n",
              "\n",
              "[21072 rows x 4 columns]"
            ],
            "text/html": [
              "\n",
              "  <div id=\"df-21fc5e46-99cd-4f4b-9ca2-cb2d8593390a\">\n",
              "    <div class=\"colab-df-container\">\n",
              "      <div>\n",
              "<style scoped>\n",
              "    .dataframe tbody tr th:only-of-type {\n",
              "        vertical-align: middle;\n",
              "    }\n",
              "\n",
              "    .dataframe tbody tr th {\n",
              "        vertical-align: top;\n",
              "    }\n",
              "\n",
              "    .dataframe thead th {\n",
              "        text-align: right;\n",
              "    }\n",
              "</style>\n",
              "<table border=\"1\" class=\"dataframe\">\n",
              "  <thead>\n",
              "    <tr style=\"text-align: right;\">\n",
              "      <th></th>\n",
              "      <th>complaint</th>\n",
              "      <th>lemmatized</th>\n",
              "      <th>complaint_POS_removed</th>\n",
              "      <th>Complaint_clean</th>\n",
              "    </tr>\n",
              "  </thead>\n",
              "  <tbody>\n",
              "    <tr>\n",
              "      <th>0</th>\n",
              "      <td>good morning my name is   and i appreciate it ...</td>\n",
              "      <td>good morning my name is   and i appreciate it ...</td>\n",
              "      <td>morning name stop debt verification statement ...</td>\n",
              "      <td>morning name stop debt verification statement ...</td>\n",
              "    </tr>\n",
              "    <tr>\n",
              "      <th>1</th>\n",
              "      <td>i upgraded my   card in   and was told by the ...</td>\n",
              "      <td>i upgraded my   card in   and wa told by the a...</td>\n",
              "      <td>agent anniversary date agent information order...</td>\n",
              "      <td>agent anniversary date agent information order...</td>\n",
              "    </tr>\n",
              "    <tr>\n",
              "      <th>2</th>\n",
              "      <td>chase card was reported on   however fraudulen...</td>\n",
              "      <td>chase card wa reported on   however fraudulent...</td>\n",
              "      <td>chase card application identity consent servic...</td>\n",
              "      <td>chase card application identity consent servic...</td>\n",
              "    </tr>\n",
              "    <tr>\n",
              "      <th>3</th>\n",
              "      <td>on   while trying to book a   ticket i came ac...</td>\n",
              "      <td>on   while trying to book a   ticket i came ac...</td>\n",
              "      <td>ticket offer ticket reward card information of...</td>\n",
              "      <td>ticket offer ticket reward card information of...</td>\n",
              "    </tr>\n",
              "    <tr>\n",
              "      <th>4</th>\n",
              "      <td>my grand son give me check for i deposit it in...</td>\n",
              "      <td>my grand son give me check for i deposit it in...</td>\n",
              "      <td>son check chase account fund chase bank accoun...</td>\n",
              "      <td>son check chase account fund chase bank accoun...</td>\n",
              "    </tr>\n",
              "    <tr>\n",
              "      <th>...</th>\n",
              "      <td>...</td>\n",
              "      <td>...</td>\n",
              "      <td>...</td>\n",
              "      <td>...</td>\n",
              "    </tr>\n",
              "    <tr>\n",
              "      <th>21067</th>\n",
              "      <td>after being a chase card customer for well ove...</td>\n",
              "      <td>after being a chase card customer for well ove...</td>\n",
              "      <td>chase card customer decade solicitation credit...</td>\n",
              "      <td>chase card customer decade solicitation credit...</td>\n",
              "    </tr>\n",
              "    <tr>\n",
              "      <th>21068</th>\n",
              "      <td>on wednesday    i called chas my   visa credit...</td>\n",
              "      <td>on wednesday    i called chas my   visa credit...</td>\n",
              "      <td>credit card provider claim purchase protection...</td>\n",
              "      <td>credit card provider claim purchase protection...</td>\n",
              "    </tr>\n",
              "    <tr>\n",
              "      <th>21069</th>\n",
              "      <td>i am not familiar with  pay and did not unders...</td>\n",
              "      <td>i am not familiar with  pay and did not unders...</td>\n",
              "      <td>pay risk consumer chase bank app chase year ba...</td>\n",
              "      <td>pay risk consumer chase bank app chase year ba...</td>\n",
              "    </tr>\n",
              "    <tr>\n",
              "      <th>21070</th>\n",
              "      <td>i have had flawless credit for yrs i ve had ch...</td>\n",
              "      <td>i have had flawless credit for yr i ve had cha...</td>\n",
              "      <td>credit yr chase credit card chase freedom prob...</td>\n",
              "      <td>credit yr chase credit card chase freedom prob...</td>\n",
              "    </tr>\n",
              "    <tr>\n",
              "      <th>21071</th>\n",
              "      <td>roughly years ago i closed out my accounts wit...</td>\n",
              "      <td>roughly year ago i closed out my account with ...</td>\n",
              "      <td>year account order line credit account payment...</td>\n",
              "      <td>year account order line credit account payment...</td>\n",
              "    </tr>\n",
              "  </tbody>\n",
              "</table>\n",
              "<p>21072 rows × 4 columns</p>\n",
              "</div>\n",
              "      <button class=\"colab-df-convert\" onclick=\"convertToInteractive('df-21fc5e46-99cd-4f4b-9ca2-cb2d8593390a')\"\n",
              "              title=\"Convert this dataframe to an interactive table.\"\n",
              "              style=\"display:none;\">\n",
              "        \n",
              "  <svg xmlns=\"http://www.w3.org/2000/svg\" height=\"24px\"viewBox=\"0 0 24 24\"\n",
              "       width=\"24px\">\n",
              "    <path d=\"M0 0h24v24H0V0z\" fill=\"none\"/>\n",
              "    <path d=\"M18.56 5.44l.94 2.06.94-2.06 2.06-.94-2.06-.94-.94-2.06-.94 2.06-2.06.94zm-11 1L8.5 8.5l.94-2.06 2.06-.94-2.06-.94L8.5 2.5l-.94 2.06-2.06.94zm10 10l.94 2.06.94-2.06 2.06-.94-2.06-.94-.94-2.06-.94 2.06-2.06.94z\"/><path d=\"M17.41 7.96l-1.37-1.37c-.4-.4-.92-.59-1.43-.59-.52 0-1.04.2-1.43.59L10.3 9.45l-7.72 7.72c-.78.78-.78 2.05 0 2.83L4 21.41c.39.39.9.59 1.41.59.51 0 1.02-.2 1.41-.59l7.78-7.78 2.81-2.81c.8-.78.8-2.07 0-2.86zM5.41 20L4 18.59l7.72-7.72 1.47 1.35L5.41 20z\"/>\n",
              "  </svg>\n",
              "      </button>\n",
              "      \n",
              "  <style>\n",
              "    .colab-df-container {\n",
              "      display:flex;\n",
              "      flex-wrap:wrap;\n",
              "      gap: 12px;\n",
              "    }\n",
              "\n",
              "    .colab-df-convert {\n",
              "      background-color: #E8F0FE;\n",
              "      border: none;\n",
              "      border-radius: 50%;\n",
              "      cursor: pointer;\n",
              "      display: none;\n",
              "      fill: #1967D2;\n",
              "      height: 32px;\n",
              "      padding: 0 0 0 0;\n",
              "      width: 32px;\n",
              "    }\n",
              "\n",
              "    .colab-df-convert:hover {\n",
              "      background-color: #E2EBFA;\n",
              "      box-shadow: 0px 1px 2px rgba(60, 64, 67, 0.3), 0px 1px 3px 1px rgba(60, 64, 67, 0.15);\n",
              "      fill: #174EA6;\n",
              "    }\n",
              "\n",
              "    [theme=dark] .colab-df-convert {\n",
              "      background-color: #3B4455;\n",
              "      fill: #D2E3FC;\n",
              "    }\n",
              "\n",
              "    [theme=dark] .colab-df-convert:hover {\n",
              "      background-color: #434B5C;\n",
              "      box-shadow: 0px 1px 3px 1px rgba(0, 0, 0, 0.15);\n",
              "      filter: drop-shadow(0px 1px 2px rgba(0, 0, 0, 0.3));\n",
              "      fill: #FFFFFF;\n",
              "    }\n",
              "  </style>\n",
              "\n",
              "      <script>\n",
              "        const buttonEl =\n",
              "          document.querySelector('#df-21fc5e46-99cd-4f4b-9ca2-cb2d8593390a button.colab-df-convert');\n",
              "        buttonEl.style.display =\n",
              "          google.colab.kernel.accessAllowed ? 'block' : 'none';\n",
              "\n",
              "        async function convertToInteractive(key) {\n",
              "          const element = document.querySelector('#df-21fc5e46-99cd-4f4b-9ca2-cb2d8593390a');\n",
              "          const dataTable =\n",
              "            await google.colab.kernel.invokeFunction('convertToInteractive',\n",
              "                                                     [key], {});\n",
              "          if (!dataTable) return;\n",
              "\n",
              "          const docLinkHtml = 'Like what you see? Visit the ' +\n",
              "            '<a target=\"_blank\" href=https://colab.research.google.com/notebooks/data_table.ipynb>data table notebook</a>'\n",
              "            + ' to learn more about interactive tables.';\n",
              "          element.innerHTML = '';\n",
              "          dataTable['output_type'] = 'display_data';\n",
              "          await google.colab.output.renderOutput(dataTable, element);\n",
              "          const docLink = document.createElement('div');\n",
              "          docLink.innerHTML = docLinkHtml;\n",
              "          element.appendChild(docLink);\n",
              "        }\n",
              "      </script>\n",
              "    </div>\n",
              "  </div>\n",
              "  "
            ]
          },
          "metadata": {},
          "execution_count": 42
        }
      ],
      "source": [
        "# All masked texts have been removed\n",
        "df_clean"
      ]
    },
    {
      "cell_type": "markdown",
      "metadata": {
        "id": "k-I0k0QtJrGA"
      },
      "source": [
        "## Feature Extraction\n",
        "To perform feature extraction we must convert the raw texts to a matrix of TF-IDF features\n",
        "\n",
        "**max_df** is used for removing terms that appear too frequently, also known as \"corpus-specific stop words\"\n",
        "max_df = 0.95 means \"ignore terms that appear in more than 95% of the complaints\"\n",
        "\n",
        "**min_df** is used for removing terms that appear too infrequently\n",
        "min_df = 2 means \"ignore terms that appear in less than 2 complaints\""
      ]
    },
    {
      "cell_type": "code",
      "execution_count": null,
      "metadata": {
        "id": "Y8fGwaCPJrGA"
      },
      "outputs": [],
      "source": [
        "#Write your code here to initialise the TfidfVectorizer \n",
        "tfidf = TfidfVectorizer(max_df=0.95, min_df=2, stop_words='english')"
      ]
    },
    {
      "cell_type": "markdown",
      "metadata": {
        "id": "yYzD85nTJrGA"
      },
      "source": [
        "#### Create a document term matrix \n",
        "Using fit_transform\n",
        "\n",
        "The contents of a document term matrix are tuples of (complaint_id,token_id) tf-idf score:\n",
        "The tuples that are not there have a tf-idf score of 0"
      ]
    },
    {
      "cell_type": "code",
      "execution_count": null,
      "metadata": {
        "id": "ffzdDpp_JrGB"
      },
      "outputs": [],
      "source": [
        "#Write your code here to create the Document Term Matrix by transforming the complaints column present in df_clean.\n",
        "dtm = tfidf.fit_transform(df_clean['complaint'])"
      ]
    },
    {
      "cell_type": "markdown",
      "metadata": {
        "id": "7Q9lwvNEJrGB"
      },
      "source": [
        "## Topic Modelling \n",
        "Using NMF.\n",
        "\n",
        "Non-Negative Matrix Factorization (NMF) is an unsupervised technique so there are no labeling of topics that the model will be trained on. The way it works is that, NMF decomposes (or factorizes) high-dimensional vectors into a lower-dimensional representation. These lower-dimensional vectors are non-negative which also means their coefficients are non-negative.\n",
        "\n",
        "In this task you we'll perform the following:\n",
        "\n",
        "* Find the best number of clusters \n",
        "* Apply the best number to create word clusters\n",
        "* Inspect & validate the correction of each cluster wrt the complaints \n",
        "* Correct the labels if needed \n",
        "* Map the clusters to topics/cluster names"
      ]
    },
    {
      "cell_type": "code",
      "execution_count": null,
      "metadata": {
        "id": "amLT4omWJrGB"
      },
      "outputs": [],
      "source": [
        "from sklearn.decomposition import NMF"
      ]
    },
    {
      "cell_type": "markdown",
      "metadata": {
        "id": "0wYR1xUTJrGD"
      },
      "source": [
        "We need to take the trial & error approach to find the best num of topics for your NMF model.\n",
        "\n",
        "The only parameter that is required is the number of components i.e. the number of topics we want. This is the most crucial step in the whole topic modeling process and will greatly affect how good your final topics are.\n",
        "\n",
        "**We'll start with 5 as those are the total objective categories in this case study.**"
      ]
    },
    {
      "cell_type": "code",
      "execution_count": null,
      "metadata": {
        "id": "sgd2A6bhJrGD"
      },
      "outputs": [],
      "source": [
        "# Load your nmf_model with the n_components i.e 5\n",
        "num_topics = 5\n",
        "\n",
        "# keep the random_state =40\n",
        "nmf_model = NMF(random_state=40, n_components=num_topics)"
      ]
    },
    {
      "cell_type": "code",
      "execution_count": null,
      "metadata": {
        "colab": {
          "base_uri": "https://localhost:8080/"
        },
        "id": "VPMDYbt_JrGE",
        "outputId": "cdd0a4b5-bede-4e08-a5b7-811775fc2493"
      },
      "outputs": [
        {
          "output_type": "execute_result",
          "data": {
            "text/plain": [
              "14971"
            ]
          },
          "metadata": {},
          "execution_count": 47
        }
      ],
      "source": [
        "nmf_model.fit(dtm)\n",
        "len(tfidf.get_feature_names())"
      ]
    },
    {
      "cell_type": "markdown",
      "metadata": {
        "id": "EJH51yi6Mzzs"
      },
      "source": [
        "We have obtained **14,971 features.**"
      ]
    },
    {
      "cell_type": "markdown",
      "metadata": {
        "id": "Z5oQstH2NAdx"
      },
      "source": [
        "### Topic word distribution\n",
        "To see if we can assign a topic for each row."
      ]
    },
    {
      "cell_type": "code",
      "execution_count": null,
      "metadata": {
        "colab": {
          "base_uri": "https://localhost:8080/",
          "height": 374
        },
        "id": "16kRfat5JrGE",
        "outputId": "9166933e-f23a-4fe9-dab6-a296a4f9f012"
      },
      "outputs": [
        {
          "output_type": "execute_result",
          "data": {
            "text/plain": [
              "          Word 1    Word 2    Word 3   Word 4        Word 5     Word 6  \\\n",
              "Topic 1     card     chase   charges   charge       dispute      fraud   \n",
              "Topic 2   credit      card    report  inquiry         chase  inquiries   \n",
              "Topic 3     loan  mortgage     chase     home  modification   property   \n",
              "Topic 4  account      bank     check    chase         money      funds   \n",
              "Topic 5  payment      late  payments  balance          paid        pay   \n",
              "\n",
              "              Word 7    Word 8     Word 9    Word 10   Word 11   Word 12  \\\n",
              "Topic 1       called  received        did       told  merchant     claim   \n",
              "Topic 2         hard     cards  reporting      score  accounts   account   \n",
              "Topic 3  foreclosure  payments      house       bank     years      sale   \n",
              "Topic 4     checking    closed    deposit     branch      told  accounts   \n",
              "Topic 5        month      fees        fee  statement      auto   account   \n",
              "\n",
              "             Word 13  Word 14   Word 15  \n",
              "Topic 1  transaction     said    refund  \n",
              "Topic 2       closed     debt   removed  \n",
              "Topic 3       morgan     rate        jp  \n",
              "Topic 4    deposited     said  business  \n",
              "Topic 5        chase  charged   monthly  "
            ],
            "text/html": [
              "\n",
              "  <div id=\"df-1f14bd24-e050-4cbd-bb86-9401f2b8cff4\">\n",
              "    <div class=\"colab-df-container\">\n",
              "      <div>\n",
              "<style scoped>\n",
              "    .dataframe tbody tr th:only-of-type {\n",
              "        vertical-align: middle;\n",
              "    }\n",
              "\n",
              "    .dataframe tbody tr th {\n",
              "        vertical-align: top;\n",
              "    }\n",
              "\n",
              "    .dataframe thead th {\n",
              "        text-align: right;\n",
              "    }\n",
              "</style>\n",
              "<table border=\"1\" class=\"dataframe\">\n",
              "  <thead>\n",
              "    <tr style=\"text-align: right;\">\n",
              "      <th></th>\n",
              "      <th>Word 1</th>\n",
              "      <th>Word 2</th>\n",
              "      <th>Word 3</th>\n",
              "      <th>Word 4</th>\n",
              "      <th>Word 5</th>\n",
              "      <th>Word 6</th>\n",
              "      <th>Word 7</th>\n",
              "      <th>Word 8</th>\n",
              "      <th>Word 9</th>\n",
              "      <th>Word 10</th>\n",
              "      <th>Word 11</th>\n",
              "      <th>Word 12</th>\n",
              "      <th>Word 13</th>\n",
              "      <th>Word 14</th>\n",
              "      <th>Word 15</th>\n",
              "    </tr>\n",
              "  </thead>\n",
              "  <tbody>\n",
              "    <tr>\n",
              "      <th>Topic 1</th>\n",
              "      <td>card</td>\n",
              "      <td>chase</td>\n",
              "      <td>charges</td>\n",
              "      <td>charge</td>\n",
              "      <td>dispute</td>\n",
              "      <td>fraud</td>\n",
              "      <td>called</td>\n",
              "      <td>received</td>\n",
              "      <td>did</td>\n",
              "      <td>told</td>\n",
              "      <td>merchant</td>\n",
              "      <td>claim</td>\n",
              "      <td>transaction</td>\n",
              "      <td>said</td>\n",
              "      <td>refund</td>\n",
              "    </tr>\n",
              "    <tr>\n",
              "      <th>Topic 2</th>\n",
              "      <td>credit</td>\n",
              "      <td>card</td>\n",
              "      <td>report</td>\n",
              "      <td>inquiry</td>\n",
              "      <td>chase</td>\n",
              "      <td>inquiries</td>\n",
              "      <td>hard</td>\n",
              "      <td>cards</td>\n",
              "      <td>reporting</td>\n",
              "      <td>score</td>\n",
              "      <td>accounts</td>\n",
              "      <td>account</td>\n",
              "      <td>closed</td>\n",
              "      <td>debt</td>\n",
              "      <td>removed</td>\n",
              "    </tr>\n",
              "    <tr>\n",
              "      <th>Topic 3</th>\n",
              "      <td>loan</td>\n",
              "      <td>mortgage</td>\n",
              "      <td>chase</td>\n",
              "      <td>home</td>\n",
              "      <td>modification</td>\n",
              "      <td>property</td>\n",
              "      <td>foreclosure</td>\n",
              "      <td>payments</td>\n",
              "      <td>house</td>\n",
              "      <td>bank</td>\n",
              "      <td>years</td>\n",
              "      <td>sale</td>\n",
              "      <td>morgan</td>\n",
              "      <td>rate</td>\n",
              "      <td>jp</td>\n",
              "    </tr>\n",
              "    <tr>\n",
              "      <th>Topic 4</th>\n",
              "      <td>account</td>\n",
              "      <td>bank</td>\n",
              "      <td>check</td>\n",
              "      <td>chase</td>\n",
              "      <td>money</td>\n",
              "      <td>funds</td>\n",
              "      <td>checking</td>\n",
              "      <td>closed</td>\n",
              "      <td>deposit</td>\n",
              "      <td>branch</td>\n",
              "      <td>told</td>\n",
              "      <td>accounts</td>\n",
              "      <td>deposited</td>\n",
              "      <td>said</td>\n",
              "      <td>business</td>\n",
              "    </tr>\n",
              "    <tr>\n",
              "      <th>Topic 5</th>\n",
              "      <td>payment</td>\n",
              "      <td>late</td>\n",
              "      <td>payments</td>\n",
              "      <td>balance</td>\n",
              "      <td>paid</td>\n",
              "      <td>pay</td>\n",
              "      <td>month</td>\n",
              "      <td>fees</td>\n",
              "      <td>fee</td>\n",
              "      <td>statement</td>\n",
              "      <td>auto</td>\n",
              "      <td>account</td>\n",
              "      <td>chase</td>\n",
              "      <td>charged</td>\n",
              "      <td>monthly</td>\n",
              "    </tr>\n",
              "  </tbody>\n",
              "</table>\n",
              "</div>\n",
              "      <button class=\"colab-df-convert\" onclick=\"convertToInteractive('df-1f14bd24-e050-4cbd-bb86-9401f2b8cff4')\"\n",
              "              title=\"Convert this dataframe to an interactive table.\"\n",
              "              style=\"display:none;\">\n",
              "        \n",
              "  <svg xmlns=\"http://www.w3.org/2000/svg\" height=\"24px\"viewBox=\"0 0 24 24\"\n",
              "       width=\"24px\">\n",
              "    <path d=\"M0 0h24v24H0V0z\" fill=\"none\"/>\n",
              "    <path d=\"M18.56 5.44l.94 2.06.94-2.06 2.06-.94-2.06-.94-.94-2.06-.94 2.06-2.06.94zm-11 1L8.5 8.5l.94-2.06 2.06-.94-2.06-.94L8.5 2.5l-.94 2.06-2.06.94zm10 10l.94 2.06.94-2.06 2.06-.94-2.06-.94-.94-2.06-.94 2.06-2.06.94z\"/><path d=\"M17.41 7.96l-1.37-1.37c-.4-.4-.92-.59-1.43-.59-.52 0-1.04.2-1.43.59L10.3 9.45l-7.72 7.72c-.78.78-.78 2.05 0 2.83L4 21.41c.39.39.9.59 1.41.59.51 0 1.02-.2 1.41-.59l7.78-7.78 2.81-2.81c.8-.78.8-2.07 0-2.86zM5.41 20L4 18.59l7.72-7.72 1.47 1.35L5.41 20z\"/>\n",
              "  </svg>\n",
              "      </button>\n",
              "      \n",
              "  <style>\n",
              "    .colab-df-container {\n",
              "      display:flex;\n",
              "      flex-wrap:wrap;\n",
              "      gap: 12px;\n",
              "    }\n",
              "\n",
              "    .colab-df-convert {\n",
              "      background-color: #E8F0FE;\n",
              "      border: none;\n",
              "      border-radius: 50%;\n",
              "      cursor: pointer;\n",
              "      display: none;\n",
              "      fill: #1967D2;\n",
              "      height: 32px;\n",
              "      padding: 0 0 0 0;\n",
              "      width: 32px;\n",
              "    }\n",
              "\n",
              "    .colab-df-convert:hover {\n",
              "      background-color: #E2EBFA;\n",
              "      box-shadow: 0px 1px 2px rgba(60, 64, 67, 0.3), 0px 1px 3px 1px rgba(60, 64, 67, 0.15);\n",
              "      fill: #174EA6;\n",
              "    }\n",
              "\n",
              "    [theme=dark] .colab-df-convert {\n",
              "      background-color: #3B4455;\n",
              "      fill: #D2E3FC;\n",
              "    }\n",
              "\n",
              "    [theme=dark] .colab-df-convert:hover {\n",
              "      background-color: #434B5C;\n",
              "      box-shadow: 0px 1px 3px 1px rgba(0, 0, 0, 0.15);\n",
              "      filter: drop-shadow(0px 1px 2px rgba(0, 0, 0, 0.3));\n",
              "      fill: #FFFFFF;\n",
              "    }\n",
              "  </style>\n",
              "\n",
              "      <script>\n",
              "        const buttonEl =\n",
              "          document.querySelector('#df-1f14bd24-e050-4cbd-bb86-9401f2b8cff4 button.colab-df-convert');\n",
              "        buttonEl.style.display =\n",
              "          google.colab.kernel.accessAllowed ? 'block' : 'none';\n",
              "\n",
              "        async function convertToInteractive(key) {\n",
              "          const element = document.querySelector('#df-1f14bd24-e050-4cbd-bb86-9401f2b8cff4');\n",
              "          const dataTable =\n",
              "            await google.colab.kernel.invokeFunction('convertToInteractive',\n",
              "                                                     [key], {});\n",
              "          if (!dataTable) return;\n",
              "\n",
              "          const docLinkHtml = 'Like what you see? Visit the ' +\n",
              "            '<a target=\"_blank\" href=https://colab.research.google.com/notebooks/data_table.ipynb>data table notebook</a>'\n",
              "            + ' to learn more about interactive tables.';\n",
              "          element.innerHTML = '';\n",
              "          dataTable['output_type'] = 'display_data';\n",
              "          await google.colab.output.renderOutput(dataTable, element);\n",
              "          const docLink = document.createElement('div');\n",
              "          docLink.innerHTML = docLinkHtml;\n",
              "          element.appendChild(docLink);\n",
              "        }\n",
              "      </script>\n",
              "    </div>\n",
              "  </div>\n",
              "  "
            ]
          },
          "metadata": {},
          "execution_count": 48
        }
      ],
      "source": [
        "# Print the Top 15 words for each of the topics\n",
        "words = np.array(tfidf.get_feature_names())\n",
        "topic_words_df = pd.DataFrame(np.zeros((num_topics, 15)), index=[f'Topic {i + 1}' for i in range(num_topics)],\n",
        "                           columns=[f'Word {i + 1}' for i in range(15)]).astype(str)\n",
        "\n",
        "for i in range(num_topics):\n",
        "    ix = nmf_model.components_[i].argsort()[::-1][:15]\n",
        "    topic_words_df.iloc[i] = words[ix]\n",
        "\n",
        "topic_words_df"
      ]
    },
    {
      "cell_type": "markdown",
      "metadata": {
        "id": "uK9NRFf-Qgkp"
      },
      "source": [
        "Analyzing above words we see that:\n",
        "\n",
        "- *Topic 1* is about frauds/disputes.\n",
        "- *Topic 2* is about credit cards.\n",
        "- *Topic 3* is about mortgages.\n",
        "- *Topic 4* is about bank account services.\n",
        "- *Topic 5* is about fees and payments."
      ]
    },
    {
      "cell_type": "code",
      "execution_count": null,
      "metadata": {
        "colab": {
          "base_uri": "https://localhost:8080/"
        },
        "id": "0OIT7LmFJrGF",
        "outputId": "535f6ad8-9e88-4b2f-911c-b883d82d129e"
      },
      "outputs": [
        {
          "output_type": "execute_result",
          "data": {
            "text/plain": [
              "array([2, 0, 1, ..., 0, 4, 4])"
            ]
          },
          "metadata": {},
          "execution_count": 49
        }
      ],
      "source": [
        "# Create the best topic for each complaint in terms of integer value 0,1,2,3 & 4\n",
        "topic_results = nmf_model.transform(dtm)\n",
        "topic_results.argmax(axis=1)"
      ]
    },
    {
      "cell_type": "code",
      "execution_count": null,
      "metadata": {
        "id": "peyYv-ORJrGF"
      },
      "outputs": [],
      "source": [
        "# Assign the best topic to each of the cmplaints in Topic Column\n",
        "df_clean['Topic'] = topic_results.argmax(axis=1)"
      ]
    },
    {
      "cell_type": "code",
      "execution_count": null,
      "metadata": {
        "colab": {
          "base_uri": "https://localhost:8080/",
          "height": 206
        },
        "id": "fLh_Gf3nJrGF",
        "outputId": "43bda383-2151-4e34-d671-4ce01f321590"
      },
      "outputs": [
        {
          "output_type": "execute_result",
          "data": {
            "text/plain": [
              "                                           complaint  Topic\n",
              "0  good morning my name is   and i appreciate it ...      2\n",
              "1  i upgraded my   card in   and was told by the ...      0\n",
              "2  chase card was reported on   however fraudulen...      1\n",
              "3  on   while trying to book a   ticket i came ac...      1\n",
              "4  my grand son give me check for i deposit it in...      3"
            ],
            "text/html": [
              "\n",
              "  <div id=\"df-197de900-6d3f-438a-b9e6-4f83e409ef45\">\n",
              "    <div class=\"colab-df-container\">\n",
              "      <div>\n",
              "<style scoped>\n",
              "    .dataframe tbody tr th:only-of-type {\n",
              "        vertical-align: middle;\n",
              "    }\n",
              "\n",
              "    .dataframe tbody tr th {\n",
              "        vertical-align: top;\n",
              "    }\n",
              "\n",
              "    .dataframe thead th {\n",
              "        text-align: right;\n",
              "    }\n",
              "</style>\n",
              "<table border=\"1\" class=\"dataframe\">\n",
              "  <thead>\n",
              "    <tr style=\"text-align: right;\">\n",
              "      <th></th>\n",
              "      <th>complaint</th>\n",
              "      <th>Topic</th>\n",
              "    </tr>\n",
              "  </thead>\n",
              "  <tbody>\n",
              "    <tr>\n",
              "      <th>0</th>\n",
              "      <td>good morning my name is   and i appreciate it ...</td>\n",
              "      <td>2</td>\n",
              "    </tr>\n",
              "    <tr>\n",
              "      <th>1</th>\n",
              "      <td>i upgraded my   card in   and was told by the ...</td>\n",
              "      <td>0</td>\n",
              "    </tr>\n",
              "    <tr>\n",
              "      <th>2</th>\n",
              "      <td>chase card was reported on   however fraudulen...</td>\n",
              "      <td>1</td>\n",
              "    </tr>\n",
              "    <tr>\n",
              "      <th>3</th>\n",
              "      <td>on   while trying to book a   ticket i came ac...</td>\n",
              "      <td>1</td>\n",
              "    </tr>\n",
              "    <tr>\n",
              "      <th>4</th>\n",
              "      <td>my grand son give me check for i deposit it in...</td>\n",
              "      <td>3</td>\n",
              "    </tr>\n",
              "  </tbody>\n",
              "</table>\n",
              "</div>\n",
              "      <button class=\"colab-df-convert\" onclick=\"convertToInteractive('df-197de900-6d3f-438a-b9e6-4f83e409ef45')\"\n",
              "              title=\"Convert this dataframe to an interactive table.\"\n",
              "              style=\"display:none;\">\n",
              "        \n",
              "  <svg xmlns=\"http://www.w3.org/2000/svg\" height=\"24px\"viewBox=\"0 0 24 24\"\n",
              "       width=\"24px\">\n",
              "    <path d=\"M0 0h24v24H0V0z\" fill=\"none\"/>\n",
              "    <path d=\"M18.56 5.44l.94 2.06.94-2.06 2.06-.94-2.06-.94-.94-2.06-.94 2.06-2.06.94zm-11 1L8.5 8.5l.94-2.06 2.06-.94-2.06-.94L8.5 2.5l-.94 2.06-2.06.94zm10 10l.94 2.06.94-2.06 2.06-.94-2.06-.94-.94-2.06-.94 2.06-2.06.94z\"/><path d=\"M17.41 7.96l-1.37-1.37c-.4-.4-.92-.59-1.43-.59-.52 0-1.04.2-1.43.59L10.3 9.45l-7.72 7.72c-.78.78-.78 2.05 0 2.83L4 21.41c.39.39.9.59 1.41.59.51 0 1.02-.2 1.41-.59l7.78-7.78 2.81-2.81c.8-.78.8-2.07 0-2.86zM5.41 20L4 18.59l7.72-7.72 1.47 1.35L5.41 20z\"/>\n",
              "  </svg>\n",
              "      </button>\n",
              "      \n",
              "  <style>\n",
              "    .colab-df-container {\n",
              "      display:flex;\n",
              "      flex-wrap:wrap;\n",
              "      gap: 12px;\n",
              "    }\n",
              "\n",
              "    .colab-df-convert {\n",
              "      background-color: #E8F0FE;\n",
              "      border: none;\n",
              "      border-radius: 50%;\n",
              "      cursor: pointer;\n",
              "      display: none;\n",
              "      fill: #1967D2;\n",
              "      height: 32px;\n",
              "      padding: 0 0 0 0;\n",
              "      width: 32px;\n",
              "    }\n",
              "\n",
              "    .colab-df-convert:hover {\n",
              "      background-color: #E2EBFA;\n",
              "      box-shadow: 0px 1px 2px rgba(60, 64, 67, 0.3), 0px 1px 3px 1px rgba(60, 64, 67, 0.15);\n",
              "      fill: #174EA6;\n",
              "    }\n",
              "\n",
              "    [theme=dark] .colab-df-convert {\n",
              "      background-color: #3B4455;\n",
              "      fill: #D2E3FC;\n",
              "    }\n",
              "\n",
              "    [theme=dark] .colab-df-convert:hover {\n",
              "      background-color: #434B5C;\n",
              "      box-shadow: 0px 1px 3px 1px rgba(0, 0, 0, 0.15);\n",
              "      filter: drop-shadow(0px 1px 2px rgba(0, 0, 0, 0.3));\n",
              "      fill: #FFFFFF;\n",
              "    }\n",
              "  </style>\n",
              "\n",
              "      <script>\n",
              "        const buttonEl =\n",
              "          document.querySelector('#df-197de900-6d3f-438a-b9e6-4f83e409ef45 button.colab-df-convert');\n",
              "        buttonEl.style.display =\n",
              "          google.colab.kernel.accessAllowed ? 'block' : 'none';\n",
              "\n",
              "        async function convertToInteractive(key) {\n",
              "          const element = document.querySelector('#df-197de900-6d3f-438a-b9e6-4f83e409ef45');\n",
              "          const dataTable =\n",
              "            await google.colab.kernel.invokeFunction('convertToInteractive',\n",
              "                                                     [key], {});\n",
              "          if (!dataTable) return;\n",
              "\n",
              "          const docLinkHtml = 'Like what you see? Visit the ' +\n",
              "            '<a target=\"_blank\" href=https://colab.research.google.com/notebooks/data_table.ipynb>data table notebook</a>'\n",
              "            + ' to learn more about interactive tables.';\n",
              "          element.innerHTML = '';\n",
              "          dataTable['output_type'] = 'display_data';\n",
              "          await google.colab.output.renderOutput(dataTable, element);\n",
              "          const docLink = document.createElement('div');\n",
              "          docLink.innerHTML = docLinkHtml;\n",
              "          element.appendChild(docLink);\n",
              "        }\n",
              "      </script>\n",
              "    </div>\n",
              "  </div>\n",
              "  "
            ]
          },
          "metadata": {},
          "execution_count": 51
        }
      ],
      "source": [
        "df_clean[['complaint','Topic']].head()"
      ]
    },
    {
      "cell_type": "markdown",
      "metadata": {
        "id": "_iX1kfntZelG"
      },
      "source": [
        "Now let's print the first 5 complaints for each of the topics to check if they have been assigned correctly."
      ]
    },
    {
      "cell_type": "code",
      "execution_count": null,
      "metadata": {
        "colab": {
          "base_uri": "https://localhost:8080/",
          "height": 833
        },
        "id": "aQKpufSPJrGG",
        "outputId": "9b1e712c-fe41-4a95-f539-2ce55884a4f4"
      },
      "outputs": [
        {
          "output_type": "execute_result",
          "data": {
            "text/plain": [
              "                                            complaint  Topic\n",
              "1   i upgraded my   card in   and was told by the ...      0\n",
              "8   on    i made a payment to an online retailer u...      0\n",
              "18  chase sent me an email today with the innocuou...      0\n",
              "16    a sofa love seat table and chairs and was ne...      0\n",
              "14  my chase amazon card was declined for a cateri...      0\n",
              "2   chase card was reported on   however fraudulen...      1\n",
              "3   on   while trying to book a   ticket i came ac...      1\n",
              "5                       can you please remove inquiry      1\n",
              "9   i have a chase credit card which is incorrectl...      1\n",
              "11  i have reached out to  several times in attemp...      1\n",
              "0   good morning my name is   and i appreciate it ...      2\n",
              "32  i bought a new   on    from    in  i paid the ...      2\n",
              "30  i have wired through one of chase branches in ...      2\n",
              "23  i have been trying to do a loan modification w...      2\n",
              "41  my name is   i have missed a payment in   and ...      2\n",
              "12  i opened an account with chase bank on  and us...      3\n",
              "10    mishandling of this account by chase auto and        3\n",
              "6   with out notice j p morgan chase restricted my...      3\n",
              "4   my grand son give me check for i deposit it in...      3\n",
              "15  i opened the saving account for the bonus i wa...      3\n",
              "13  to whom it may concern chase bank charged wron...      4\n",
              "7   during the summer months i experience a declin...      4\n",
              "24  i made a purchase of on    i made payments of ...      4\n",
              "33  i recently called to ask chase bank why they r...      4\n",
              "46  multiple times with the latest being    chase ...      4"
            ],
            "text/html": [
              "\n",
              "  <div id=\"df-8b9ca4df-e76a-460a-8454-f4c66f2df6ed\">\n",
              "    <div class=\"colab-df-container\">\n",
              "      <div>\n",
              "<style scoped>\n",
              "    .dataframe tbody tr th:only-of-type {\n",
              "        vertical-align: middle;\n",
              "    }\n",
              "\n",
              "    .dataframe tbody tr th {\n",
              "        vertical-align: top;\n",
              "    }\n",
              "\n",
              "    .dataframe thead th {\n",
              "        text-align: right;\n",
              "    }\n",
              "</style>\n",
              "<table border=\"1\" class=\"dataframe\">\n",
              "  <thead>\n",
              "    <tr style=\"text-align: right;\">\n",
              "      <th></th>\n",
              "      <th>complaint</th>\n",
              "      <th>Topic</th>\n",
              "    </tr>\n",
              "  </thead>\n",
              "  <tbody>\n",
              "    <tr>\n",
              "      <th>1</th>\n",
              "      <td>i upgraded my   card in   and was told by the ...</td>\n",
              "      <td>0</td>\n",
              "    </tr>\n",
              "    <tr>\n",
              "      <th>8</th>\n",
              "      <td>on    i made a payment to an online retailer u...</td>\n",
              "      <td>0</td>\n",
              "    </tr>\n",
              "    <tr>\n",
              "      <th>18</th>\n",
              "      <td>chase sent me an email today with the innocuou...</td>\n",
              "      <td>0</td>\n",
              "    </tr>\n",
              "    <tr>\n",
              "      <th>16</th>\n",
              "      <td>a sofa love seat table and chairs and was ne...</td>\n",
              "      <td>0</td>\n",
              "    </tr>\n",
              "    <tr>\n",
              "      <th>14</th>\n",
              "      <td>my chase amazon card was declined for a cateri...</td>\n",
              "      <td>0</td>\n",
              "    </tr>\n",
              "    <tr>\n",
              "      <th>2</th>\n",
              "      <td>chase card was reported on   however fraudulen...</td>\n",
              "      <td>1</td>\n",
              "    </tr>\n",
              "    <tr>\n",
              "      <th>3</th>\n",
              "      <td>on   while trying to book a   ticket i came ac...</td>\n",
              "      <td>1</td>\n",
              "    </tr>\n",
              "    <tr>\n",
              "      <th>5</th>\n",
              "      <td>can you please remove inquiry</td>\n",
              "      <td>1</td>\n",
              "    </tr>\n",
              "    <tr>\n",
              "      <th>9</th>\n",
              "      <td>i have a chase credit card which is incorrectl...</td>\n",
              "      <td>1</td>\n",
              "    </tr>\n",
              "    <tr>\n",
              "      <th>11</th>\n",
              "      <td>i have reached out to  several times in attemp...</td>\n",
              "      <td>1</td>\n",
              "    </tr>\n",
              "    <tr>\n",
              "      <th>0</th>\n",
              "      <td>good morning my name is   and i appreciate it ...</td>\n",
              "      <td>2</td>\n",
              "    </tr>\n",
              "    <tr>\n",
              "      <th>32</th>\n",
              "      <td>i bought a new   on    from    in  i paid the ...</td>\n",
              "      <td>2</td>\n",
              "    </tr>\n",
              "    <tr>\n",
              "      <th>30</th>\n",
              "      <td>i have wired through one of chase branches in ...</td>\n",
              "      <td>2</td>\n",
              "    </tr>\n",
              "    <tr>\n",
              "      <th>23</th>\n",
              "      <td>i have been trying to do a loan modification w...</td>\n",
              "      <td>2</td>\n",
              "    </tr>\n",
              "    <tr>\n",
              "      <th>41</th>\n",
              "      <td>my name is   i have missed a payment in   and ...</td>\n",
              "      <td>2</td>\n",
              "    </tr>\n",
              "    <tr>\n",
              "      <th>12</th>\n",
              "      <td>i opened an account with chase bank on  and us...</td>\n",
              "      <td>3</td>\n",
              "    </tr>\n",
              "    <tr>\n",
              "      <th>10</th>\n",
              "      <td>mishandling of this account by chase auto and</td>\n",
              "      <td>3</td>\n",
              "    </tr>\n",
              "    <tr>\n",
              "      <th>6</th>\n",
              "      <td>with out notice j p morgan chase restricted my...</td>\n",
              "      <td>3</td>\n",
              "    </tr>\n",
              "    <tr>\n",
              "      <th>4</th>\n",
              "      <td>my grand son give me check for i deposit it in...</td>\n",
              "      <td>3</td>\n",
              "    </tr>\n",
              "    <tr>\n",
              "      <th>15</th>\n",
              "      <td>i opened the saving account for the bonus i wa...</td>\n",
              "      <td>3</td>\n",
              "    </tr>\n",
              "    <tr>\n",
              "      <th>13</th>\n",
              "      <td>to whom it may concern chase bank charged wron...</td>\n",
              "      <td>4</td>\n",
              "    </tr>\n",
              "    <tr>\n",
              "      <th>7</th>\n",
              "      <td>during the summer months i experience a declin...</td>\n",
              "      <td>4</td>\n",
              "    </tr>\n",
              "    <tr>\n",
              "      <th>24</th>\n",
              "      <td>i made a purchase of on    i made payments of ...</td>\n",
              "      <td>4</td>\n",
              "    </tr>\n",
              "    <tr>\n",
              "      <th>33</th>\n",
              "      <td>i recently called to ask chase bank why they r...</td>\n",
              "      <td>4</td>\n",
              "    </tr>\n",
              "    <tr>\n",
              "      <th>46</th>\n",
              "      <td>multiple times with the latest being    chase ...</td>\n",
              "      <td>4</td>\n",
              "    </tr>\n",
              "  </tbody>\n",
              "</table>\n",
              "</div>\n",
              "      <button class=\"colab-df-convert\" onclick=\"convertToInteractive('df-8b9ca4df-e76a-460a-8454-f4c66f2df6ed')\"\n",
              "              title=\"Convert this dataframe to an interactive table.\"\n",
              "              style=\"display:none;\">\n",
              "        \n",
              "  <svg xmlns=\"http://www.w3.org/2000/svg\" height=\"24px\"viewBox=\"0 0 24 24\"\n",
              "       width=\"24px\">\n",
              "    <path d=\"M0 0h24v24H0V0z\" fill=\"none\"/>\n",
              "    <path d=\"M18.56 5.44l.94 2.06.94-2.06 2.06-.94-2.06-.94-.94-2.06-.94 2.06-2.06.94zm-11 1L8.5 8.5l.94-2.06 2.06-.94-2.06-.94L8.5 2.5l-.94 2.06-2.06.94zm10 10l.94 2.06.94-2.06 2.06-.94-2.06-.94-.94-2.06-.94 2.06-2.06.94z\"/><path d=\"M17.41 7.96l-1.37-1.37c-.4-.4-.92-.59-1.43-.59-.52 0-1.04.2-1.43.59L10.3 9.45l-7.72 7.72c-.78.78-.78 2.05 0 2.83L4 21.41c.39.39.9.59 1.41.59.51 0 1.02-.2 1.41-.59l7.78-7.78 2.81-2.81c.8-.78.8-2.07 0-2.86zM5.41 20L4 18.59l7.72-7.72 1.47 1.35L5.41 20z\"/>\n",
              "  </svg>\n",
              "      </button>\n",
              "      \n",
              "  <style>\n",
              "    .colab-df-container {\n",
              "      display:flex;\n",
              "      flex-wrap:wrap;\n",
              "      gap: 12px;\n",
              "    }\n",
              "\n",
              "    .colab-df-convert {\n",
              "      background-color: #E8F0FE;\n",
              "      border: none;\n",
              "      border-radius: 50%;\n",
              "      cursor: pointer;\n",
              "      display: none;\n",
              "      fill: #1967D2;\n",
              "      height: 32px;\n",
              "      padding: 0 0 0 0;\n",
              "      width: 32px;\n",
              "    }\n",
              "\n",
              "    .colab-df-convert:hover {\n",
              "      background-color: #E2EBFA;\n",
              "      box-shadow: 0px 1px 2px rgba(60, 64, 67, 0.3), 0px 1px 3px 1px rgba(60, 64, 67, 0.15);\n",
              "      fill: #174EA6;\n",
              "    }\n",
              "\n",
              "    [theme=dark] .colab-df-convert {\n",
              "      background-color: #3B4455;\n",
              "      fill: #D2E3FC;\n",
              "    }\n",
              "\n",
              "    [theme=dark] .colab-df-convert:hover {\n",
              "      background-color: #434B5C;\n",
              "      box-shadow: 0px 1px 3px 1px rgba(0, 0, 0, 0.15);\n",
              "      filter: drop-shadow(0px 1px 2px rgba(0, 0, 0, 0.3));\n",
              "      fill: #FFFFFF;\n",
              "    }\n",
              "  </style>\n",
              "\n",
              "      <script>\n",
              "        const buttonEl =\n",
              "          document.querySelector('#df-8b9ca4df-e76a-460a-8454-f4c66f2df6ed button.colab-df-convert');\n",
              "        buttonEl.style.display =\n",
              "          google.colab.kernel.accessAllowed ? 'block' : 'none';\n",
              "\n",
              "        async function convertToInteractive(key) {\n",
              "          const element = document.querySelector('#df-8b9ca4df-e76a-460a-8454-f4c66f2df6ed');\n",
              "          const dataTable =\n",
              "            await google.colab.kernel.invokeFunction('convertToInteractive',\n",
              "                                                     [key], {});\n",
              "          if (!dataTable) return;\n",
              "\n",
              "          const docLinkHtml = 'Like what you see? Visit the ' +\n",
              "            '<a target=\"_blank\" href=https://colab.research.google.com/notebooks/data_table.ipynb>data table notebook</a>'\n",
              "            + ' to learn more about interactive tables.';\n",
              "          element.innerHTML = '';\n",
              "          dataTable['output_type'] = 'display_data';\n",
              "          await google.colab.output.renderOutput(dataTable, element);\n",
              "          const docLink = document.createElement('div');\n",
              "          docLink.innerHTML = docLinkHtml;\n",
              "          element.appendChild(docLink);\n",
              "        }\n",
              "      </script>\n",
              "    </div>\n",
              "  </div>\n",
              "  "
            ]
          },
          "metadata": {},
          "execution_count": 52
        }
      ],
      "source": [
        "# Print the first 5 Complaint for each of the Topics\n",
        "df_clean_topic = df_clean[['complaint','Topic']].groupby('Topic').head(5)\n",
        "df_clean_topic[['complaint','Topic']].sort_values('Topic')"
      ]
    },
    {
      "cell_type": "markdown",
      "metadata": {
        "id": "piyLxzj6v07j"
      },
      "source": [
        "### Topic assignment\n",
        "We saw most of the topics have been correctly assigned.\n",
        "We'll assign now a name.\n",
        "* Topic 4: Bank Account services\n",
        "* Topic 2: Credit card or prepaid card\n",
        "* Topic 1: Theft/Dispute Reporting\n",
        "* Topic 3: Mortgage/Loan\n",
        "* Topic 5: Others"
      ]
    },
    {
      "cell_type": "code",
      "execution_count": null,
      "metadata": {
        "id": "TWpwDG4RJrGG"
      },
      "outputs": [],
      "source": [
        "#Create the dictionary of Topic names and Topics\n",
        "Topic_names = {\n",
        "    0: 'Theft/Dispute reporting',\n",
        "    1: 'Credit card or prepaid card',\n",
        "    2: 'Mortgage/Loan',\n",
        "    3: 'Bank Account services',\n",
        "    4: 'Others'\n",
        "}\n",
        "#Replace Topics with Topic Names\n",
        "df_clean['Topic'] = df_clean['Topic'].map(Topic_names)"
      ]
    },
    {
      "cell_type": "code",
      "execution_count": null,
      "metadata": {
        "colab": {
          "base_uri": "https://localhost:8080/",
          "height": 424
        },
        "id": "-2ULY5K6JrGG",
        "outputId": "4bf4eef1-9daf-49cb-8224-a939d70d3e57"
      },
      "outputs": [
        {
          "output_type": "execute_result",
          "data": {
            "text/plain": [
              "                                               complaint  \\\n",
              "0      good morning my name is   and i appreciate it ...   \n",
              "1      i upgraded my   card in   and was told by the ...   \n",
              "2      chase card was reported on   however fraudulen...   \n",
              "3      on   while trying to book a   ticket i came ac...   \n",
              "4      my grand son give me check for i deposit it in...   \n",
              "...                                                  ...   \n",
              "21067  after being a chase card customer for well ove...   \n",
              "21068  on wednesday    i called chas my   visa credit...   \n",
              "21069  i am not familiar with  pay and did not unders...   \n",
              "21070  i have had flawless credit for yrs i ve had ch...   \n",
              "21071  roughly years ago i closed out my accounts wit...   \n",
              "\n",
              "                             Topic  \n",
              "0                    Mortgage/Loan  \n",
              "1          Theft/Dispute reporting  \n",
              "2      Credit card or prepaid card  \n",
              "3      Credit card or prepaid card  \n",
              "4            Bank Account services  \n",
              "...                            ...  \n",
              "21067  Credit card or prepaid card  \n",
              "21068      Theft/Dispute reporting  \n",
              "21069      Theft/Dispute reporting  \n",
              "21070                       Others  \n",
              "21071                       Others  \n",
              "\n",
              "[21072 rows x 2 columns]"
            ],
            "text/html": [
              "\n",
              "  <div id=\"df-6437aa88-437c-42d4-8031-fff3f6e678d3\">\n",
              "    <div class=\"colab-df-container\">\n",
              "      <div>\n",
              "<style scoped>\n",
              "    .dataframe tbody tr th:only-of-type {\n",
              "        vertical-align: middle;\n",
              "    }\n",
              "\n",
              "    .dataframe tbody tr th {\n",
              "        vertical-align: top;\n",
              "    }\n",
              "\n",
              "    .dataframe thead th {\n",
              "        text-align: right;\n",
              "    }\n",
              "</style>\n",
              "<table border=\"1\" class=\"dataframe\">\n",
              "  <thead>\n",
              "    <tr style=\"text-align: right;\">\n",
              "      <th></th>\n",
              "      <th>complaint</th>\n",
              "      <th>Topic</th>\n",
              "    </tr>\n",
              "  </thead>\n",
              "  <tbody>\n",
              "    <tr>\n",
              "      <th>0</th>\n",
              "      <td>good morning my name is   and i appreciate it ...</td>\n",
              "      <td>Mortgage/Loan</td>\n",
              "    </tr>\n",
              "    <tr>\n",
              "      <th>1</th>\n",
              "      <td>i upgraded my   card in   and was told by the ...</td>\n",
              "      <td>Theft/Dispute reporting</td>\n",
              "    </tr>\n",
              "    <tr>\n",
              "      <th>2</th>\n",
              "      <td>chase card was reported on   however fraudulen...</td>\n",
              "      <td>Credit card or prepaid card</td>\n",
              "    </tr>\n",
              "    <tr>\n",
              "      <th>3</th>\n",
              "      <td>on   while trying to book a   ticket i came ac...</td>\n",
              "      <td>Credit card or prepaid card</td>\n",
              "    </tr>\n",
              "    <tr>\n",
              "      <th>4</th>\n",
              "      <td>my grand son give me check for i deposit it in...</td>\n",
              "      <td>Bank Account services</td>\n",
              "    </tr>\n",
              "    <tr>\n",
              "      <th>...</th>\n",
              "      <td>...</td>\n",
              "      <td>...</td>\n",
              "    </tr>\n",
              "    <tr>\n",
              "      <th>21067</th>\n",
              "      <td>after being a chase card customer for well ove...</td>\n",
              "      <td>Credit card or prepaid card</td>\n",
              "    </tr>\n",
              "    <tr>\n",
              "      <th>21068</th>\n",
              "      <td>on wednesday    i called chas my   visa credit...</td>\n",
              "      <td>Theft/Dispute reporting</td>\n",
              "    </tr>\n",
              "    <tr>\n",
              "      <th>21069</th>\n",
              "      <td>i am not familiar with  pay and did not unders...</td>\n",
              "      <td>Theft/Dispute reporting</td>\n",
              "    </tr>\n",
              "    <tr>\n",
              "      <th>21070</th>\n",
              "      <td>i have had flawless credit for yrs i ve had ch...</td>\n",
              "      <td>Others</td>\n",
              "    </tr>\n",
              "    <tr>\n",
              "      <th>21071</th>\n",
              "      <td>roughly years ago i closed out my accounts wit...</td>\n",
              "      <td>Others</td>\n",
              "    </tr>\n",
              "  </tbody>\n",
              "</table>\n",
              "<p>21072 rows × 2 columns</p>\n",
              "</div>\n",
              "      <button class=\"colab-df-convert\" onclick=\"convertToInteractive('df-6437aa88-437c-42d4-8031-fff3f6e678d3')\"\n",
              "              title=\"Convert this dataframe to an interactive table.\"\n",
              "              style=\"display:none;\">\n",
              "        \n",
              "  <svg xmlns=\"http://www.w3.org/2000/svg\" height=\"24px\"viewBox=\"0 0 24 24\"\n",
              "       width=\"24px\">\n",
              "    <path d=\"M0 0h24v24H0V0z\" fill=\"none\"/>\n",
              "    <path d=\"M18.56 5.44l.94 2.06.94-2.06 2.06-.94-2.06-.94-.94-2.06-.94 2.06-2.06.94zm-11 1L8.5 8.5l.94-2.06 2.06-.94-2.06-.94L8.5 2.5l-.94 2.06-2.06.94zm10 10l.94 2.06.94-2.06 2.06-.94-2.06-.94-.94-2.06-.94 2.06-2.06.94z\"/><path d=\"M17.41 7.96l-1.37-1.37c-.4-.4-.92-.59-1.43-.59-.52 0-1.04.2-1.43.59L10.3 9.45l-7.72 7.72c-.78.78-.78 2.05 0 2.83L4 21.41c.39.39.9.59 1.41.59.51 0 1.02-.2 1.41-.59l7.78-7.78 2.81-2.81c.8-.78.8-2.07 0-2.86zM5.41 20L4 18.59l7.72-7.72 1.47 1.35L5.41 20z\"/>\n",
              "  </svg>\n",
              "      </button>\n",
              "      \n",
              "  <style>\n",
              "    .colab-df-container {\n",
              "      display:flex;\n",
              "      flex-wrap:wrap;\n",
              "      gap: 12px;\n",
              "    }\n",
              "\n",
              "    .colab-df-convert {\n",
              "      background-color: #E8F0FE;\n",
              "      border: none;\n",
              "      border-radius: 50%;\n",
              "      cursor: pointer;\n",
              "      display: none;\n",
              "      fill: #1967D2;\n",
              "      height: 32px;\n",
              "      padding: 0 0 0 0;\n",
              "      width: 32px;\n",
              "    }\n",
              "\n",
              "    .colab-df-convert:hover {\n",
              "      background-color: #E2EBFA;\n",
              "      box-shadow: 0px 1px 2px rgba(60, 64, 67, 0.3), 0px 1px 3px 1px rgba(60, 64, 67, 0.15);\n",
              "      fill: #174EA6;\n",
              "    }\n",
              "\n",
              "    [theme=dark] .colab-df-convert {\n",
              "      background-color: #3B4455;\n",
              "      fill: #D2E3FC;\n",
              "    }\n",
              "\n",
              "    [theme=dark] .colab-df-convert:hover {\n",
              "      background-color: #434B5C;\n",
              "      box-shadow: 0px 1px 3px 1px rgba(0, 0, 0, 0.15);\n",
              "      filter: drop-shadow(0px 1px 2px rgba(0, 0, 0, 0.3));\n",
              "      fill: #FFFFFF;\n",
              "    }\n",
              "  </style>\n",
              "\n",
              "      <script>\n",
              "        const buttonEl =\n",
              "          document.querySelector('#df-6437aa88-437c-42d4-8031-fff3f6e678d3 button.colab-df-convert');\n",
              "        buttonEl.style.display =\n",
              "          google.colab.kernel.accessAllowed ? 'block' : 'none';\n",
              "\n",
              "        async function convertToInteractive(key) {\n",
              "          const element = document.querySelector('#df-6437aa88-437c-42d4-8031-fff3f6e678d3');\n",
              "          const dataTable =\n",
              "            await google.colab.kernel.invokeFunction('convertToInteractive',\n",
              "                                                     [key], {});\n",
              "          if (!dataTable) return;\n",
              "\n",
              "          const docLinkHtml = 'Like what you see? Visit the ' +\n",
              "            '<a target=\"_blank\" href=https://colab.research.google.com/notebooks/data_table.ipynb>data table notebook</a>'\n",
              "            + ' to learn more about interactive tables.';\n",
              "          element.innerHTML = '';\n",
              "          dataTable['output_type'] = 'display_data';\n",
              "          await google.colab.output.renderOutput(dataTable, element);\n",
              "          const docLink = document.createElement('div');\n",
              "          docLink.innerHTML = docLinkHtml;\n",
              "          element.appendChild(docLink);\n",
              "        }\n",
              "      </script>\n",
              "    </div>\n",
              "  </div>\n",
              "  "
            ]
          },
          "metadata": {},
          "execution_count": 54
        }
      ],
      "source": [
        "df_clean[['complaint','Topic']]"
      ]
    },
    {
      "cell_type": "markdown",
      "metadata": {
        "id": "7Mu0QBOcJrGH"
      },
      "source": [
        "## Model building using supervised learning\n",
        "Of a supervised model to predict a complaint topic.\n",
        "\n",
        "We'll build the model to create the topics for each complaint. Now in the below section we will use them to classify any new complaints.\n",
        "\n",
        "Since we will be using supervised learning technique we have to convert the topic names to numbers(numpy arrays only understand numbers)."
      ]
    },
    {
      "cell_type": "code",
      "execution_count": null,
      "metadata": {
        "id": "Xx-FrbkWJrGH"
      },
      "outputs": [],
      "source": [
        "# Keep the columns\"complaint_what_happened\" & \"Topic\" only in the new dataframe --> training_data\n",
        "training_data = df_clean[['complaint','Topic']].copy()"
      ]
    },
    {
      "cell_type": "code",
      "execution_count": null,
      "metadata": {
        "colab": {
          "base_uri": "https://localhost:8080/",
          "height": 424
        },
        "id": "lVg2pa12JrGI",
        "outputId": "e734a69e-442e-463c-e445-3d0700ec5d44"
      },
      "outputs": [
        {
          "output_type": "execute_result",
          "data": {
            "text/plain": [
              "                                               complaint  \\\n",
              "0      good morning my name is   and i appreciate it ...   \n",
              "1      i upgraded my   card in   and was told by the ...   \n",
              "2      chase card was reported on   however fraudulen...   \n",
              "3      on   while trying to book a   ticket i came ac...   \n",
              "4      my grand son give me check for i deposit it in...   \n",
              "...                                                  ...   \n",
              "21067  after being a chase card customer for well ove...   \n",
              "21068  on wednesday    i called chas my   visa credit...   \n",
              "21069  i am not familiar with  pay and did not unders...   \n",
              "21070  i have had flawless credit for yrs i ve had ch...   \n",
              "21071  roughly years ago i closed out my accounts wit...   \n",
              "\n",
              "                             Topic  \n",
              "0                    Mortgage/Loan  \n",
              "1          Theft/Dispute reporting  \n",
              "2      Credit card or prepaid card  \n",
              "3      Credit card or prepaid card  \n",
              "4            Bank Account services  \n",
              "...                            ...  \n",
              "21067  Credit card or prepaid card  \n",
              "21068      Theft/Dispute reporting  \n",
              "21069      Theft/Dispute reporting  \n",
              "21070                       Others  \n",
              "21071                       Others  \n",
              "\n",
              "[21072 rows x 2 columns]"
            ],
            "text/html": [
              "\n",
              "  <div id=\"df-e0d10cd8-9f58-45f0-8f84-c32331eafcd2\">\n",
              "    <div class=\"colab-df-container\">\n",
              "      <div>\n",
              "<style scoped>\n",
              "    .dataframe tbody tr th:only-of-type {\n",
              "        vertical-align: middle;\n",
              "    }\n",
              "\n",
              "    .dataframe tbody tr th {\n",
              "        vertical-align: top;\n",
              "    }\n",
              "\n",
              "    .dataframe thead th {\n",
              "        text-align: right;\n",
              "    }\n",
              "</style>\n",
              "<table border=\"1\" class=\"dataframe\">\n",
              "  <thead>\n",
              "    <tr style=\"text-align: right;\">\n",
              "      <th></th>\n",
              "      <th>complaint</th>\n",
              "      <th>Topic</th>\n",
              "    </tr>\n",
              "  </thead>\n",
              "  <tbody>\n",
              "    <tr>\n",
              "      <th>0</th>\n",
              "      <td>good morning my name is   and i appreciate it ...</td>\n",
              "      <td>Mortgage/Loan</td>\n",
              "    </tr>\n",
              "    <tr>\n",
              "      <th>1</th>\n",
              "      <td>i upgraded my   card in   and was told by the ...</td>\n",
              "      <td>Theft/Dispute reporting</td>\n",
              "    </tr>\n",
              "    <tr>\n",
              "      <th>2</th>\n",
              "      <td>chase card was reported on   however fraudulen...</td>\n",
              "      <td>Credit card or prepaid card</td>\n",
              "    </tr>\n",
              "    <tr>\n",
              "      <th>3</th>\n",
              "      <td>on   while trying to book a   ticket i came ac...</td>\n",
              "      <td>Credit card or prepaid card</td>\n",
              "    </tr>\n",
              "    <tr>\n",
              "      <th>4</th>\n",
              "      <td>my grand son give me check for i deposit it in...</td>\n",
              "      <td>Bank Account services</td>\n",
              "    </tr>\n",
              "    <tr>\n",
              "      <th>...</th>\n",
              "      <td>...</td>\n",
              "      <td>...</td>\n",
              "    </tr>\n",
              "    <tr>\n",
              "      <th>21067</th>\n",
              "      <td>after being a chase card customer for well ove...</td>\n",
              "      <td>Credit card or prepaid card</td>\n",
              "    </tr>\n",
              "    <tr>\n",
              "      <th>21068</th>\n",
              "      <td>on wednesday    i called chas my   visa credit...</td>\n",
              "      <td>Theft/Dispute reporting</td>\n",
              "    </tr>\n",
              "    <tr>\n",
              "      <th>21069</th>\n",
              "      <td>i am not familiar with  pay and did not unders...</td>\n",
              "      <td>Theft/Dispute reporting</td>\n",
              "    </tr>\n",
              "    <tr>\n",
              "      <th>21070</th>\n",
              "      <td>i have had flawless credit for yrs i ve had ch...</td>\n",
              "      <td>Others</td>\n",
              "    </tr>\n",
              "    <tr>\n",
              "      <th>21071</th>\n",
              "      <td>roughly years ago i closed out my accounts wit...</td>\n",
              "      <td>Others</td>\n",
              "    </tr>\n",
              "  </tbody>\n",
              "</table>\n",
              "<p>21072 rows × 2 columns</p>\n",
              "</div>\n",
              "      <button class=\"colab-df-convert\" onclick=\"convertToInteractive('df-e0d10cd8-9f58-45f0-8f84-c32331eafcd2')\"\n",
              "              title=\"Convert this dataframe to an interactive table.\"\n",
              "              style=\"display:none;\">\n",
              "        \n",
              "  <svg xmlns=\"http://www.w3.org/2000/svg\" height=\"24px\"viewBox=\"0 0 24 24\"\n",
              "       width=\"24px\">\n",
              "    <path d=\"M0 0h24v24H0V0z\" fill=\"none\"/>\n",
              "    <path d=\"M18.56 5.44l.94 2.06.94-2.06 2.06-.94-2.06-.94-.94-2.06-.94 2.06-2.06.94zm-11 1L8.5 8.5l.94-2.06 2.06-.94-2.06-.94L8.5 2.5l-.94 2.06-2.06.94zm10 10l.94 2.06.94-2.06 2.06-.94-2.06-.94-.94-2.06-.94 2.06-2.06.94z\"/><path d=\"M17.41 7.96l-1.37-1.37c-.4-.4-.92-.59-1.43-.59-.52 0-1.04.2-1.43.59L10.3 9.45l-7.72 7.72c-.78.78-.78 2.05 0 2.83L4 21.41c.39.39.9.59 1.41.59.51 0 1.02-.2 1.41-.59l7.78-7.78 2.81-2.81c.8-.78.8-2.07 0-2.86zM5.41 20L4 18.59l7.72-7.72 1.47 1.35L5.41 20z\"/>\n",
              "  </svg>\n",
              "      </button>\n",
              "      \n",
              "  <style>\n",
              "    .colab-df-container {\n",
              "      display:flex;\n",
              "      flex-wrap:wrap;\n",
              "      gap: 12px;\n",
              "    }\n",
              "\n",
              "    .colab-df-convert {\n",
              "      background-color: #E8F0FE;\n",
              "      border: none;\n",
              "      border-radius: 50%;\n",
              "      cursor: pointer;\n",
              "      display: none;\n",
              "      fill: #1967D2;\n",
              "      height: 32px;\n",
              "      padding: 0 0 0 0;\n",
              "      width: 32px;\n",
              "    }\n",
              "\n",
              "    .colab-df-convert:hover {\n",
              "      background-color: #E2EBFA;\n",
              "      box-shadow: 0px 1px 2px rgba(60, 64, 67, 0.3), 0px 1px 3px 1px rgba(60, 64, 67, 0.15);\n",
              "      fill: #174EA6;\n",
              "    }\n",
              "\n",
              "    [theme=dark] .colab-df-convert {\n",
              "      background-color: #3B4455;\n",
              "      fill: #D2E3FC;\n",
              "    }\n",
              "\n",
              "    [theme=dark] .colab-df-convert:hover {\n",
              "      background-color: #434B5C;\n",
              "      box-shadow: 0px 1px 3px 1px rgba(0, 0, 0, 0.15);\n",
              "      filter: drop-shadow(0px 1px 2px rgba(0, 0, 0, 0.3));\n",
              "      fill: #FFFFFF;\n",
              "    }\n",
              "  </style>\n",
              "\n",
              "      <script>\n",
              "        const buttonEl =\n",
              "          document.querySelector('#df-e0d10cd8-9f58-45f0-8f84-c32331eafcd2 button.colab-df-convert');\n",
              "        buttonEl.style.display =\n",
              "          google.colab.kernel.accessAllowed ? 'block' : 'none';\n",
              "\n",
              "        async function convertToInteractive(key) {\n",
              "          const element = document.querySelector('#df-e0d10cd8-9f58-45f0-8f84-c32331eafcd2');\n",
              "          const dataTable =\n",
              "            await google.colab.kernel.invokeFunction('convertToInteractive',\n",
              "                                                     [key], {});\n",
              "          if (!dataTable) return;\n",
              "\n",
              "          const docLinkHtml = 'Like what you see? Visit the ' +\n",
              "            '<a target=\"_blank\" href=https://colab.research.google.com/notebooks/data_table.ipynb>data table notebook</a>'\n",
              "            + ' to learn more about interactive tables.';\n",
              "          element.innerHTML = '';\n",
              "          dataTable['output_type'] = 'display_data';\n",
              "          await google.colab.output.renderOutput(dataTable, element);\n",
              "          const docLink = document.createElement('div');\n",
              "          docLink.innerHTML = docLinkHtml;\n",
              "          element.appendChild(docLink);\n",
              "        }\n",
              "      </script>\n",
              "    </div>\n",
              "  </div>\n",
              "  "
            ]
          },
          "metadata": {},
          "execution_count": 56
        }
      ],
      "source": [
        "training_data"
      ]
    },
    {
      "cell_type": "markdown",
      "metadata": {
        "id": "7ZPyERF-rhUf"
      },
      "source": [
        "### Create Vector count"
      ]
    },
    {
      "cell_type": "code",
      "execution_count": null,
      "metadata": {
        "id": "zK3Dj_2Vo5DM"
      },
      "outputs": [],
      "source": [
        "# Code to get the Vector count\n",
        "count_vect = CountVectorizer()\n",
        "X_train_counts = count_vect.fit_transform(training_data['complaint'])"
      ]
    },
    {
      "cell_type": "markdown",
      "metadata": {
        "id": "LTjPwRi2ruNw"
      },
      "source": [
        "### Transform Word vector to TF-IDF"
      ]
    },
    {
      "cell_type": "code",
      "execution_count": null,
      "metadata": {
        "id": "oUlQpgkzJrGI"
      },
      "outputs": [],
      "source": [
        "# Transform the word vector to tf-idf\n",
        "tfidf_transformer = TfidfTransformer()\n",
        "X_train_tfidf = tfidf_transformer.fit_transform(X_train_counts)"
      ]
    },
    {
      "cell_type": "markdown",
      "metadata": {
        "id": "2j3CtJ7_r09y"
      },
      "source": [
        "### Define train and test datasets\n",
        "\n",
        "We'll save 25% of data for testing."
      ]
    },
    {
      "cell_type": "code",
      "execution_count": null,
      "metadata": {
        "id": "i_I55T_GpozH"
      },
      "outputs": [],
      "source": [
        "# Libraries for evaluating models\n",
        "from sklearn.model_selection import train_test_split, GridSearchCV, RandomizedSearchCV\n",
        "from sklearn.metrics import confusion_matrix, f1_score, classification_report"
      ]
    },
    {
      "cell_type": "code",
      "execution_count": null,
      "metadata": {
        "colab": {
          "base_uri": "https://localhost:8080/"
        },
        "id": "udLHpPsZJrGI",
        "outputId": "e18c6f36-dc36-4c13-8a93-477f69353d76"
      },
      "outputs": [
        {
          "output_type": "stream",
          "name": "stdout",
          "text": [
            "Shape of X_train: (15804, 27685)\n",
            "Shape of y_train: (15804,)\n",
            "Shape of X_test: (5268, 27685)\n",
            "Shape of y_test: (5268,)\n"
          ]
        }
      ],
      "source": [
        "# Perform Train-Test split\n",
        "X_train, X_test, y_train, y_test = train_test_split(X_train_tfidf, training_data.Topic, test_size=0.25, random_state=42)\n",
        "\n",
        "print(f\"Shape of X_train: {X_train.shape}\")\n",
        "print(f\"Shape of y_train: {y_train.shape}\")\n",
        "print(f\"Shape of X_test: {X_test.shape}\")\n",
        "print(f\"Shape of y_test: {y_test.shape}\")"
      ]
    },
    {
      "cell_type": "markdown",
      "metadata": {
        "id": "V9bt2LlNsrQX"
      },
      "source": [
        "### Define a function to evaluate models"
      ]
    },
    {
      "cell_type": "code",
      "execution_count": null,
      "metadata": {
        "id": "8Ezdbf7iljxg"
      },
      "outputs": [],
      "source": [
        "# Libraries for machine learning models\n",
        "from sklearn.linear_model import LogisticRegression\n",
        "from sklearn.tree import DecisionTreeClassifier\n",
        "from sklearn.ensemble import RandomForestClassifier\n",
        "from sklearn.naive_bayes import MultinomialNB"
      ]
    },
    {
      "cell_type": "code",
      "execution_count": null,
      "metadata": {
        "id": "N2OznsObJrGP"
      },
      "outputs": [],
      "source": [
        "# Create a function to evaluate models\n",
        "def eval_model(y_test, y_pred, model_name):\n",
        "    \"\"\"\n",
        "    This function prints the classification report of a classifier \n",
        "    and plots the confusion martrix\n",
        "    :param y_test: actual labels\n",
        "    :param y_pred: predicted labels\n",
        "    :param model_name: the name of the model being evaluated\n",
        "    :return: None\n",
        "    \"\"\"\n",
        "    \n",
        "    # print classification report of classifier\n",
        "    print(f\"CLASSIFICATION REPORT for {model_name}\\n\")\n",
        "    print(classification_report(y_test, y_pred, target_names=[\"Bank Account services\", \"Credit card or prepaid card\", \"Others\", \"Theft/Dispute Reporting\",\n",
        "\"Mortgage/Loan\"]))\n",
        "    \n",
        "    # plot confusion matrix of the classifier\n",
        "    plt.figure(figsize=(8,5))\n",
        "    plt.title(f\"CONFUSION MATRIX for {model_name}\\n\")\n",
        "    matrix = confusion_matrix(y_test, y_pred)\n",
        "    sns.heatmap(matrix, annot=True, cbar=None, cmap=\"Blues\", fmt='d', xticklabels=[\"Bank Account services\", \"Credit card or prepaid card\", \"Others\", \"Theft/Dispute Reporting\",\n",
        "\"Mortgage/Loan\"], yticklabels=[\"Bank Account services\", \"Credit card or prepaid card\", \"Others\", \"Theft/Dispute Reporting\",\n",
        "\"Mortgage/Loan\"])\n",
        "    plt.show()\n",
        "    \n",
        "    return"
      ]
    },
    {
      "cell_type": "markdown",
      "metadata": {
        "id": "JqsKCtt7tJ1w"
      },
      "source": [
        "### Evaluate Logistic Regression model"
      ]
    },
    {
      "cell_type": "code",
      "execution_count": null,
      "metadata": {
        "colab": {
          "base_uri": "https://localhost:8080/"
        },
        "id": "osflxr4wsuWG",
        "outputId": "8b688881-f4bd-473c-d8b3-f8ce30d6aa95"
      },
      "outputs": [
        {
          "output_type": "stream",
          "name": "stdout",
          "text": [
            "CPU times: user 3 µs, sys: 0 ns, total: 3 µs\n",
            "Wall time: 6.2 µs\n"
          ]
        }
      ],
      "source": [
        "# Run the Logistic Regression model\n",
        "model_name = 'LOGISTIC REGRESSION'\n",
        "clf_lr = LogisticRegression(solver='liblinear')\n",
        "%time \n",
        "clf_lr.fit(X_train, y_train)\n",
        "y_pred_lr = clf_lr.predict(X_test)"
      ]
    },
    {
      "cell_type": "markdown",
      "metadata": {
        "id": "MZzVPsVZvMki"
      },
      "source": [
        "We'll **calculate the F1-score** as we'll compare the model against others."
      ]
    },
    {
      "cell_type": "code",
      "execution_count": null,
      "metadata": {
        "colab": {
          "base_uri": "https://localhost:8080/"
        },
        "id": "92OQHj6Tlos_",
        "outputId": "8f129cbd-60b9-4346-bb16-8a881e2e7ce3"
      },
      "outputs": [
        {
          "output_type": "execute_result",
          "data": {
            "text/plain": [
              "0.9449881481290232"
            ]
          },
          "metadata": {},
          "execution_count": 64
        }
      ],
      "source": [
        "# Calculate F1 Score using weighted average method\n",
        "f1_lr = f1_score(y_test, y_pred_lr, average=\"weighted\")\n",
        "f1_lr"
      ]
    },
    {
      "cell_type": "markdown",
      "metadata": {
        "id": "AfLMKGYdunZy"
      },
      "source": [
        "We obtained a great F1-score of ~94.5%, let's see if we can improve it by **tuning the hyperparameters**."
      ]
    },
    {
      "cell_type": "code",
      "execution_count": null,
      "metadata": {
        "colab": {
          "base_uri": "https://localhost:8080/"
        },
        "id": "5PLA5jJblqs2",
        "outputId": "da2f8542-6a3d-4357-f21d-c89e0bf0aa02"
      },
      "outputs": [
        {
          "output_type": "stream",
          "name": "stdout",
          "text": [
            "Fitting 5 folds for each of 120 candidates, totalling 600 fits\n",
            "{'C': 10, 'penalty': 'l1', 'solver': 'saga'}\n"
          ]
        }
      ],
      "source": [
        "# Hyperparameter tuning to improve Logistic Regression performance\n",
        "param_grid_lr = {\n",
        "     'penalty': ['l1', 'l2','elasticnet', 'none'],\n",
        "     'C': [0.001,0.01,0.1,1,10,100],\n",
        "     'solver':['newton-cg', 'lbfgs', 'liblinear', 'sag', 'saga']\n",
        "}\n",
        "\n",
        "grid_lr = GridSearchCV(estimator=clf_lr, \n",
        "                        param_grid=param_grid_lr,\n",
        "                        verbose=1,\n",
        "                        scoring='f1_weighted',\n",
        "                        n_jobs=-1,\n",
        "                        cv=5)\n",
        "grid_lr.fit(X_train, y_train)\n",
        "print(grid_lr.best_params_)"
      ]
    },
    {
      "cell_type": "code",
      "execution_count": null,
      "metadata": {
        "colab": {
          "base_uri": "https://localhost:8080/"
        },
        "id": "04v0xGrbmB0J",
        "outputId": "502dea23-6711-443f-ecfc-ed7345be37d2"
      },
      "outputs": [
        {
          "output_type": "stream",
          "name": "stdout",
          "text": [
            "CPU times: user 3 µs, sys: 0 ns, total: 3 µs\n",
            "Wall time: 6.2 µs\n"
          ]
        }
      ],
      "source": [
        "# Run Logistic Regression on tuned hyperparameters\n",
        "clf_lr_tuned = LogisticRegression(C=1, \n",
        "                                  penalty='l1',\n",
        "                                  solver='saga'\n",
        "                                  )\n",
        "%time \n",
        "clf_lr_tuned.fit(X_train, y_train)\n",
        "y_pred_lr_tuned = clf_lr_tuned.predict(X_test)"
      ]
    },
    {
      "cell_type": "markdown",
      "metadata": {
        "id": "KZ5Uw_yQvhwD"
      },
      "source": [
        "Let's check the F1-score again."
      ]
    },
    {
      "cell_type": "code",
      "execution_count": null,
      "metadata": {
        "colab": {
          "base_uri": "https://localhost:8080/"
        },
        "id": "wlV-BeMsmF0b",
        "outputId": "9429bee8-b56e-4d3c-ba99-6c2fca8469eb"
      },
      "outputs": [
        {
          "output_type": "execute_result",
          "data": {
            "text/plain": [
              "0.9544596133238696"
            ]
          },
          "metadata": {},
          "execution_count": 67
        }
      ],
      "source": [
        "# Calculate F1 Score of tuned model using weighted average method\n",
        "f1_lr_tuned = f1_score(y_test, y_pred_lr_tuned, average=\"weighted\")\n",
        "f1_lr_tuned"
      ]
    },
    {
      "cell_type": "markdown",
      "metadata": {
        "id": "_rkdA4e-vk-X"
      },
      "source": [
        "We were able to improve the results by 1%, obtaining ~95.5%.\n",
        "\n",
        "Let's check also **precision, recall and support metrics**, and take a look at the **confusion matrix**."
      ]
    },
    {
      "cell_type": "code",
      "execution_count": null,
      "metadata": {
        "colab": {
          "base_uri": "https://localhost:8080/",
          "height": 718
        },
        "id": "P0YcCP_CmKNo",
        "outputId": "cb9f378a-1b68-4110-c6e9-740d34d7b6d8"
      },
      "outputs": [
        {
          "output_type": "stream",
          "name": "stdout",
          "text": [
            "CLASSIFICATION REPORT for LOGISTIC REGRESSION\n",
            "\n",
            "                             precision    recall  f1-score   support\n",
            "\n",
            "      Bank Account services       0.95      0.96      0.96      1402\n",
            "Credit card or prepaid card       0.96      0.96      0.96      1099\n",
            "                     Others       0.97      0.95      0.96       924\n",
            "    Theft/Dispute Reporting       0.96      0.95      0.95       653\n",
            "              Mortgage/Loan       0.94      0.94      0.94      1190\n",
            "\n",
            "                   accuracy                           0.95      5268\n",
            "                  macro avg       0.96      0.95      0.95      5268\n",
            "               weighted avg       0.95      0.95      0.95      5268\n",
            "\n"
          ]
        },
        {
          "output_type": "display_data",
          "data": {
            "text/plain": [
              "<Figure size 576x360 with 1 Axes>"
            ],
            "image/png": "[encoded data removed]"
          },
          "metadata": {
            "needs_background": "light"
          }
        }
      ],
      "source": [
        "# Evaluate the tuned Logistic Regression classifier\n",
        "eval_model(y_test, y_pred_lr_tuned, model_name)"
      ]
    },
    {
      "cell_type": "markdown",
      "metadata": {
        "id": "BASqrsovwenV"
      },
      "source": [
        "### Evaluate Decision Tree model"
      ]
    },
    {
      "cell_type": "code",
      "execution_count": null,
      "metadata": {
        "colab": {
          "base_uri": "https://localhost:8080/"
        },
        "id": "B0ckCleFwTAR",
        "outputId": "8e8e9e0e-07a5-4ed5-9620-ce6391c81a34"
      },
      "outputs": [
        {
          "output_type": "stream",
          "name": "stdout",
          "text": [
            "CPU times: user 3 µs, sys: 0 ns, total: 3 µs\n",
            "Wall time: 6.68 µs\n"
          ]
        }
      ],
      "source": [
        "model_name = 'DECISION TREE'\n",
        "clf_dt = DecisionTreeClassifier()\n",
        "%time \n",
        "clf_dt.fit(X_train, y_train)\n",
        "y_pred_dt = clf_dt.predict(X_test)"
      ]
    },
    {
      "cell_type": "markdown",
      "metadata": {
        "id": "XV5fBdc1xHn5"
      },
      "source": [
        "We'll **calculate the F1-score** as we'll compare the model against others."
      ]
    },
    {
      "cell_type": "code",
      "execution_count": null,
      "metadata": {
        "colab": {
          "base_uri": "https://localhost:8080/"
        },
        "id": "Tp7-A4NjxLkE",
        "outputId": "661f161e-dce3-48cd-a086-0de37526e521"
      },
      "outputs": [
        {
          "output_type": "execute_result",
          "data": {
            "text/plain": [
              "0.7640004214233025"
            ]
          },
          "metadata": {},
          "execution_count": 70
        }
      ],
      "source": [
        "# Calculate F1 Score using weighted average method\n",
        "f1_dt = f1_score(y_test, y_pred_dt, average=\"weighted\")\n",
        "f1_dt"
      ]
    },
    {
      "cell_type": "markdown",
      "metadata": {
        "id": "Vel2arlKxLkH"
      },
      "source": [
        "We obtained a great F1-score of ~76%, let's see if we can improve it by **tuning the hyperparameters**."
      ]
    },
    {
      "cell_type": "code",
      "execution_count": null,
      "metadata": {
        "colab": {
          "base_uri": "https://localhost:8080/"
        },
        "id": "6hI75UAaxLkI",
        "outputId": "211f82ea-831b-4898-857f-9454750f8e7b"
      },
      "outputs": [
        {
          "output_type": "stream",
          "name": "stdout",
          "text": [
            "Fitting 5 folds for each of 50 candidates, totalling 250 fits\n",
            "{'criterion': 'gini', 'max_depth': 20, 'min_samples_leaf': 20}\n"
          ]
        }
      ],
      "source": [
        "# Hyperparameter tuning to improve Decision Tree performance\n",
        "param_grid_dt = {\n",
        "    'max_depth': [2, 3, 5, 10, 20],\n",
        "    'min_samples_leaf': [5, 10, 20, 50, 100],\n",
        "    'criterion': ['gini', 'entropy']\n",
        "}\n",
        "\n",
        "grid_dt = GridSearchCV(estimator=clf_dt, \n",
        "                        param_grid=param_grid_dt,\n",
        "                        verbose=1,\n",
        "                        scoring='f1_weighted',\n",
        "                        n_jobs=-1,\n",
        "                        cv=5)\n",
        "grid_dt.fit(X_train, y_train)\n",
        "print(grid_dt.best_params_)"
      ]
    },
    {
      "cell_type": "code",
      "execution_count": null,
      "metadata": {
        "colab": {
          "base_uri": "https://localhost:8080/"
        },
        "id": "7YDYWc1MyYs_",
        "outputId": "449497ad-4728-49de-c245-c12179e4e2ac"
      },
      "outputs": [
        {
          "output_type": "stream",
          "name": "stdout",
          "text": [
            "CPU times: user 3 µs, sys: 0 ns, total: 3 µs\n",
            "Wall time: 6.2 µs\n"
          ]
        }
      ],
      "source": [
        "# Run Decision Tree on tuned hyperparameters\n",
        "clf_dt_tuned = DecisionTreeClassifier(max_depth=20, \n",
        "                                      min_samples_leaf=20,\n",
        "                                      criterion='gini'\n",
        "                                  )\n",
        "%time \n",
        "clf_dt_tuned.fit(X_train, y_train)\n",
        "y_pred_dt_tuned = clf_dt_tuned.predict(X_test)"
      ]
    },
    {
      "cell_type": "markdown",
      "metadata": {
        "id": "4fxvnf8PyYtA"
      },
      "source": [
        "Let's check the F1-score again."
      ]
    },
    {
      "cell_type": "code",
      "execution_count": null,
      "metadata": {
        "colab": {
          "base_uri": "https://localhost:8080/"
        },
        "id": "YJJaTmisyYtB",
        "outputId": "3f7e8215-abfb-47f9-e7a6-83eb5332bc7f"
      },
      "outputs": [
        {
          "output_type": "execute_result",
          "data": {
            "text/plain": [
              "0.7920053079938615"
            ]
          },
          "metadata": {},
          "execution_count": 73
        }
      ],
      "source": [
        "# Calculate F1 Score of tuned model using weighted average method\n",
        "f1_dt_tuned = f1_score(y_test, y_pred_dt_tuned, average=\"weighted\")\n",
        "f1_dt_tuned"
      ]
    },
    {
      "cell_type": "markdown",
      "metadata": {
        "id": "onbwvxK7yYtB"
      },
      "source": [
        "We were able to improve the results, obtaining ~79%.\n",
        "\n",
        "Let's check also **precision, recall and support metrics**, and take a look at the **confusion matrix**."
      ]
    },
    {
      "cell_type": "code",
      "execution_count": null,
      "metadata": {
        "colab": {
          "base_uri": "https://localhost:8080/",
          "height": 718
        },
        "id": "1_ebqhQfyYtC",
        "outputId": "51b567d5-f365-4ca0-c825-65bf37def411"
      },
      "outputs": [
        {
          "output_type": "stream",
          "name": "stdout",
          "text": [
            "CLASSIFICATION REPORT for DECISION TREE\n",
            "\n",
            "                             precision    recall  f1-score   support\n",
            "\n",
            "      Bank Account services       0.80      0.85      0.82      1402\n",
            "Credit card or prepaid card       0.82      0.82      0.82      1099\n",
            "                     Others       0.86      0.79      0.83       924\n",
            "    Theft/Dispute Reporting       0.78      0.68      0.73       653\n",
            "              Mortgage/Loan       0.72      0.76      0.74      1190\n",
            "\n",
            "                   accuracy                           0.79      5268\n",
            "                  macro avg       0.80      0.78      0.79      5268\n",
            "               weighted avg       0.79      0.79      0.79      5268\n",
            "\n"
          ]
        },
        {
          "output_type": "display_data",
          "data": {
            "text/plain": [
              "<Figure size 576x360 with 1 Axes>"
            ],
            "image/png": "[encoded data removed]"
          },
          "metadata": {
            "needs_background": "light"
          }
        }
      ],
      "source": [
        "# Evaluate the tuned Decision Tree classifier\n",
        "eval_model(y_test, y_pred_dt_tuned, model_name)"
      ]
    },
    {
      "cell_type": "markdown",
      "metadata": {
        "id": "-4gXUhPOzlP2"
      },
      "source": [
        "### Evaluate Random Forest model"
      ]
    },
    {
      "cell_type": "code",
      "execution_count": null,
      "metadata": {
        "colab": {
          "base_uri": "https://localhost:8080/"
        },
        "id": "FpIDBVhkzlP3",
        "outputId": "b2f24de4-5663-4021-f064-972908426900"
      },
      "outputs": [
        {
          "output_type": "stream",
          "name": "stdout",
          "text": [
            "CPU times: user 3 µs, sys: 0 ns, total: 3 µs\n",
            "Wall time: 5.96 µs\n"
          ]
        }
      ],
      "source": [
        "model_name = 'RANDOM FOREST'\n",
        "clf_rf = RandomForestClassifier()\n",
        "%time \n",
        "clf_rf.fit(X_train, y_train)\n",
        "y_pred_rf = clf_rf.predict(X_test)"
      ]
    },
    {
      "cell_type": "markdown",
      "metadata": {
        "id": "8xrR8tgKzlP3"
      },
      "source": [
        "We'll **calculate the F1-score** as we'll compare the model against others."
      ]
    },
    {
      "cell_type": "code",
      "execution_count": null,
      "metadata": {
        "colab": {
          "base_uri": "https://localhost:8080/"
        },
        "id": "7iH1CZ6UzlP4",
        "outputId": "e431cfcf-9d19-4f1f-bf38-ea01a87155bc"
      },
      "outputs": [
        {
          "output_type": "execute_result",
          "data": {
            "text/plain": [
              "0.8374950999329333"
            ]
          },
          "metadata": {},
          "execution_count": 76
        }
      ],
      "source": [
        "# Calculate F1 Score using weighted average method\n",
        "f1_rf = f1_score(y_test, y_pred_rf, average=\"weighted\")\n",
        "f1_rf"
      ]
    },
    {
      "cell_type": "code",
      "source": [
        "# # Hyperparameter tuning to improve Random Forest performance\n",
        "param_grid_rf = {\n",
        "     'n_estimators': [100, 200, 300, 500, 800],\n",
        "     'criterion':['gini','entropy'],\n",
        "     'max_depth': [10, 30, 40],\n",
        "     'min_samples_split': [1, 5, 10],\n",
        "     'min_samples_leaf': [1, 5, 10],\n",
        "     'max_features': ['log2', 'sqrt', None]    \n",
        "}\n",
        "\n",
        "grid_rf = RandomizedSearchCV(estimator=clf_rf, \n",
        "                        param_distributions=param_grid_rf,\n",
        "                        scoring='f1_weighted',\n",
        "                        verbose=1,\n",
        "                        n_jobs=-1,\n",
        "                        cv=5)\n",
        "grid_rf.fit(X_train, y_train)\n",
        "print(grid_rf.best_params_)"
      ],
      "metadata": {
        "colab": {
          "base_uri": "https://localhost:8080/"
        },
        "id": "mIzTUtyqxT_h",
        "outputId": "befd45f2-3e63-4838-8ebe-25863ee543bf"
      },
      "execution_count": null,
      "outputs": [
        {
          "output_type": "stream",
          "name": "stdout",
          "text": [
            "Fitting 5 folds for each of 10 candidates, totalling 50 fits\n",
            "{'n_estimators': 100, 'min_samples_split': 5, 'min_samples_leaf': 1, 'max_features': None, 'max_depth': 40, 'criterion': 'gini'}\n"
          ]
        }
      ]
    },
    {
      "cell_type": "code",
      "source": [
        "# Run Random Forest on tuned hyperparameters\n",
        "clf_rf_tuned = RandomForestClassifier(n_estimators=100, \n",
        "                                      min_samples_split=5, \n",
        "                                      min_samples_leaf=1, \n",
        "                                      max_features=None, \n",
        "                                      max_depth=40, \n",
        "                                      criterion='gini'\n",
        ")\n",
        "%time \n",
        "clf_rf_tuned.fit(X_train, y_train)\n",
        "y_pred_rf_tuned = clf_rf_tuned.predict(X_test)"
      ],
      "metadata": {
        "colab": {
          "base_uri": "https://localhost:8080/"
        },
        "id": "YsUw-oB_xj9i",
        "outputId": "9c968f8e-adc1-4b52-cc56-5a3821cbea03"
      },
      "execution_count": null,
      "outputs": [
        {
          "output_type": "stream",
          "name": "stdout",
          "text": [
            "CPU times: user 3 µs, sys: 0 ns, total: 3 µs\n",
            "Wall time: 5.48 µs\n"
          ]
        }
      ]
    },
    {
      "cell_type": "markdown",
      "metadata": {
        "id": "WMbUk1dezlP4"
      },
      "source": [
        "We obtained a great F1-score of ~84%.\n",
        "\n",
        "To keep this task simple we won't tune the parameters."
      ]
    },
    {
      "cell_type": "markdown",
      "metadata": {
        "id": "7k1z2oQ7zlP5"
      },
      "source": [
        "Let's check also **precision, recall and support metrics**, and take a look at the **confusion matrix**."
      ]
    },
    {
      "cell_type": "code",
      "execution_count": null,
      "metadata": {
        "id": "wOFCO70qzlP5",
        "colab": {
          "base_uri": "https://localhost:8080/",
          "height": 718
        },
        "outputId": "af5deafe-b572-4344-b8e5-2905dc0b97a5"
      },
      "outputs": [
        {
          "output_type": "stream",
          "name": "stdout",
          "text": [
            "CLASSIFICATION REPORT for RANDOM FOREST\n",
            "\n",
            "                             precision    recall  f1-score   support\n",
            "\n",
            "      Bank Account services       0.78      0.95      0.86      1402\n",
            "Credit card or prepaid card       0.84      0.86      0.85      1099\n",
            "                     Others       0.89      0.89      0.89       924\n",
            "    Theft/Dispute Reporting       0.94      0.55      0.69       653\n",
            "              Mortgage/Loan       0.86      0.82      0.84      1190\n",
            "\n",
            "                   accuracy                           0.84      5268\n",
            "                  macro avg       0.86      0.81      0.83      5268\n",
            "               weighted avg       0.85      0.84      0.84      5268\n",
            "\n"
          ]
        },
        {
          "output_type": "display_data",
          "data": {
            "text/plain": [
              "<Figure size 576x360 with 1 Axes>"
            ],
            "image/png": "[encoded data removed]"
          },
          "metadata": {
            "needs_background": "light"
          }
        }
      ],
      "source": [
        "model_name = 'RANDOM FOREST'\n",
        "# Evaluate the tuned Decision Tree classifier\n",
        "eval_model(y_test, y_pred_rf, model_name)"
      ]
    },
    {
      "cell_type": "markdown",
      "metadata": {
        "id": "NPJCYCfM9-AB"
      },
      "source": [
        "### Evaluate Naive Bayes model"
      ]
    },
    {
      "cell_type": "code",
      "execution_count": null,
      "metadata": {
        "id": "-6-gEtrT9-AD",
        "colab": {
          "base_uri": "https://localhost:8080/"
        },
        "outputId": "2061cef4-4f3e-4c86-ee1d-30314fc5db68"
      },
      "outputs": [
        {
          "output_type": "stream",
          "name": "stdout",
          "text": [
            "CPU times: user 3 µs, sys: 0 ns, total: 3 µs\n",
            "Wall time: 6.2 µs\n"
          ]
        }
      ],
      "source": [
        "# Run the Naive Bayes model\n",
        "model_name = 'NAIVE BAYES'\n",
        "clf_nb = MultinomialNB()\n",
        "%time \n",
        "clf_nb.fit(X_train, y_train)\n",
        "y_pred_nb = clf_nb.predict(X_test)"
      ]
    },
    {
      "cell_type": "markdown",
      "metadata": {
        "id": "Trpu407_9-AE"
      },
      "source": [
        "We'll **calculate the F1-score** as we'll compare the model against others."
      ]
    },
    {
      "cell_type": "code",
      "execution_count": null,
      "metadata": {
        "id": "-_sk17OS9-AF",
        "colab": {
          "base_uri": "https://localhost:8080/"
        },
        "outputId": "c19c8f61-cf81-45bc-e5e7-0e03e63e7380"
      },
      "outputs": [
        {
          "output_type": "execute_result",
          "data": {
            "text/plain": [
              "0.6898606381241196"
            ]
          },
          "metadata": {},
          "execution_count": 79
        }
      ],
      "source": [
        "# Calculate F1 Score using weighted average method\n",
        "f1_lr = f1_score(y_test, y_pred_nb, average=\"weighted\")\n",
        "f1_lr"
      ]
    },
    {
      "cell_type": "code",
      "source": [
        "# # Hyperparameter tuning to improve Naive Bayes performance\n",
        "param_grid_nb = {\n",
        "     'alpha': (1, 0.1, 0.01, 0.001, 0.0001, 0.00001),\n",
        "     'fit_prior':[True, False]\n",
        "}\n",
        "\n",
        "grid_nb = GridSearchCV(estimator=clf_nb, \n",
        "                        param_grid=param_grid_nb,\n",
        "                        verbose=1,\n",
        "                        scoring='f1_weighted',\n",
        "                        n_jobs=-1,\n",
        "                        cv=10)\n",
        "grid_nb.fit(X_train, y_train)\n",
        "print(grid_nb.best_params_)"
      ],
      "metadata": {
        "colab": {
          "base_uri": "https://localhost:8080/"
        },
        "id": "xSgFfkwNmbsJ",
        "outputId": "d50fd46d-7c2e-45bc-d6da-3342b0252d4c"
      },
      "execution_count": null,
      "outputs": [
        {
          "output_type": "stream",
          "name": "stdout",
          "text": [
            "Fitting 10 folds for each of 12 candidates, totalling 120 fits\n",
            "{'alpha': 0.1, 'fit_prior': False}\n"
          ]
        }
      ]
    },
    {
      "cell_type": "code",
      "source": [
        "# Run Multinomial Naive Bayes on tuned hyperparameters\n",
        "clf_nb_tuned = MultinomialNB(alpha=0.1, fit_prior=False)\n",
        "%time \n",
        "clf_nb_tuned.fit(X_train, y_train)\n",
        "y_pred_nb_tuned = clf_nb_tuned.predict(X_test)"
      ],
      "metadata": {
        "colab": {
          "base_uri": "https://localhost:8080/"
        },
        "id": "Q574u28omn0d",
        "outputId": "43a5323c-2a33-4ac1-aca1-503e978e0841"
      },
      "execution_count": null,
      "outputs": [
        {
          "output_type": "stream",
          "name": "stdout",
          "text": [
            "CPU times: user 3 µs, sys: 0 ns, total: 3 µs\n",
            "Wall time: 5.96 µs\n"
          ]
        }
      ]
    },
    {
      "cell_type": "code",
      "source": [
        "# Calculate F1 Score of tuned model using weighted average method\n",
        "f1_nb_tuned = f1_score(y_test, y_pred_nb_tuned, average=\"weighted\")\n",
        "f1_nb_tuned"
      ],
      "metadata": {
        "colab": {
          "base_uri": "https://localhost:8080/"
        },
        "id": "bz06pkbpmpCz",
        "outputId": "cbcb917f-5dba-4132-e09d-8940cdf4d659"
      },
      "execution_count": null,
      "outputs": [
        {
          "output_type": "execute_result",
          "data": {
            "text/plain": [
              "0.8035591660758139"
            ]
          },
          "metadata": {},
          "execution_count": 91
        }
      ]
    },
    {
      "cell_type": "code",
      "source": [
        "# Evaluate the tuned Naive Bayes classifier\n",
        "eval_model(y_test, y_pred_nb_tuned, model_name"
      ],
      "metadata": {
        "id": "a236sggjmryv"
      },
      "execution_count": null,
      "outputs": []
    },
    {
      "cell_type": "markdown",
      "source": [],
      "metadata": {
        "id": "VIykjNPJmm5F"
      }
    },
    {
      "cell_type": "markdown",
      "metadata": {
        "id": "pxSMrn8D9-AG"
      },
      "source": [
        "We obtained an F1-score of ~69%, which has been the lowest one."
      ]
    },
    {
      "cell_type": "markdown",
      "metadata": {
        "id": "ZqnZYImvAP41"
      },
      "source": [
        "Hyperparameter tuning is not a valid method to improve Naive Bayes classifier accuracy. \n",
        "\n",
        "Like all machine learning algorithms, we can boost the Naive Bayes classifier by applying some simple techniques to the dataset, like data preprocessing and feature selection, but in this case we have a very simple dataset so we'll keep this basic model with default library values.\n",
        "\n",
        "Let's check also **precision, recall and support metrics**, and take a look at the **confusion matrix**."
      ]
    },
    {
      "cell_type": "code",
      "execution_count": null,
      "metadata": {
        "id": "789cXXc0A0j9",
        "colab": {
          "base_uri": "https://localhost:8080/",
          "height": 718
        },
        "outputId": "5a4d4b76-f105-491c-f416-a46be9095e0c"
      },
      "outputs": [
        {
          "output_type": "stream",
          "name": "stdout",
          "text": [
            "CLASSIFICATION REPORT for RANDOM FOREST\n",
            "\n",
            "                             precision    recall  f1-score   support\n",
            "\n",
            "      Bank Account services       0.57      0.96      0.71      1402\n",
            "Credit card or prepaid card       0.82      0.68      0.74      1099\n",
            "                     Others       0.88      0.80      0.84       924\n",
            "    Theft/Dispute Reporting       0.98      0.13      0.24       653\n",
            "              Mortgage/Loan       0.80      0.70      0.75      1190\n",
            "\n",
            "                   accuracy                           0.71      5268\n",
            "                  macro avg       0.81      0.66      0.66      5268\n",
            "               weighted avg       0.78      0.71      0.69      5268\n",
            "\n"
          ]
        },
        {
          "output_type": "display_data",
          "data": {
            "text/plain": [
              "<Figure size 576x360 with 1 Axes>"
            ],
            "image/png": "[encoded data removed]"
          },
          "metadata": {
            "needs_background": "light"
          }
        }
      ],
      "source": [
        "# Evaluate the tuned Logistic Regression classifier\n",
        "eval_model(y_test, y_pred_nb, model_name)"
      ]
    },
    {
      "cell_type": "markdown",
      "source": [
        "Model #5: Support Vector Machine"
      ],
      "metadata": {
        "id": "AxvtTsuxlZh6"
      }
    },
    {
      "cell_type": "code",
      "source": [
        "from sklearn.svm import SVC\n",
        "\n",
        "# Run the Support Vector Machine (SVM) model on default hyperparameters\n",
        "model_name = 'SUPPORT VECTOR MACHINE'\n",
        "clf_svm = SVC()\n",
        "%time \n",
        "clf_svm.fit(X_train, y_train)\n",
        "y_pred_svm = clf_svm.predict(X_test)\n"
      ],
      "metadata": {
        "colab": {
          "base_uri": "https://localhost:8080/"
        },
        "id": "TsLuf_R0leKV",
        "outputId": "f4ea98ee-da61-489d-f92c-52d4acf848b0"
      },
      "execution_count": null,
      "outputs": [
        {
          "output_type": "stream",
          "name": "stdout",
          "text": [
            "CPU times: user 4 µs, sys: 0 ns, total: 4 µs\n",
            "Wall time: 8.34 µs\n"
          ]
        }
      ]
    },
    {
      "cell_type": "code",
      "source": [
        "# Calculate F1 Score using weighted average method\n",
        "f1_svm = f1_score(y_test, y_pred_svm, average=\"weighted\")\n",
        "f1_svm"
      ],
      "metadata": {
        "colab": {
          "base_uri": "https://localhost:8080/"
        },
        "id": "F-88LwE8lfXC",
        "outputId": "7bfba86c-276a-419c-eaaa-7ffd702bc270"
      },
      "execution_count": null,
      "outputs": [
        {
          "output_type": "execute_result",
          "data": {
            "text/plain": [
              "0.9381248087813858"
            ]
          },
          "metadata": {},
          "execution_count": 87
        }
      ]
    },
    {
      "cell_type": "code",
      "source": [
        "# # Hyperparameter tuning to improve SVM performance\n",
        "param_grid_svm = {\n",
        "     'C': [10, 15],\n",
        "     'gamma': ['scale', 0.01],\n",
        "     'kernel': ['linear', 'rbf']\n",
        "}\n",
        "\n",
        "grid_svm = GridSearchCV(estimator=clf_svm, \n",
        "                        param_grid=param_grid_svm,\n",
        "                        scoring='f1_weighted',\n",
        "                        verbose=1,\n",
        "                        n_jobs=-1,\n",
        "                        cv=2)\n",
        "grid_svm.fit(X_train, y_train)\n",
        "print(grid_svm.best_params_)"
      ],
      "metadata": {
        "colab": {
          "base_uri": "https://localhost:8080/"
        },
        "id": "4VZZQdXbliVn",
        "outputId": "ea1909c0-8ba5-4130-fb9e-32d411182e5b"
      },
      "execution_count": null,
      "outputs": [
        {
          "output_type": "stream",
          "name": "stdout",
          "text": [
            "Fitting 2 folds for each of 8 candidates, totalling 16 fits\n",
            "{'C': 15, 'gamma': 'scale', 'kernel': 'rbf'}\n"
          ]
        }
      ]
    },
    {
      "cell_type": "code",
      "source": [
        "# Run SVM on tuned hyperparameters\n",
        "clf_svm_tuned = SVC(C=15,\n",
        "                    gamma='scale',\n",
        "                    kernel='rbf')\n",
        "%time \n",
        "clf_svm_tuned.fit(X_train, y_train)\n",
        "y_pred_svm_tuned = clf_svm_tuned.predict(X_test)\n"
      ],
      "metadata": {
        "colab": {
          "base_uri": "https://localhost:8080/"
        },
        "id": "T4TuPZvDlvJ5",
        "outputId": "e3232631-b54e-4349-ee20-29d62906d3cb"
      },
      "execution_count": null,
      "outputs": [
        {
          "output_type": "stream",
          "name": "stdout",
          "text": [
            "CPU times: user 3 µs, sys: 0 ns, total: 3 µs\n",
            "Wall time: 5.72 µs\n"
          ]
        }
      ]
    },
    {
      "cell_type": "code",
      "source": [
        "# Calculate F1 Score of tuned model using weighted average method\n",
        "f1_svm_tuned = f1_score(y_test, y_pred_svm_tuned, average=\"weighted\")\n",
        "f1_svm_tuned"
      ],
      "metadata": {
        "colab": {
          "base_uri": "https://localhost:8080/"
        },
        "id": "TLVGy7yWlzvz",
        "outputId": "c4710fe4-4333-470c-ac31-0325df88efd3"
      },
      "execution_count": null,
      "outputs": [
        {
          "output_type": "execute_result",
          "data": {
            "text/plain": [
              "0.940657259833581"
            ]
          },
          "metadata": {},
          "execution_count": 93
        }
      ]
    },
    {
      "cell_type": "markdown",
      "source": [
        "### Evaluate SVM Model"
      ],
      "metadata": {
        "id": "WFmT17hauOsy"
      }
    },
    {
      "cell_type": "code",
      "source": [
        "# Evaluate the SVM classifier\n",
        "eval_model(y_test, y_pred_svm_tuned, model_name)\n"
      ],
      "metadata": {
        "colab": {
          "base_uri": "https://localhost:8080/",
          "height": 718
        },
        "id": "GkMGL_aCl2PL",
        "outputId": "2d3cdb01-cd06-4480-d58d-6396969c8e77"
      },
      "execution_count": null,
      "outputs": [
        {
          "output_type": "stream",
          "name": "stdout",
          "text": [
            "CLASSIFICATION REPORT for SUPPORT VECTOR MACHINE\n",
            "\n",
            "                             precision    recall  f1-score   support\n",
            "\n",
            "      Bank Account services       0.94      0.96      0.95      1402\n",
            "Credit card or prepaid card       0.95      0.94      0.94      1099\n",
            "                     Others       0.95      0.94      0.95       924\n",
            "    Theft/Dispute Reporting       0.94      0.89      0.91       653\n",
            "              Mortgage/Loan       0.93      0.95      0.94      1190\n",
            "\n",
            "                   accuracy                           0.94      5268\n",
            "                  macro avg       0.94      0.93      0.94      5268\n",
            "               weighted avg       0.94      0.94      0.94      5268\n",
            "\n"
          ]
        },
        {
          "output_type": "display_data",
          "data": {
            "text/plain": [
              "<Figure size 576x360 with 1 Axes>"
            ],
            "image/png": "[encoded data removed]"
          },
          "metadata": {
            "needs_background": "light"
          }
        }
      ]
    },
    {
      "cell_type": "markdown",
      "metadata": {
        "id": "l8hVulfX1zJ5"
      },
      "source": [
        "### Model selection\n",
        "\n",
        "Let's take a look into a summary of models' metrics.\n",
        "\n",
        "| Model | Precision | Recall | F1-score |\n",
        "| --- | --- | --- | --- |\n",
        "| Logistic Regression | 0.95 | 0.95 | 0.95 |\n",
        "| Decision Tree | 0.78 | .77 | 0.77 |\n",
        "| Random Forest | 0.85 | 0.84 | 0.84 |\n",
        "| Naive Bayes | 0.78 | 0.71 | 0.69 |\n",
        "| SVM | 0.94 | 0.94 | 0.94 |\n",
        "\n",
        "**Logistic Regression** has the best performance with 95% of precision, recall, and F1-score.\n",
        "\n",
        "We'll use the tuned model version for predicting and then evaluate its performance."
      ]
    },
    {
      "cell_type": "markdown",
      "metadata": {
        "id": "cHX29zeV2PlL"
      },
      "source": [
        "## Model inference\n",
        "We'll apply the best model to predict a custom text to see its performance. \n",
        "\n",
        "We created custom complaints that fit one of the topics, in order.\n",
        "- Topic 1: 'Theft/Dispute reporting',\n",
        "- Topic 2: 'Credit card or prepaid card',\n",
        "- Topic 3: 'Mortgage/Loan',\n",
        "- Topic 4: 'Bank Account services',\n",
        "- Topic 5: 'Others'"
      ]
    },
    {
      "cell_type": "code",
      "execution_count": null,
      "metadata": {
        "id": "bQMUSEMT2Heu",
        "colab": {
          "base_uri": "https://localhost:8080/",
          "height": 206
        },
        "outputId": "b390f053-48e2-4fa5-d9d9-d2a5c76d15d6"
      },
      "outputs": [
        {
          "output_type": "execute_result",
          "data": {
            "text/plain": [
              "                                           complaint\n",
              "0  I received a fraudulent email about a merchant...\n",
              "1  Last credit card report shown a duplicated cha...\n",
              "2  I can not get from chase who services my mortg...\n",
              "3  I want to open a bank account at the nearest l...\n",
              "4   What are the different ways I can make payments?"
            ],
            "text/html": [
              "\n",
              "  <div id=\"df-0bf94e73-190c-4d16-a05e-558794ce3ded\">\n",
              "    <div class=\"colab-df-container\">\n",
              "      <div>\n",
              "<style scoped>\n",
              "    .dataframe tbody tr th:only-of-type {\n",
              "        vertical-align: middle;\n",
              "    }\n",
              "\n",
              "    .dataframe tbody tr th {\n",
              "        vertical-align: top;\n",
              "    }\n",
              "\n",
              "    .dataframe thead th {\n",
              "        text-align: right;\n",
              "    }\n",
              "</style>\n",
              "<table border=\"1\" class=\"dataframe\">\n",
              "  <thead>\n",
              "    <tr style=\"text-align: right;\">\n",
              "      <th></th>\n",
              "      <th>complaint</th>\n",
              "    </tr>\n",
              "  </thead>\n",
              "  <tbody>\n",
              "    <tr>\n",
              "      <th>0</th>\n",
              "      <td>I received a fraudulent email about a merchant...</td>\n",
              "    </tr>\n",
              "    <tr>\n",
              "      <th>1</th>\n",
              "      <td>Last credit card report shown a duplicated cha...</td>\n",
              "    </tr>\n",
              "    <tr>\n",
              "      <th>2</th>\n",
              "      <td>I can not get from chase who services my mortg...</td>\n",
              "    </tr>\n",
              "    <tr>\n",
              "      <th>3</th>\n",
              "      <td>I want to open a bank account at the nearest l...</td>\n",
              "    </tr>\n",
              "    <tr>\n",
              "      <th>4</th>\n",
              "      <td>What are the different ways I can make payments?</td>\n",
              "    </tr>\n",
              "  </tbody>\n",
              "</table>\n",
              "</div>\n",
              "      <button class=\"colab-df-convert\" onclick=\"convertToInteractive('df-0bf94e73-190c-4d16-a05e-558794ce3ded')\"\n",
              "              title=\"Convert this dataframe to an interactive table.\"\n",
              "              style=\"display:none;\">\n",
              "        \n",
              "  <svg xmlns=\"http://www.w3.org/2000/svg\" height=\"24px\"viewBox=\"0 0 24 24\"\n",
              "       width=\"24px\">\n",
              "    <path d=\"M0 0h24v24H0V0z\" fill=\"none\"/>\n",
              "    <path d=\"M18.56 5.44l.94 2.06.94-2.06 2.06-.94-2.06-.94-.94-2.06-.94 2.06-2.06.94zm-11 1L8.5 8.5l.94-2.06 2.06-.94-2.06-.94L8.5 2.5l-.94 2.06-2.06.94zm10 10l.94 2.06.94-2.06 2.06-.94-2.06-.94-.94-2.06-.94 2.06-2.06.94z\"/><path d=\"M17.41 7.96l-1.37-1.37c-.4-.4-.92-.59-1.43-.59-.52 0-1.04.2-1.43.59L10.3 9.45l-7.72 7.72c-.78.78-.78 2.05 0 2.83L4 21.41c.39.39.9.59 1.41.59.51 0 1.02-.2 1.41-.59l7.78-7.78 2.81-2.81c.8-.78.8-2.07 0-2.86zM5.41 20L4 18.59l7.72-7.72 1.47 1.35L5.41 20z\"/>\n",
              "  </svg>\n",
              "      </button>\n",
              "      \n",
              "  <style>\n",
              "    .colab-df-container {\n",
              "      display:flex;\n",
              "      flex-wrap:wrap;\n",
              "      gap: 12px;\n",
              "    }\n",
              "\n",
              "    .colab-df-convert {\n",
              "      background-color: #E8F0FE;\n",
              "      border: none;\n",
              "      border-radius: 50%;\n",
              "      cursor: pointer;\n",
              "      display: none;\n",
              "      fill: #1967D2;\n",
              "      height: 32px;\n",
              "      padding: 0 0 0 0;\n",
              "      width: 32px;\n",
              "    }\n",
              "\n",
              "    .colab-df-convert:hover {\n",
              "      background-color: #E2EBFA;\n",
              "      box-shadow: 0px 1px 2px rgba(60, 64, 67, 0.3), 0px 1px 3px 1px rgba(60, 64, 67, 0.15);\n",
              "      fill: #174EA6;\n",
              "    }\n",
              "\n",
              "    [theme=dark] .colab-df-convert {\n",
              "      background-color: #3B4455;\n",
              "      fill: #D2E3FC;\n",
              "    }\n",
              "\n",
              "    [theme=dark] .colab-df-convert:hover {\n",
              "      background-color: #434B5C;\n",
              "      box-shadow: 0px 1px 3px 1px rgba(0, 0, 0, 0.15);\n",
              "      filter: drop-shadow(0px 1px 2px rgba(0, 0, 0, 0.3));\n",
              "      fill: #FFFFFF;\n",
              "    }\n",
              "  </style>\n",
              "\n",
              "      <script>\n",
              "        const buttonEl =\n",
              "          document.querySelector('#df-0bf94e73-190c-4d16-a05e-558794ce3ded button.colab-df-convert');\n",
              "        buttonEl.style.display =\n",
              "          google.colab.kernel.accessAllowed ? 'block' : 'none';\n",
              "\n",
              "        async function convertToInteractive(key) {\n",
              "          const element = document.querySelector('#df-0bf94e73-190c-4d16-a05e-558794ce3ded');\n",
              "          const dataTable =\n",
              "            await google.colab.kernel.invokeFunction('convertToInteractive',\n",
              "                                                     [key], {});\n",
              "          if (!dataTable) return;\n",
              "\n",
              "          const docLinkHtml = 'Like what you see? Visit the ' +\n",
              "            '<a target=\"_blank\" href=https://colab.research.google.com/notebooks/data_table.ipynb>data table notebook</a>'\n",
              "            + ' to learn more about interactive tables.';\n",
              "          element.innerHTML = '';\n",
              "          dataTable['output_type'] = 'display_data';\n",
              "          await google.colab.output.renderOutput(dataTable, element);\n",
              "          const docLink = document.createElement('div');\n",
              "          docLink.innerHTML = docLinkHtml;\n",
              "          element.appendChild(docLink);\n",
              "        }\n",
              "      </script>\n",
              "    </div>\n",
              "  </div>\n",
              "  "
            ]
          },
          "metadata": {},
          "execution_count": 81
        }
      ],
      "source": [
        "# Some sample complaints to infer model\n",
        "df_complaints = pd.DataFrame({'complaint': [\n",
        "                                  \"I received a fraudulent email about a merchant saying a dispute with me is open and requested some information.\",\n",
        "                                  \"Last credit card report shown a duplicated charge. Please take a look into it.\",\n",
        "                                  \"I can not get from chase who services my mortgage, who owns it and who has original loan docs\", \n",
        "                                  \"I want to open a bank account at the nearest location with initial funds. Please provide me the procedure.\",\n",
        "                                  \"What are the different ways I can make payments?\"]})\n",
        "df_complaints"
      ]
    },
    {
      "cell_type": "markdown",
      "metadata": {
        "id": "Fd-M8QWh9kSh"
      },
      "source": [
        "Let's define a function to predict by using the best selected model, that in this case is the Tuned Logistic Regression one."
      ]
    },
    {
      "cell_type": "code",
      "execution_count": null,
      "metadata": {
        "id": "mv-ktf-B3WHA"
      },
      "outputs": [],
      "source": [
        "def predict_best_model(text):\n",
        "    \"\"\"\n",
        "    This function applies required transformations to given text to use best \n",
        "    model and predict its topic\n",
        "    :param text: input text\n",
        "    \"\"\"\n",
        "    X_new_counts = count_vect.transform(text)\n",
        "    X_new_tfidf = tfidf_transformer.transform(X_new_counts)\n",
        "    predicted = clf_lr_tuned.predict(X_new_tfidf)\n",
        "    return predicted[0]"
      ]
    },
    {
      "cell_type": "markdown",
      "metadata": {
        "id": "uQ7XG00q9r5r"
      },
      "source": [
        "Let's **predict the topics of our custom complaints**."
      ]
    },
    {
      "cell_type": "code",
      "execution_count": null,
      "metadata": {
        "id": "sfd0dm6S4PwW",
        "colab": {
          "base_uri": "https://localhost:8080/",
          "height": 206
        },
        "outputId": "ff73b66d-60c9-42c3-c9b6-d7bd80419d6c"
      },
      "outputs": [
        {
          "output_type": "execute_result",
          "data": {
            "text/plain": [
              "                                           complaint  \\\n",
              "0  I received a fraudulent email about a merchant...   \n",
              "1  Last credit card report shown a duplicated cha...   \n",
              "2  I can not get from chase who services my mortg...   \n",
              "3  I want to open a bank account at the nearest l...   \n",
              "4   What are the different ways I can make payments?   \n",
              "\n",
              "                         Topic  \n",
              "0      Theft/Dispute reporting  \n",
              "1  Credit card or prepaid card  \n",
              "2                Mortgage/Loan  \n",
              "3        Bank Account services  \n",
              "4                       Others  "
            ],
            "text/html": [
              "\n",
              "  <div id=\"df-fc53f95f-2dc2-4347-89c0-313ff0628bc4\">\n",
              "    <div class=\"colab-df-container\">\n",
              "      <div>\n",
              "<style scoped>\n",
              "    .dataframe tbody tr th:only-of-type {\n",
              "        vertical-align: middle;\n",
              "    }\n",
              "\n",
              "    .dataframe tbody tr th {\n",
              "        vertical-align: top;\n",
              "    }\n",
              "\n",
              "    .dataframe thead th {\n",
              "        text-align: right;\n",
              "    }\n",
              "</style>\n",
              "<table border=\"1\" class=\"dataframe\">\n",
              "  <thead>\n",
              "    <tr style=\"text-align: right;\">\n",
              "      <th></th>\n",
              "      <th>complaint</th>\n",
              "      <th>Topic</th>\n",
              "    </tr>\n",
              "  </thead>\n",
              "  <tbody>\n",
              "    <tr>\n",
              "      <th>0</th>\n",
              "      <td>I received a fraudulent email about a merchant...</td>\n",
              "      <td>Theft/Dispute reporting</td>\n",
              "    </tr>\n",
              "    <tr>\n",
              "      <th>1</th>\n",
              "      <td>Last credit card report shown a duplicated cha...</td>\n",
              "      <td>Credit card or prepaid card</td>\n",
              "    </tr>\n",
              "    <tr>\n",
              "      <th>2</th>\n",
              "      <td>I can not get from chase who services my mortg...</td>\n",
              "      <td>Mortgage/Loan</td>\n",
              "    </tr>\n",
              "    <tr>\n",
              "      <th>3</th>\n",
              "      <td>I want to open a bank account at the nearest l...</td>\n",
              "      <td>Bank Account services</td>\n",
              "    </tr>\n",
              "    <tr>\n",
              "      <th>4</th>\n",
              "      <td>What are the different ways I can make payments?</td>\n",
              "      <td>Others</td>\n",
              "    </tr>\n",
              "  </tbody>\n",
              "</table>\n",
              "</div>\n",
              "      <button class=\"colab-df-convert\" onclick=\"convertToInteractive('df-fc53f95f-2dc2-4347-89c0-313ff0628bc4')\"\n",
              "              title=\"Convert this dataframe to an interactive table.\"\n",
              "              style=\"display:none;\">\n",
              "        \n",
              "  <svg xmlns=\"http://www.w3.org/2000/svg\" height=\"24px\"viewBox=\"0 0 24 24\"\n",
              "       width=\"24px\">\n",
              "    <path d=\"M0 0h24v24H0V0z\" fill=\"none\"/>\n",
              "    <path d=\"M18.56 5.44l.94 2.06.94-2.06 2.06-.94-2.06-.94-.94-2.06-.94 2.06-2.06.94zm-11 1L8.5 8.5l.94-2.06 2.06-.94-2.06-.94L8.5 2.5l-.94 2.06-2.06.94zm10 10l.94 2.06.94-2.06 2.06-.94-2.06-.94-.94-2.06-.94 2.06-2.06.94z\"/><path d=\"M17.41 7.96l-1.37-1.37c-.4-.4-.92-.59-1.43-.59-.52 0-1.04.2-1.43.59L10.3 9.45l-7.72 7.72c-.78.78-.78 2.05 0 2.83L4 21.41c.39.39.9.59 1.41.59.51 0 1.02-.2 1.41-.59l7.78-7.78 2.81-2.81c.8-.78.8-2.07 0-2.86zM5.41 20L4 18.59l7.72-7.72 1.47 1.35L5.41 20z\"/>\n",
              "  </svg>\n",
              "      </button>\n",
              "      \n",
              "  <style>\n",
              "    .colab-df-container {\n",
              "      display:flex;\n",
              "      flex-wrap:wrap;\n",
              "      gap: 12px;\n",
              "    }\n",
              "\n",
              "    .colab-df-convert {\n",
              "      background-color: #E8F0FE;\n",
              "      border: none;\n",
              "      border-radius: 50%;\n",
              "      cursor: pointer;\n",
              "      display: none;\n",
              "      fill: #1967D2;\n",
              "      height: 32px;\n",
              "      padding: 0 0 0 0;\n",
              "      width: 32px;\n",
              "    }\n",
              "\n",
              "    .colab-df-convert:hover {\n",
              "      background-color: #E2EBFA;\n",
              "      box-shadow: 0px 1px 2px rgba(60, 64, 67, 0.3), 0px 1px 3px 1px rgba(60, 64, 67, 0.15);\n",
              "      fill: #174EA6;\n",
              "    }\n",
              "\n",
              "    [theme=dark] .colab-df-convert {\n",
              "      background-color: #3B4455;\n",
              "      fill: #D2E3FC;\n",
              "    }\n",
              "\n",
              "    [theme=dark] .colab-df-convert:hover {\n",
              "      background-color: #434B5C;\n",
              "      box-shadow: 0px 1px 3px 1px rgba(0, 0, 0, 0.15);\n",
              "      filter: drop-shadow(0px 1px 2px rgba(0, 0, 0, 0.3));\n",
              "      fill: #FFFFFF;\n",
              "    }\n",
              "  </style>\n",
              "\n",
              "      <script>\n",
              "        const buttonEl =\n",
              "          document.querySelector('#df-fc53f95f-2dc2-4347-89c0-313ff0628bc4 button.colab-df-convert');\n",
              "        buttonEl.style.display =\n",
              "          google.colab.kernel.accessAllowed ? 'block' : 'none';\n",
              "\n",
              "        async function convertToInteractive(key) {\n",
              "          const element = document.querySelector('#df-fc53f95f-2dc2-4347-89c0-313ff0628bc4');\n",
              "          const dataTable =\n",
              "            await google.colab.kernel.invokeFunction('convertToInteractive',\n",
              "                                                     [key], {});\n",
              "          if (!dataTable) return;\n",
              "\n",
              "          const docLinkHtml = 'Like what you see? Visit the ' +\n",
              "            '<a target=\"_blank\" href=https://colab.research.google.com/notebooks/data_table.ipynb>data table notebook</a>'\n",
              "            + ' to learn more about interactive tables.';\n",
              "          element.innerHTML = '';\n",
              "          dataTable['output_type'] = 'display_data';\n",
              "          await google.colab.output.renderOutput(dataTable, element);\n",
              "          const docLink = document.createElement('div');\n",
              "          docLink.innerHTML = docLinkHtml;\n",
              "          element.appendChild(docLink);\n",
              "        }\n",
              "      </script>\n",
              "    </div>\n",
              "  </div>\n",
              "  "
            ]
          },
          "metadata": {},
          "execution_count": 83
        }
      ],
      "source": [
        "df_complaints['Topic'] = df_complaints['complaint'].apply(lambda x: predict_best_model([x]))\n",
        "df_complaints"
      ]
    },
    {
      "cell_type": "markdown",
      "metadata": {
        "id": "wA1RWIbj63Ua"
      },
      "source": [
        "Model has been able to **correctly predict the topic of the custom complaints.**"
      ]
    },
    {
      "cell_type": "markdown",
      "metadata": {
        "id": "GOs-9AZb8Y6s"
      },
      "source": [
        "## Conclusions\n",
        "\n",
        "We were **able to classify complaints into the following five topics** based on their content:\n",
        "\n",
        "* Credit card / Prepaid card\n",
        "\n",
        "* Bank account services\n",
        "\n",
        "* Theft/Dispute reporting\n",
        "\n",
        "* Mortgages/loans\n",
        "\n",
        "* Others \n",
        "\n",
        "**We tested N different supervised models** with following results:\n",
        "\n",
        "| Model | Precision | Recall | F1-score |\n",
        "| --- | --- | --- | --- |\n",
        "| Logistic Regression | 0.95 | 0.95 | 0.95 |\n",
        "| Decision Tree | 0.78 | .77 | 0.77 |\n",
        "| Random Forest | 0.85 | 0.84 | 0.84 |\n",
        "| Naive Bayes | 0.78 | 0.71 | 0.69 |\n",
        "| SVM | 0.94 | 0.94 | 0.94 |\n",
        "\n",
        "**Logistic Regression has highest accuracy of 95%**, and that makes it a good fit for this case study."
      ]
    },
    {
      "cell_type": "code",
      "execution_count": null,
      "metadata": {
        "id": "O9UIbr8oV0u1"
      },
      "outputs": [],
      "source": []
    }
  ],
  "metadata": {
    "accelerator": "GPU",
    "colab": {
      "machine_shape": "hm",
      "toc_visible": true,
      "provenance": [],
      "include_colab_link": true
    },
    "gpuClass": "premium",
    "kernelspec": {
      "display_name": "Python 3",
      "language": "python",
      "name": "python3"
    },
    "language_info": {
      "codemirror_mode": {
        "name": "ipython",
        "version": 3
      },
      "file_extension": ".py",
      "mimetype": "text/x-python",
      "name": "python",
      "nbconvert_exporter": "python",
      "pygments_lexer": "ipython3",
      "version": "3.7.6"
    },
    "widgets": {
      "application/vnd.jupyter.widget-state+json": {
        "6b41a474e46840acbdc179bb58c65da9": {
          "model_module": "@jupyter-widgets/controls",
          "model_name": "HBoxModel",
          "model_module_version": "1.5.0",
          "state": {
            "_dom_classes": [],
            "_model_module": "@jupyter-widgets/controls",
            "_model_module_version": "1.5.0",
            "_model_name": "HBoxModel",
            "_view_count": null,
            "_view_module": "@jupyter-widgets/controls",
            "_view_module_version": "1.5.0",
            "_view_name": "HBoxView",
            "box_style": "",
            "children": [
              "IPY_MODEL_68270ca1930a4b0da8692d5ff93cf185",
              "IPY_MODEL_c7499c8b21c04d409fd88bf18d07a617",
              "IPY_MODEL_77123736a59f4762808acd7ef0833784"
            ],
            "layout": "IPY_MODEL_af2fbdbbe3ae49d38a0a6a00b1f420b6"
          }
        },
        "68270ca1930a4b0da8692d5ff93cf185": {
          "model_module": "@jupyter-widgets/controls",
          "model_name": "HTMLModel",
          "model_module_version": "1.5.0",
          "state": {
            "_dom_classes": [],
            "_model_module": "@jupyter-widgets/controls",
            "_model_module_version": "1.5.0",
            "_model_name": "HTMLModel",
            "_view_count": null,
            "_view_module": "@jupyter-widgets/controls",
            "_view_module_version": "1.5.0",
            "_view_name": "HTMLView",
            "description": "",
            "description_tooltip": null,
            "layout": "IPY_MODEL_3b88fdf74d0541a4a0cecf78a054f6f1",
            "placeholder": "​",
            "style": "IPY_MODEL_15b3c240fa124ca8b89450e34c2376d6",
            "value": "Pandas Apply: 100%"
          }
        },
        "c7499c8b21c04d409fd88bf18d07a617": {
          "model_module": "@jupyter-widgets/controls",
          "model_name": "FloatProgressModel",
          "model_module_version": "1.5.0",
          "state": {
            "_dom_classes": [],
            "_model_module": "@jupyter-widgets/controls",
            "_model_module_version": "1.5.0",
            "_model_name": "FloatProgressModel",
            "_view_count": null,
            "_view_module": "@jupyter-widgets/controls",
            "_view_module_version": "1.5.0",
            "_view_name": "ProgressView",
            "bar_style": "success",
            "description": "",
            "description_tooltip": null,
            "layout": "IPY_MODEL_9cc70565e23a455ebd28845896811e0a",
            "max": 21072,
            "min": 0,
            "orientation": "horizontal",
            "style": "IPY_MODEL_4643380b853b48aca80db51060ba80ff",
            "value": 21072
          }
        },
        "77123736a59f4762808acd7ef0833784": {
          "model_module": "@jupyter-widgets/controls",
          "model_name": "HTMLModel",
          "model_module_version": "1.5.0",
          "state": {
            "_dom_classes": [],
            "_model_module": "@jupyter-widgets/controls",
            "_model_module_version": "1.5.0",
            "_model_name": "HTMLModel",
            "_view_count": null,
            "_view_module": "@jupyter-widgets/controls",
            "_view_module_version": "1.5.0",
            "_view_name": "HTMLView",
            "description": "",
            "description_tooltip": null,
            "layout": "IPY_MODEL_682b422e34d84d21a604f590bf753870",
            "placeholder": "​",
            "style": "IPY_MODEL_0dc69d284aa34a5b911210a946c9a335",
            "value": " 21072/21072 [14:16&lt;00:00, 23.66it/s]"
          }
        },
        "af2fbdbbe3ae49d38a0a6a00b1f420b6": {
          "model_module": "@jupyter-widgets/base",
          "model_name": "LayoutModel",
          "model_module_version": "1.2.0",
          "state": {
            "_model_module": "@jupyter-widgets/base",
            "_model_module_version": "1.2.0",
            "_model_name": "LayoutModel",
            "_view_count": null,
            "_view_module": "@jupyter-widgets/base",
            "_view_module_version": "1.2.0",
            "_view_name": "LayoutView",
            "align_content": null,
            "align_items": null,
            "align_self": null,
            "border": null,
            "bottom": null,
            "display": null,
            "flex": null,
            "flex_flow": null,
            "grid_area": null,
            "grid_auto_columns": null,
            "grid_auto_flow": null,
            "grid_auto_rows": null,
            "grid_column": null,
            "grid_gap": null,
            "grid_row": null,
            "grid_template_areas": null,
            "grid_template_columns": null,
            "grid_template_rows": null,
            "height": null,
            "justify_content": null,
            "justify_items": null,
            "left": null,
            "margin": null,
            "max_height": null,
            "max_width": null,
            "min_height": null,
            "min_width": null,
            "object_fit": null,
            "object_position": null,
            "order": null,
            "overflow": null,
            "overflow_x": null,
            "overflow_y": null,
            "padding": null,
            "right": null,
            "top": null,
            "visibility": null,
            "width": null
          }
        },
        "3b88fdf74d0541a4a0cecf78a054f6f1": {
          "model_module": "@jupyter-widgets/base",
          "model_name": "LayoutModel",
          "model_module_version": "1.2.0",
          "state": {
            "_model_module": "@jupyter-widgets/base",
            "_model_module_version": "1.2.0",
            "_model_name": "LayoutModel",
            "_view_count": null,
            "_view_module": "@jupyter-widgets/base",
            "_view_module_version": "1.2.0",
            "_view_name": "LayoutView",
            "align_content": null,
            "align_items": null,
            "align_self": null,
            "border": null,
            "bottom": null,
            "display": null,
            "flex": null,
            "flex_flow": null,
            "grid_area": null,
            "grid_auto_columns": null,
            "grid_auto_flow": null,
            "grid_auto_rows": null,
            "grid_column": null,
            "grid_gap": null,
            "grid_row": null,
            "grid_template_areas": null,
            "grid_template_columns": null,
            "grid_template_rows": null,
            "height": null,
            "justify_content": null,
            "justify_items": null,
            "left": null,
            "margin": null,
            "max_height": null,
            "max_width": null,
            "min_height": null,
            "min_width": null,
            "object_fit": null,
            "object_position": null,
            "order": null,
            "overflow": null,
            "overflow_x": null,
            "overflow_y": null,
            "padding": null,
            "right": null,
            "top": null,
            "visibility": null,
            "width": null
          }
        },
        "15b3c240fa124ca8b89450e34c2376d6": {
          "model_module": "@jupyter-widgets/controls",
          "model_name": "DescriptionStyleModel",
          "model_module_version": "1.5.0",
          "state": {
            "_model_module": "@jupyter-widgets/controls",
            "_model_module_version": "1.5.0",
            "_model_name": "DescriptionStyleModel",
            "_view_count": null,
            "_view_module": "@jupyter-widgets/base",
            "_view_module_version": "1.2.0",
            "_view_name": "StyleView",
            "description_width": ""
          }
        },
        "9cc70565e23a455ebd28845896811e0a": {
          "model_module": "@jupyter-widgets/base",
          "model_name": "LayoutModel",
          "model_module_version": "1.2.0",
          "state": {
            "_model_module": "@jupyter-widgets/base",
            "_model_module_version": "1.2.0",
            "_model_name": "LayoutModel",
            "_view_count": null,
            "_view_module": "@jupyter-widgets/base",
            "_view_module_version": "1.2.0",
            "_view_name": "LayoutView",
            "align_content": null,
            "align_items": null,
            "align_self": null,
            "border": null,
            "bottom": null,
            "display": null,
            "flex": null,
            "flex_flow": null,
            "grid_area": null,
            "grid_auto_columns": null,
            "grid_auto_flow": null,
            "grid_auto_rows": null,
            "grid_column": null,
            "grid_gap": null,
            "grid_row": null,
            "grid_template_areas": null,
            "grid_template_columns": null,
            "grid_template_rows": null,
            "height": null,
            "justify_content": null,
            "justify_items": null,
            "left": null,
            "margin": null,
            "max_height": null,
            "max_width": null,
            "min_height": null,
            "min_width": null,
            "object_fit": null,
            "object_position": null,
            "order": null,
            "overflow": null,
            "overflow_x": null,
            "overflow_y": null,
            "padding": null,
            "right": null,
            "top": null,
            "visibility": null,
            "width": null
          }
        },
        "4643380b853b48aca80db51060ba80ff": {
          "model_module": "@jupyter-widgets/controls",
          "model_name": "ProgressStyleModel",
          "model_module_version": "1.5.0",
          "state": {
            "_model_module": "@jupyter-widgets/controls",
            "_model_module_version": "1.5.0",
            "_model_name": "ProgressStyleModel",
            "_view_count": null,
            "_view_module": "@jupyter-widgets/base",
            "_view_module_version": "1.2.0",
            "_view_name": "StyleView",
            "bar_color": null,
            "description_width": ""
          }
        },
        "682b422e34d84d21a604f590bf753870": {
          "model_module": "@jupyter-widgets/base",
          "model_name": "LayoutModel",
          "model_module_version": "1.2.0",
          "state": {
            "_model_module": "@jupyter-widgets/base",
            "_model_module_version": "1.2.0",
            "_model_name": "LayoutModel",
            "_view_count": null,
            "_view_module": "@jupyter-widgets/base",
            "_view_module_version": "1.2.0",
            "_view_name": "LayoutView",
            "align_content": null,
            "align_items": null,
            "align_self": null,
            "border": null,
            "bottom": null,
            "display": null,
            "flex": null,
            "flex_flow": null,
            "grid_area": null,
            "grid_auto_columns": null,
            "grid_auto_flow": null,
            "grid_auto_rows": null,
            "grid_column": null,
            "grid_gap": null,
            "grid_row": null,
            "grid_template_areas": null,
            "grid_template_columns": null,
            "grid_template_rows": null,
            "height": null,
            "justify_content": null,
            "justify_items": null,
            "left": null,
            "margin": null,
            "max_height": null,
            "max_width": null,
            "min_height": null,
            "min_width": null,
            "object_fit": null,
            "object_position": null,
            "order": null,
            "overflow": null,
            "overflow_x": null,
            "overflow_y": null,
            "padding": null,
            "right": null,
            "top": null,
            "visibility": null,
            "width": null
          }
        },
        "0dc69d284aa34a5b911210a946c9a335": {
          "model_module": "@jupyter-widgets/controls",
          "model_name": "DescriptionStyleModel",
          "model_module_version": "1.5.0",
          "state": {
            "_model_module": "@jupyter-widgets/controls",
            "_model_module_version": "1.5.0",
            "_model_name": "DescriptionStyleModel",
            "_view_count": null,
            "_view_module": "@jupyter-widgets/base",
            "_view_module_version": "1.2.0",
            "_view_name": "StyleView",
            "description_width": ""
          }
        }
      }
    }
  },
  "nbformat": 4,
  "nbformat_minor": 0
}